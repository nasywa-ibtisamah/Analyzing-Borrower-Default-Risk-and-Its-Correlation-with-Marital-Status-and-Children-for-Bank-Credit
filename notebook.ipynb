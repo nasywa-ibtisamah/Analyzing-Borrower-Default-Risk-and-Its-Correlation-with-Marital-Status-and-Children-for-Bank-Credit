{
 "cells": [
  {
   "attachments": {},
   "cell_type": "markdown",
   "metadata": {},
   "source": [
    "# Contents <a id='back'></a>\n",
    "\n",
    "* [Introduction](#intro)\n",
    "* [1. Data Overview](#data_review)\n",
    "    * [Conclusions](#data_review_conclusions)\n",
    "* [2. Data Pre-Processing](#data_preprocessing)\n",
    "    * [2.1 Data Transformation](#transformation)\n",
    "    * [2.2 Duplicates](#missing_values)\n",
    "    * [2.3 Data Categorization](#categorization)\n",
    "    * [2.4 Missing Values](#missing_values)\n",
    "* [3. Hypothesis](#hypotheses)\n",
    "    * [3.1 Hypothesis 1: Is there a correlation between having children and paying back on time?](#children)\n",
    "    * [3.2 Hypothesis 2: Is there a correlation between family status and paying back on time?](#family_status)\n",
    "    * [3.3 Hypothesis 3: Is there a correlation between income level and paying back on time?](#income_level)\n",
    "    * [3.4 Hypothesis 4: Is there a correlation between the length of employment and paying back on time?](#length_of_employment)\n",
    "    * [3.5 Hypothesis 5:  Is there a correlation between age and paying back on time?](#age)\n",
    "    * [3.6 Hypothesis 6:  How does the loan purpose affect the automatic rate?](#purpose)\n",
    "* [General Conclusion](#end)"
   ]
  },
  {
   "attachments": {},
   "cell_type": "markdown",
   "metadata": {},
   "source": [
    "## Introduction <a id='intro'></a>\n",
    "This project is to prepare a report for the credit department of a bank. I will find out the influence of a customer's marital status and number of children on the probability of timely loan repayment. The bank already has some data regarding the creditworthiness of customers.\n",
    "\n",
    "\n",
    "### Objective: \n",
    "To make a report that will be considered when making a credit assessment for prospective customers. A credit assessment is used to evaluate the ability of potential borrowers to repay their loans.\n",
    "\n",
    "### Steps\n",
    "This project will consist of three stages:\n",
    "\n",
    "1. Exploratory Data Analysis\n",
    "2. Data Preprocessing (Handle Missing Values, Handle Outliers, Handle Duplicate Data)\n",
    "3. Hypothesis Testing\n",
    "\n",
    " \n",
    "[Back to Contents](#back)"
   ]
  },
  {
   "attachments": {},
   "cell_type": "markdown",
   "metadata": {},
   "source": [
    "## 1. Data Overview <a id='data_review'></a>\n",
    "\n",
    "[Back to Contents](#back)\n",
    "\n",
    "Start by importing libraries and loading the data. "
   ]
  },
  {
   "cell_type": "code",
   "execution_count": 1,
   "metadata": {},
   "outputs": [],
   "source": [
    "import pandas as pd\n",
    "import matplotlib.pyplot as plt\n",
    "import seaborn as sns"
   ]
  },
  {
   "cell_type": "code",
   "execution_count": 2,
   "metadata": {},
   "outputs": [
    {
     "data": {
      "text/html": [
       "<div>\n",
       "<style scoped>\n",
       "    .dataframe tbody tr th:only-of-type {\n",
       "        vertical-align: middle;\n",
       "    }\n",
       "\n",
       "    .dataframe tbody tr th {\n",
       "        vertical-align: top;\n",
       "    }\n",
       "\n",
       "    .dataframe thead th {\n",
       "        text-align: right;\n",
       "    }\n",
       "</style>\n",
       "<table border=\"1\" class=\"dataframe\">\n",
       "  <thead>\n",
       "    <tr style=\"text-align: right;\">\n",
       "      <th></th>\n",
       "      <th>children</th>\n",
       "      <th>days_employed</th>\n",
       "      <th>dob_years</th>\n",
       "      <th>education_id</th>\n",
       "      <th>family_status_id</th>\n",
       "      <th>debt</th>\n",
       "      <th>total_income</th>\n",
       "    </tr>\n",
       "  </thead>\n",
       "  <tbody>\n",
       "    <tr>\n",
       "      <th>count</th>\n",
       "      <td>21525.000000</td>\n",
       "      <td>19351.000000</td>\n",
       "      <td>21525.000000</td>\n",
       "      <td>21525.000000</td>\n",
       "      <td>21525.000000</td>\n",
       "      <td>21525.000000</td>\n",
       "      <td>19351.000000</td>\n",
       "    </tr>\n",
       "    <tr>\n",
       "      <th>mean</th>\n",
       "      <td>0.538908</td>\n",
       "      <td>63046.497661</td>\n",
       "      <td>43.293380</td>\n",
       "      <td>0.817236</td>\n",
       "      <td>0.972544</td>\n",
       "      <td>0.080883</td>\n",
       "      <td>26787.568355</td>\n",
       "    </tr>\n",
       "    <tr>\n",
       "      <th>std</th>\n",
       "      <td>1.381587</td>\n",
       "      <td>140827.311974</td>\n",
       "      <td>12.574584</td>\n",
       "      <td>0.548138</td>\n",
       "      <td>1.420324</td>\n",
       "      <td>0.272661</td>\n",
       "      <td>16475.450632</td>\n",
       "    </tr>\n",
       "    <tr>\n",
       "      <th>min</th>\n",
       "      <td>-1.000000</td>\n",
       "      <td>-18388.949901</td>\n",
       "      <td>0.000000</td>\n",
       "      <td>0.000000</td>\n",
       "      <td>0.000000</td>\n",
       "      <td>0.000000</td>\n",
       "      <td>3306.762000</td>\n",
       "    </tr>\n",
       "    <tr>\n",
       "      <th>25%</th>\n",
       "      <td>0.000000</td>\n",
       "      <td>-2747.423625</td>\n",
       "      <td>33.000000</td>\n",
       "      <td>1.000000</td>\n",
       "      <td>0.000000</td>\n",
       "      <td>0.000000</td>\n",
       "      <td>16488.504500</td>\n",
       "    </tr>\n",
       "    <tr>\n",
       "      <th>50%</th>\n",
       "      <td>0.000000</td>\n",
       "      <td>-1203.369529</td>\n",
       "      <td>42.000000</td>\n",
       "      <td>1.000000</td>\n",
       "      <td>0.000000</td>\n",
       "      <td>0.000000</td>\n",
       "      <td>23202.870000</td>\n",
       "    </tr>\n",
       "    <tr>\n",
       "      <th>75%</th>\n",
       "      <td>1.000000</td>\n",
       "      <td>-291.095954</td>\n",
       "      <td>53.000000</td>\n",
       "      <td>1.000000</td>\n",
       "      <td>1.000000</td>\n",
       "      <td>0.000000</td>\n",
       "      <td>32549.611000</td>\n",
       "    </tr>\n",
       "    <tr>\n",
       "      <th>max</th>\n",
       "      <td>20.000000</td>\n",
       "      <td>401755.400475</td>\n",
       "      <td>75.000000</td>\n",
       "      <td>4.000000</td>\n",
       "      <td>4.000000</td>\n",
       "      <td>1.000000</td>\n",
       "      <td>362496.645000</td>\n",
       "    </tr>\n",
       "  </tbody>\n",
       "</table>\n",
       "</div>"
      ],
      "text/plain": [
       "           children  days_employed     dob_years  education_id  \\\n",
       "count  21525.000000   19351.000000  21525.000000  21525.000000   \n",
       "mean       0.538908   63046.497661     43.293380      0.817236   \n",
       "std        1.381587  140827.311974     12.574584      0.548138   \n",
       "min       -1.000000  -18388.949901      0.000000      0.000000   \n",
       "25%        0.000000   -2747.423625     33.000000      1.000000   \n",
       "50%        0.000000   -1203.369529     42.000000      1.000000   \n",
       "75%        1.000000    -291.095954     53.000000      1.000000   \n",
       "max       20.000000  401755.400475     75.000000      4.000000   \n",
       "\n",
       "       family_status_id          debt   total_income  \n",
       "count      21525.000000  21525.000000   19351.000000  \n",
       "mean           0.972544      0.080883   26787.568355  \n",
       "std            1.420324      0.272661   16475.450632  \n",
       "min            0.000000      0.000000    3306.762000  \n",
       "25%            0.000000      0.000000   16488.504500  \n",
       "50%            0.000000      0.000000   23202.870000  \n",
       "75%            1.000000      0.000000   32549.611000  \n",
       "max            4.000000      1.000000  362496.645000  "
      ]
     },
     "execution_count": 2,
     "metadata": {},
     "output_type": "execute_result"
    }
   ],
   "source": [
    "# load the data\n",
    "df = pd.read_csv('data/credit_scoring_eng.csv')\n",
    "df.describe()"
   ]
  },
  {
   "cell_type": "code",
   "execution_count": 3,
   "metadata": {},
   "outputs": [
    {
     "data": {
      "text/plain": [
       "(21525, 12)"
      ]
     },
     "execution_count": 3,
     "metadata": {},
     "output_type": "execute_result"
    }
   ],
   "source": [
    "df.shape"
   ]
  },
  {
   "cell_type": "code",
   "execution_count": 4,
   "metadata": {
    "scrolled": true
   },
   "outputs": [
    {
     "data": {
      "text/html": [
       "<div>\n",
       "<style scoped>\n",
       "    .dataframe tbody tr th:only-of-type {\n",
       "        vertical-align: middle;\n",
       "    }\n",
       "\n",
       "    .dataframe tbody tr th {\n",
       "        vertical-align: top;\n",
       "    }\n",
       "\n",
       "    .dataframe thead th {\n",
       "        text-align: right;\n",
       "    }\n",
       "</style>\n",
       "<table border=\"1\" class=\"dataframe\">\n",
       "  <thead>\n",
       "    <tr style=\"text-align: right;\">\n",
       "      <th></th>\n",
       "      <th>children</th>\n",
       "      <th>days_employed</th>\n",
       "      <th>dob_years</th>\n",
       "      <th>education</th>\n",
       "      <th>education_id</th>\n",
       "      <th>family_status</th>\n",
       "      <th>family_status_id</th>\n",
       "      <th>gender</th>\n",
       "      <th>income_type</th>\n",
       "      <th>debt</th>\n",
       "      <th>total_income</th>\n",
       "      <th>purpose</th>\n",
       "    </tr>\n",
       "  </thead>\n",
       "  <tbody>\n",
       "    <tr>\n",
       "      <th>0</th>\n",
       "      <td>1</td>\n",
       "      <td>-8437.673028</td>\n",
       "      <td>42</td>\n",
       "      <td>bachelor's degree</td>\n",
       "      <td>0</td>\n",
       "      <td>married</td>\n",
       "      <td>0</td>\n",
       "      <td>F</td>\n",
       "      <td>employee</td>\n",
       "      <td>0</td>\n",
       "      <td>40620.102</td>\n",
       "      <td>purchase of the house</td>\n",
       "    </tr>\n",
       "    <tr>\n",
       "      <th>1</th>\n",
       "      <td>1</td>\n",
       "      <td>-4024.803754</td>\n",
       "      <td>36</td>\n",
       "      <td>secondary education</td>\n",
       "      <td>1</td>\n",
       "      <td>married</td>\n",
       "      <td>0</td>\n",
       "      <td>F</td>\n",
       "      <td>employee</td>\n",
       "      <td>0</td>\n",
       "      <td>17932.802</td>\n",
       "      <td>car purchase</td>\n",
       "    </tr>\n",
       "    <tr>\n",
       "      <th>2</th>\n",
       "      <td>0</td>\n",
       "      <td>-5623.422610</td>\n",
       "      <td>33</td>\n",
       "      <td>Secondary Education</td>\n",
       "      <td>1</td>\n",
       "      <td>married</td>\n",
       "      <td>0</td>\n",
       "      <td>M</td>\n",
       "      <td>employee</td>\n",
       "      <td>0</td>\n",
       "      <td>23341.752</td>\n",
       "      <td>purchase of the house</td>\n",
       "    </tr>\n",
       "    <tr>\n",
       "      <th>3</th>\n",
       "      <td>3</td>\n",
       "      <td>-4124.747207</td>\n",
       "      <td>32</td>\n",
       "      <td>secondary education</td>\n",
       "      <td>1</td>\n",
       "      <td>married</td>\n",
       "      <td>0</td>\n",
       "      <td>M</td>\n",
       "      <td>employee</td>\n",
       "      <td>0</td>\n",
       "      <td>42820.568</td>\n",
       "      <td>supplementary education</td>\n",
       "    </tr>\n",
       "    <tr>\n",
       "      <th>4</th>\n",
       "      <td>0</td>\n",
       "      <td>340266.072047</td>\n",
       "      <td>53</td>\n",
       "      <td>secondary education</td>\n",
       "      <td>1</td>\n",
       "      <td>civil partnership</td>\n",
       "      <td>1</td>\n",
       "      <td>F</td>\n",
       "      <td>retiree</td>\n",
       "      <td>0</td>\n",
       "      <td>25378.572</td>\n",
       "      <td>to have a wedding</td>\n",
       "    </tr>\n",
       "  </tbody>\n",
       "</table>\n",
       "</div>"
      ],
      "text/plain": [
       "   children  days_employed  dob_years            education  education_id  \\\n",
       "0         1   -8437.673028         42    bachelor's degree             0   \n",
       "1         1   -4024.803754         36  secondary education             1   \n",
       "2         0   -5623.422610         33  Secondary Education             1   \n",
       "3         3   -4124.747207         32  secondary education             1   \n",
       "4         0  340266.072047         53  secondary education             1   \n",
       "\n",
       "       family_status  family_status_id gender income_type  debt  total_income  \\\n",
       "0            married                 0      F    employee     0     40620.102   \n",
       "1            married                 0      F    employee     0     17932.802   \n",
       "2            married                 0      M    employee     0     23341.752   \n",
       "3            married                 0      M    employee     0     42820.568   \n",
       "4  civil partnership                 1      F     retiree     0     25378.572   \n",
       "\n",
       "                   purpose  \n",
       "0    purchase of the house  \n",
       "1             car purchase  \n",
       "2    purchase of the house  \n",
       "3  supplementary education  \n",
       "4        to have a wedding  "
      ]
     },
     "execution_count": 4,
     "metadata": {},
     "output_type": "execute_result"
    }
   ],
   "source": [
    "df.head(5)"
   ]
  },
  {
   "cell_type": "code",
   "execution_count": 5,
   "metadata": {
    "scrolled": false
   },
   "outputs": [
    {
     "name": "stdout",
     "output_type": "stream",
     "text": [
      "<class 'pandas.core.frame.DataFrame'>\n",
      "RangeIndex: 21525 entries, 0 to 21524\n",
      "Data columns (total 12 columns):\n",
      " #   Column            Non-Null Count  Dtype  \n",
      "---  ------            --------------  -----  \n",
      " 0   children          21525 non-null  int64  \n",
      " 1   days_employed     19351 non-null  float64\n",
      " 2   dob_years         21525 non-null  int64  \n",
      " 3   education         21525 non-null  object \n",
      " 4   education_id      21525 non-null  int64  \n",
      " 5   family_status     21525 non-null  object \n",
      " 6   family_status_id  21525 non-null  int64  \n",
      " 7   gender            21525 non-null  object \n",
      " 8   income_type       21525 non-null  object \n",
      " 9   debt              21525 non-null  int64  \n",
      " 10  total_income      19351 non-null  float64\n",
      " 11  purpose           21525 non-null  object \n",
      "dtypes: float64(2), int64(5), object(5)\n",
      "memory usage: 2.0+ MB\n"
     ]
    }
   ],
   "source": [
    "df.info()"
   ]
  },
  {
   "cell_type": "markdown",
   "metadata": {},
   "source": [
    "**Findings**\n",
    "\n",
    "There are missing values in the columns days_employed and total_income, because the number of rows should be 21,525"
   ]
  },
  {
   "cell_type": "code",
   "execution_count": 6,
   "metadata": {
    "scrolled": true
   },
   "outputs": [
    {
     "data": {
      "text/html": [
       "<div>\n",
       "<style scoped>\n",
       "    .dataframe tbody tr th:only-of-type {\n",
       "        vertical-align: middle;\n",
       "    }\n",
       "\n",
       "    .dataframe tbody tr th {\n",
       "        vertical-align: top;\n",
       "    }\n",
       "\n",
       "    .dataframe thead th {\n",
       "        text-align: right;\n",
       "    }\n",
       "</style>\n",
       "<table border=\"1\" class=\"dataframe\">\n",
       "  <thead>\n",
       "    <tr style=\"text-align: right;\">\n",
       "      <th></th>\n",
       "      <th>children</th>\n",
       "      <th>days_employed</th>\n",
       "      <th>dob_years</th>\n",
       "      <th>education</th>\n",
       "      <th>education_id</th>\n",
       "      <th>family_status</th>\n",
       "      <th>family_status_id</th>\n",
       "      <th>gender</th>\n",
       "      <th>income_type</th>\n",
       "      <th>debt</th>\n",
       "      <th>total_income</th>\n",
       "      <th>purpose</th>\n",
       "    </tr>\n",
       "  </thead>\n",
       "  <tbody>\n",
       "    <tr>\n",
       "      <th>12</th>\n",
       "      <td>0</td>\n",
       "      <td>NaN</td>\n",
       "      <td>65</td>\n",
       "      <td>secondary education</td>\n",
       "      <td>1</td>\n",
       "      <td>civil partnership</td>\n",
       "      <td>1</td>\n",
       "      <td>M</td>\n",
       "      <td>retiree</td>\n",
       "      <td>0</td>\n",
       "      <td>NaN</td>\n",
       "      <td>to have a wedding</td>\n",
       "    </tr>\n",
       "    <tr>\n",
       "      <th>26</th>\n",
       "      <td>0</td>\n",
       "      <td>NaN</td>\n",
       "      <td>41</td>\n",
       "      <td>secondary education</td>\n",
       "      <td>1</td>\n",
       "      <td>married</td>\n",
       "      <td>0</td>\n",
       "      <td>M</td>\n",
       "      <td>civil servant</td>\n",
       "      <td>0</td>\n",
       "      <td>NaN</td>\n",
       "      <td>education</td>\n",
       "    </tr>\n",
       "    <tr>\n",
       "      <th>29</th>\n",
       "      <td>0</td>\n",
       "      <td>NaN</td>\n",
       "      <td>63</td>\n",
       "      <td>secondary education</td>\n",
       "      <td>1</td>\n",
       "      <td>unmarried</td>\n",
       "      <td>4</td>\n",
       "      <td>F</td>\n",
       "      <td>retiree</td>\n",
       "      <td>0</td>\n",
       "      <td>NaN</td>\n",
       "      <td>building a real estate</td>\n",
       "    </tr>\n",
       "    <tr>\n",
       "      <th>41</th>\n",
       "      <td>0</td>\n",
       "      <td>NaN</td>\n",
       "      <td>50</td>\n",
       "      <td>secondary education</td>\n",
       "      <td>1</td>\n",
       "      <td>married</td>\n",
       "      <td>0</td>\n",
       "      <td>F</td>\n",
       "      <td>civil servant</td>\n",
       "      <td>0</td>\n",
       "      <td>NaN</td>\n",
       "      <td>second-hand car purchase</td>\n",
       "    </tr>\n",
       "    <tr>\n",
       "      <th>55</th>\n",
       "      <td>0</td>\n",
       "      <td>NaN</td>\n",
       "      <td>54</td>\n",
       "      <td>secondary education</td>\n",
       "      <td>1</td>\n",
       "      <td>civil partnership</td>\n",
       "      <td>1</td>\n",
       "      <td>F</td>\n",
       "      <td>retiree</td>\n",
       "      <td>1</td>\n",
       "      <td>NaN</td>\n",
       "      <td>to have a wedding</td>\n",
       "    </tr>\n",
       "    <tr>\n",
       "      <th>...</th>\n",
       "      <td>...</td>\n",
       "      <td>...</td>\n",
       "      <td>...</td>\n",
       "      <td>...</td>\n",
       "      <td>...</td>\n",
       "      <td>...</td>\n",
       "      <td>...</td>\n",
       "      <td>...</td>\n",
       "      <td>...</td>\n",
       "      <td>...</td>\n",
       "      <td>...</td>\n",
       "      <td>...</td>\n",
       "    </tr>\n",
       "    <tr>\n",
       "      <th>21489</th>\n",
       "      <td>2</td>\n",
       "      <td>NaN</td>\n",
       "      <td>47</td>\n",
       "      <td>Secondary Education</td>\n",
       "      <td>1</td>\n",
       "      <td>married</td>\n",
       "      <td>0</td>\n",
       "      <td>M</td>\n",
       "      <td>business</td>\n",
       "      <td>0</td>\n",
       "      <td>NaN</td>\n",
       "      <td>purchase of a car</td>\n",
       "    </tr>\n",
       "    <tr>\n",
       "      <th>21495</th>\n",
       "      <td>1</td>\n",
       "      <td>NaN</td>\n",
       "      <td>50</td>\n",
       "      <td>secondary education</td>\n",
       "      <td>1</td>\n",
       "      <td>civil partnership</td>\n",
       "      <td>1</td>\n",
       "      <td>F</td>\n",
       "      <td>employee</td>\n",
       "      <td>0</td>\n",
       "      <td>NaN</td>\n",
       "      <td>wedding ceremony</td>\n",
       "    </tr>\n",
       "    <tr>\n",
       "      <th>21497</th>\n",
       "      <td>0</td>\n",
       "      <td>NaN</td>\n",
       "      <td>48</td>\n",
       "      <td>BACHELOR'S DEGREE</td>\n",
       "      <td>0</td>\n",
       "      <td>married</td>\n",
       "      <td>0</td>\n",
       "      <td>F</td>\n",
       "      <td>business</td>\n",
       "      <td>0</td>\n",
       "      <td>NaN</td>\n",
       "      <td>building a property</td>\n",
       "    </tr>\n",
       "    <tr>\n",
       "      <th>21502</th>\n",
       "      <td>1</td>\n",
       "      <td>NaN</td>\n",
       "      <td>42</td>\n",
       "      <td>secondary education</td>\n",
       "      <td>1</td>\n",
       "      <td>married</td>\n",
       "      <td>0</td>\n",
       "      <td>F</td>\n",
       "      <td>employee</td>\n",
       "      <td>0</td>\n",
       "      <td>NaN</td>\n",
       "      <td>building a real estate</td>\n",
       "    </tr>\n",
       "    <tr>\n",
       "      <th>21510</th>\n",
       "      <td>2</td>\n",
       "      <td>NaN</td>\n",
       "      <td>28</td>\n",
       "      <td>secondary education</td>\n",
       "      <td>1</td>\n",
       "      <td>married</td>\n",
       "      <td>0</td>\n",
       "      <td>F</td>\n",
       "      <td>employee</td>\n",
       "      <td>0</td>\n",
       "      <td>NaN</td>\n",
       "      <td>car purchase</td>\n",
       "    </tr>\n",
       "  </tbody>\n",
       "</table>\n",
       "<p>2174 rows × 12 columns</p>\n",
       "</div>"
      ],
      "text/plain": [
       "       children  days_employed  dob_years            education  education_id  \\\n",
       "12            0            NaN         65  secondary education             1   \n",
       "26            0            NaN         41  secondary education             1   \n",
       "29            0            NaN         63  secondary education             1   \n",
       "41            0            NaN         50  secondary education             1   \n",
       "55            0            NaN         54  secondary education             1   \n",
       "...         ...            ...        ...                  ...           ...   \n",
       "21489         2            NaN         47  Secondary Education             1   \n",
       "21495         1            NaN         50  secondary education             1   \n",
       "21497         0            NaN         48    BACHELOR'S DEGREE             0   \n",
       "21502         1            NaN         42  secondary education             1   \n",
       "21510         2            NaN         28  secondary education             1   \n",
       "\n",
       "           family_status  family_status_id gender    income_type  debt  \\\n",
       "12     civil partnership                 1      M        retiree     0   \n",
       "26               married                 0      M  civil servant     0   \n",
       "29             unmarried                 4      F        retiree     0   \n",
       "41               married                 0      F  civil servant     0   \n",
       "55     civil partnership                 1      F        retiree     1   \n",
       "...                  ...               ...    ...            ...   ...   \n",
       "21489            married                 0      M       business     0   \n",
       "21495  civil partnership                 1      F       employee     0   \n",
       "21497            married                 0      F       business     0   \n",
       "21502            married                 0      F       employee     0   \n",
       "21510            married                 0      F       employee     0   \n",
       "\n",
       "       total_income                   purpose  \n",
       "12              NaN         to have a wedding  \n",
       "26              NaN                 education  \n",
       "29              NaN    building a real estate  \n",
       "41              NaN  second-hand car purchase  \n",
       "55              NaN         to have a wedding  \n",
       "...             ...                       ...  \n",
       "21489           NaN         purchase of a car  \n",
       "21495           NaN          wedding ceremony  \n",
       "21497           NaN       building a property  \n",
       "21502           NaN    building a real estate  \n",
       "21510           NaN              car purchase  \n",
       "\n",
       "[2174 rows x 12 columns]"
      ]
     },
     "execution_count": 6,
     "metadata": {},
     "output_type": "execute_result"
    }
   ],
   "source": [
    "df_missing_values = df.loc[(df['days_employed'].isna()) & (df['total_income'].isna())]\n",
    "df_missing_values"
   ]
  },
  {
   "cell_type": "markdown",
   "metadata": {},
   "source": [
    "**Findings**\n",
    "\n",
    "1. In the displayed table, both columns appear to be symmetric. For example, in row 12, when days_employed = NaN, total_income is also NaN.\n",
    "2. This is further reinforced by the fact that there are 2174 rows where both days_employed and total_income have no values (missing values). The total count of missing values is 2174, confirming the symmetry in data loss."
   ]
  },
  {
   "cell_type": "code",
   "execution_count": 7,
   "metadata": {},
   "outputs": [
    {
     "data": {
      "text/plain": [
       "children            0.000000\n",
       "days_employed       0.100999\n",
       "dob_years           0.000000\n",
       "education           0.000000\n",
       "education_id        0.000000\n",
       "family_status       0.000000\n",
       "family_status_id    0.000000\n",
       "gender              0.000000\n",
       "income_type         0.000000\n",
       "debt                0.000000\n",
       "total_income        0.100999\n",
       "purpose             0.000000\n",
       "dtype: float64"
      ]
     },
     "execution_count": 7,
     "metadata": {},
     "output_type": "execute_result"
    }
   ],
   "source": [
    "df.isna().sum() / len(df)"
   ]
  },
  {
   "cell_type": "markdown",
   "metadata": {},
   "source": [
    "**Findings**\n",
    "\n",
    "The missing value percentage is 10%"
   ]
  },
  {
   "cell_type": "code",
   "execution_count": 8,
   "metadata": {},
   "outputs": [
    {
     "name": "stdout",
     "output_type": "stream",
     "text": [
      "children\n",
      "[-1, 0, 1, 2, 3, 4, 5, 20]\n",
      "\n",
      "dob_years\n",
      "[0, 19, 20, 21, 22, 23, 24, 25, 26, 27, 28, 29, 30, 31, 32, 33, 34, 35, 36, 37, 38, 39, 40, 41, 42, 43, 44, 45, 46, 47, 48, 49, 50, 51, 52, 53, 54, 55, 56, 57, 58, 59, 60, 61, 62, 63, 64, 65, 66, 67, 68, 69, 70, 71, 72, 73]\n",
      "\n",
      "education\n",
      "[\"BACHELOR'S DEGREE\", \"Bachelor's Degree\", 'PRIMARY EDUCATION', 'Primary Education', 'SECONDARY EDUCATION', 'SOME COLLEGE', 'Secondary Education', 'Some College', \"bachelor's degree\", 'primary education', 'secondary education', 'some college']\n",
      "\n",
      "family_status\n",
      "['civil partnership', 'divorced', 'married', 'unmarried', 'widow / widower']\n",
      "\n",
      "gender\n",
      "['F', 'M']\n",
      "\n",
      "income_type\n",
      "['business', 'civil servant', 'employee', 'entrepreneur', 'retiree']\n",
      "\n",
      "debt\n",
      "[0, 1]\n",
      "\n"
     ]
    }
   ],
   "source": [
    "columns_distribution = ['children', 'dob_years', 'education', 'family_status', 'gender', 'income_type', 'debt']\n",
    "for column in columns_distribution:\n",
    "    print(column)\n",
    "    print(sorted(df_missing_values[column].unique()))\n",
    "    print()"
   ]
  },
  {
   "cell_type": "markdown",
   "metadata": {},
   "source": [
    "**Findings in df_missing_values**\n",
    "\n",
    "1. In the \"children\" column, there are unusual values, namely -1 and 20.\n",
    "2. In the \"dob_years\" column, there is an unusual value, which is 0.\n",
    "3. In the \"education\" column, there are non-standard values, for example, \"SOME COLLEGE\" and \"Some College.\"\n",
    "4. In the filtered table's income_type, there are no 'student' or 'unemployed' job types. This makes sense because both of these job types do not involve employment, hence the data for days_employed and total_income are left empty."
   ]
  },
  {
   "cell_type": "code",
   "execution_count": 9,
   "metadata": {},
   "outputs": [
    {
     "name": "stdout",
     "output_type": "stream",
     "text": [
      "children\n",
      "[-1, 0, 1, 2, 3, 4, 5, 20]\n",
      "\n",
      "dob_years\n",
      "[0, 19, 20, 21, 22, 23, 24, 25, 26, 27, 28, 29, 30, 31, 32, 33, 34, 35, 36, 37, 38, 39, 40, 41, 42, 43, 44, 45, 46, 47, 48, 49, 50, 51, 52, 53, 54, 55, 56, 57, 58, 59, 60, 61, 62, 63, 64, 65, 66, 67, 68, 69, 70, 71, 72, 73, 74, 75]\n",
      "\n",
      "education\n",
      "[\"BACHELOR'S DEGREE\", \"Bachelor's Degree\", 'GRADUATE DEGREE', 'Graduate Degree', 'PRIMARY EDUCATION', 'Primary Education', 'SECONDARY EDUCATION', 'SOME COLLEGE', 'Secondary Education', 'Some College', \"bachelor's degree\", 'graduate degree', 'primary education', 'secondary education', 'some college']\n",
      "\n",
      "family_status\n",
      "['civil partnership', 'divorced', 'married', 'unmarried', 'widow / widower']\n",
      "\n",
      "gender\n",
      "['F', 'M', 'XNA']\n",
      "\n",
      "income_type\n",
      "['business', 'civil servant', 'employee', 'entrepreneur', 'paternity / maternity leave', 'retiree', 'student', 'unemployed']\n",
      "\n",
      "debt\n",
      "[0, 1]\n",
      "\n"
     ]
    }
   ],
   "source": [
    "columns_distribution = ['children', 'dob_years', 'education', 'family_status', 'gender', 'income_type', 'debt']\n",
    "for column in columns_distribution:\n",
    "    print(column)\n",
    "    print(sorted(df[column].unique()))\n",
    "    print()"
   ]
  },
  {
   "cell_type": "code",
   "execution_count": 10,
   "metadata": {},
   "outputs": [
    {
     "name": "stdout",
     "output_type": "stream",
     "text": [
      "dataset df:\n",
      "income_type\n",
      "employee                       11119\n",
      "business                        5085\n",
      "retiree                         3856\n",
      "civil servant                   1459\n",
      "unemployed                         2\n",
      "entrepreneur                       2\n",
      "student                            1\n",
      "paternity / maternity leave        1\n",
      "Name: count, dtype: int64\n",
      "\n",
      "dataset filtered:\n",
      "income_type\n",
      "employee         1105\n",
      "business          508\n",
      "retiree           413\n",
      "civil servant     147\n",
      "entrepreneur        1\n",
      "Name: count, dtype: int64\n"
     ]
    }
   ],
   "source": [
    "print('dataset df:')\n",
    "print(df['income_type'].value_counts())\n",
    "print()\n",
    "print('dataset filtered:')\n",
    "print((df_missing_values['income_type'].value_counts()))"
   ]
  },
  {
   "cell_type": "markdown",
   "metadata": {},
   "source": [
    "**Findings**\n",
    "1. The distribution in the dataset can be considered quite similar to the filtered dataset.\n",
    "2. However, there are several values that were not found in the filtered dataset, such as 'student,' 'unemployed,' and 'paternity/maternity leave' under the job type, which were not present in the filtered table.\n",
    "3. There are differences in the values in the education column.\n",
    "4. Most likely, the data in income_type and education are categories that are related to the missing values."
   ]
  },
  {
   "cell_type": "code",
   "execution_count": 11,
   "metadata": {},
   "outputs": [
    {
     "name": "stdout",
     "output_type": "stream",
     "text": [
      "dataset df: ['business', 'civil servant', 'employee', 'entrepreneur', 'paternity / maternity leave', 'retiree', 'student', 'unemployed']\n",
      "dataset filter: ['business', 'civil servant', 'employee', 'entrepreneur', 'retiree']\n"
     ]
    }
   ],
   "source": [
    "print('dataset df:', sorted(df['income_type'].unique()))\n",
    "print('dataset filter:', sorted(df_missing_values['income_type'].unique()))"
   ]
  },
  {
   "cell_type": "code",
   "execution_count": 12,
   "metadata": {},
   "outputs": [
    {
     "name": "stdout",
     "output_type": "stream",
     "text": [
      "dataset df: [\"bachelor's degree\", 'graduate degree', 'primary education', 'secondary education', 'some college']\n",
      "dataset filter: [\"bachelor's degree\", 'primary education', 'secondary education', 'some college']\n"
     ]
    }
   ],
   "source": [
    "print('dataset df:', sorted(df['education'].str.lower().unique()))\n",
    "print('dataset filter:', sorted(df_missing_values['education'].str.lower().unique()))"
   ]
  },
  {
   "cell_type": "code",
   "execution_count": 13,
   "metadata": {},
   "outputs": [
    {
     "data": {
      "image/png": "[encoded data removed]",
      "text/plain": [
       "<Figure size 1000x600 with 2 Axes>"
      ]
     },
     "metadata": {},
     "output_type": "display_data"
    }
   ],
   "source": [
    "# Visualizing Missing Data using a seaborn heatmap.\n",
    "plt.figure(figsize=(10,6))\n",
    "sns.heatmap(df.isna().transpose(),\n",
    "            cmap=\"YlGnBu\",\n",
    "            cbar_kws={'label': 'Missing Data'})\n",
    "plt.savefig(\"visualizing_missing_data_with_heatmap_Seaborn_Python.png\", dpi=100)"
   ]
  },
  {
   "cell_type": "markdown",
   "metadata": {},
   "source": [
    "**Findings:**\n",
    "\n",
    "Based on the data visualization, missing values are not random."
   ]
  },
  {
   "cell_type": "markdown",
   "metadata": {},
   "source": [
    "**Conclusion** <a id='data_review_conclusions'></a>\n",
    "\n",
    "1. Missing values form a pattern. The missing values are caused by job types where clients with the job types 'student' and 'unemployed' do not have any income, leading them to leave the 'days_employed' and 'total_income' columns empty.\n",
    "2. This conclusion is reinforced by the pattern shown in the seaborn heatmap, indicating that when the value in the 'days_employed' column is missing, the data in the same row for 'total_income' is also missing (symmetrical).\n",
    "\n",
    "**Steps to handle missing values issue**\n",
    "\n",
    "Background: Since the missing values are only present in the 'days_employed' and 'total_income' columns, and both of these columns have float data types, which fall under the Numeric/Ratio category, the missing data will be filled using statistical calculations such as mean, median, mode, etc.\n",
    "\n",
    "The following are the steps to resolve each data issue:\n",
    "1. Handling missing data > Filling missing values using statistical calculations.\n",
    "2. Identifying duplicate data > Removing duplicate entries.\n",
    "3. Standardizing spellings > for example: changing \"GRADUATE DEGREE\" to \"Graduate Degree.\"\n",
    "4. Identifying outliers > Removing outliers.\n",
    "5. Identifying incorrect data (negative 'days_employed,' age 0 but having income & job) -> Replacing incorrect values.\n",
    "\n",
    "[Back to Contents](#back)"
   ]
  },
  {
   "cell_type": "markdown",
   "metadata": {},
   "source": [
    "## 2. Data Preprocessing <a id='data_preprocessing'></a>\n",
    "\n",
    "[Back to Contents](#back)"
   ]
  },
  {
   "cell_type": "markdown",
   "metadata": {},
   "source": [
    "### 2.1 Data Transformation <a id='transformation'></a>"
   ]
  },
  {
   "cell_type": "markdown",
   "metadata": {},
   "source": [
    "#### education column"
   ]
  },
  {
   "cell_type": "code",
   "execution_count": 14,
   "metadata": {},
   "outputs": [
    {
     "data": {
      "text/plain": [
       "[\"BACHELOR'S DEGREE\",\n",
       " \"Bachelor's Degree\",\n",
       " 'GRADUATE DEGREE',\n",
       " 'Graduate Degree',\n",
       " 'PRIMARY EDUCATION',\n",
       " 'Primary Education',\n",
       " 'SECONDARY EDUCATION',\n",
       " 'SOME COLLEGE',\n",
       " 'Secondary Education',\n",
       " 'Some College',\n",
       " \"bachelor's degree\",\n",
       " 'graduate degree',\n",
       " 'primary education',\n",
       " 'secondary education',\n",
       " 'some college']"
      ]
     },
     "execution_count": 14,
     "metadata": {},
     "output_type": "execute_result"
    }
   ],
   "source": [
    "# 'education' column\n",
    "sorted(df['education'].unique())"
   ]
  },
  {
   "cell_type": "code",
   "execution_count": 15,
   "metadata": {
    "scrolled": true
   },
   "outputs": [],
   "source": [
    "# Standardizing spellings\n",
    "df['education'] = df['education'].str.lower()"
   ]
  },
  {
   "cell_type": "code",
   "execution_count": 16,
   "metadata": {
    "scrolled": true
   },
   "outputs": [
    {
     "data": {
      "text/plain": [
       "[\"bachelor's degree\",\n",
       " 'graduate degree',\n",
       " 'primary education',\n",
       " 'secondary education',\n",
       " 'some college']"
      ]
     },
     "execution_count": 16,
     "metadata": {},
     "output_type": "execute_result"
    }
   ],
   "source": [
    "# Verify the changes\n",
    "sorted(df['education'].unique())\n"
   ]
  },
  {
   "cell_type": "code",
   "execution_count": 17,
   "metadata": {},
   "outputs": [
    {
     "data": {
      "text/plain": [
       "21520"
      ]
     },
     "execution_count": 17,
     "metadata": {},
     "output_type": "execute_result"
    }
   ],
   "source": [
    "# Check duplicate data in column 'education'\n",
    "df['education'].duplicated().sum()"
   ]
  },
  {
   "cell_type": "code",
   "execution_count": 18,
   "metadata": {},
   "outputs": [
    {
     "data": {
      "text/plain": [
       "[-1, 0, 1, 2, 3, 4, 5, 20]"
      ]
     },
     "execution_count": 18,
     "metadata": {},
     "output_type": "execute_result"
    }
   ],
   "source": [
    "# Check data distribution in column children\n",
    "sorted(df['children'].unique())"
   ]
  },
  {
   "cell_type": "code",
   "execution_count": 19,
   "metadata": {},
   "outputs": [
    {
     "data": {
      "text/plain": [
       "0.005714285714285714"
      ]
     },
     "execution_count": 19,
     "metadata": {},
     "output_type": "execute_result"
    }
   ],
   "source": [
    "# Check the percentage\n",
    "len(df.loc[(df['children']== -1) | (df['children']== 20)]) / len(df)"
   ]
  },
  {
   "cell_type": "markdown",
   "metadata": {},
   "source": [
    "**Findings**\n",
    "1. As seen in the cell above, the percentage of problematic data is very small, which is 0.57%.\n",
    "2. Since these data points are considered outliers or inconsistent, they will be replaced with the median value."
   ]
  },
  {
   "cell_type": "markdown",
   "metadata": {},
   "source": [
    "#### children column"
   ]
  },
  {
   "cell_type": "code",
   "execution_count": 21,
   "metadata": {},
   "outputs": [
    {
     "data": {
      "text/plain": [
       "<Axes: >"
      ]
     },
     "execution_count": 21,
     "metadata": {},
     "output_type": "execute_result"
    },
    {
     "data": {
      "image/png": "[encoded data removed]",
      "text/plain": [
       "<Figure size 640x480 with 1 Axes>"
      ]
     },
     "metadata": {},
     "output_type": "display_data"
    }
   ],
   "source": [
    "# check outlier in children column\n",
    "sns.boxplot(df['children'])"
   ]
  },
  {
   "cell_type": "code",
   "execution_count": 22,
   "metadata": {},
   "outputs": [
    {
     "data": {
      "text/plain": [
       "count    21525.000000\n",
       "mean         0.538908\n",
       "std          1.381587\n",
       "min         -1.000000\n",
       "25%          0.000000\n",
       "50%          0.000000\n",
       "75%          1.000000\n",
       "max         20.000000\n",
       "Name: children, dtype: float64"
      ]
     },
     "execution_count": 22,
     "metadata": {},
     "output_type": "execute_result"
    }
   ],
   "source": [
    "# check statistical data in children\n",
    "df['children'].describe()"
   ]
  },
  {
   "cell_type": "markdown",
   "metadata": {},
   "source": [
    "**Findings**\n",
    "\n",
    "1. Based on the statistical data above, I will replace the value 20 with the value 2, assuming it was an input error.\n",
    "2. I will remove minus sign (-), assuming it was an input error"
   ]
  },
  {
   "cell_type": "code",
   "execution_count": 23,
   "metadata": {},
   "outputs": [],
   "source": [
    "condition_children = df['children']==20\n",
    "df['children'] = df['children'].mask(condition_children, 2)"
   ]
  },
  {
   "cell_type": "code",
   "execution_count": 24,
   "metadata": {},
   "outputs": [],
   "source": [
    "# remove minus sign\n",
    "df['children'] = abs(df['children'])"
   ]
  },
  {
   "cell_type": "code",
   "execution_count": 25,
   "metadata": {},
   "outputs": [
    {
     "data": {
      "text/plain": [
       "[0, 1, 2, 3, 4, 5]"
      ]
     },
     "execution_count": 25,
     "metadata": {},
     "output_type": "execute_result"
    }
   ],
   "source": [
    "# Verify the data\n",
    "sorted(df['children'].unique())"
   ]
  },
  {
   "cell_type": "markdown",
   "metadata": {},
   "source": [
    "#### days_employed column"
   ]
  },
  {
   "cell_type": "code",
   "execution_count": 26,
   "metadata": {},
   "outputs": [
    {
     "data": {
      "text/plain": [
       "array([-8437.67302776, -4024.80375385, -5623.42261023, ...,\n",
       "       -2113.3468877 , -3112.4817052 , -1984.50758853])"
      ]
     },
     "execution_count": 26,
     "metadata": {},
     "output_type": "execute_result"
    }
   ],
   "source": [
    "# Check data\n",
    "df['days_employed'].unique()"
   ]
  },
  {
   "cell_type": "code",
   "execution_count": 28,
   "metadata": {},
   "outputs": [
    {
     "data": {
      "text/plain": [
       "<Axes: >"
      ]
     },
     "execution_count": 28,
     "metadata": {},
     "output_type": "execute_result"
    },
    {
     "data": {
      "image/png": "[encoded data removed]",
      "text/plain": [
       "<Figure size 640x480 with 1 Axes>"
      ]
     },
     "metadata": {},
     "output_type": "display_data"
    }
   ],
   "source": [
    "# visualize the data\n",
    "sns.boxplot(df['days_employed'])"
   ]
  },
  {
   "cell_type": "markdown",
   "metadata": {},
   "source": [
    "**Findings**\n",
    "\n",
    "Problematic data is identified as data with a negative sign and values that are too large (outliers)."
   ]
  },
  {
   "cell_type": "code",
   "execution_count": 29,
   "metadata": {},
   "outputs": [
    {
     "data": {
      "text/plain": [
       "0.8990011614401858"
      ]
     },
     "execution_count": 29,
     "metadata": {},
     "output_type": "execute_result"
    }
   ],
   "source": [
    "# check percentage\n",
    "len(df.loc[(df['days_employed'] < 0 ) | (df['days_employed'] > 200000)]) / len(df)"
   ]
  },
  {
   "cell_type": "markdown",
   "metadata": {},
   "source": [
    "**Findings**\n",
    "\n",
    "1. There are 2 issues identified in the 'days_employed' column:\n",
    "    - Too many digits after the decimal point.\n",
    "    - Existence of negative values and outliers, with a high percentage of rows having these conditions, approximately 89%.\n",
    "\n",
    "2. The steps to solve these issues are as follows:\n",
    "    - Remove the minus sign (-).\n",
    "    - Perform rounding.\n",
    "    - Replace the outlier values."
   ]
  },
  {
   "cell_type": "code",
   "execution_count": 30,
   "metadata": {},
   "outputs": [],
   "source": [
    "# remove minus sign (-), assuming it was an input error\n",
    "df['days_employed'] = abs(df['days_employed'])"
   ]
  },
  {
   "cell_type": "code",
   "execution_count": 31,
   "metadata": {},
   "outputs": [],
   "source": [
    "# round \n",
    "df['days_employed'] = round(df['days_employed'],0)"
   ]
  },
  {
   "cell_type": "code",
   "execution_count": 32,
   "metadata": {},
   "outputs": [
    {
     "data": {
      "text/plain": [
       "count     19351.000000\n",
       "mean      66914.727973\n",
       "std      139030.879631\n",
       "min          24.000000\n",
       "25%         927.000000\n",
       "50%        2194.000000\n",
       "75%        5538.000000\n",
       "max      401755.000000\n",
       "Name: days_employed, dtype: float64"
      ]
     },
     "execution_count": 32,
     "metadata": {},
     "output_type": "execute_result"
    }
   ],
   "source": [
    "# check data distribution\n",
    "df['days_employed'].describe()"
   ]
  },
  {
   "cell_type": "markdown",
   "metadata": {},
   "source": [
    "**Findings**\n",
    "\n",
    "The mean value does not represent the data as it is mixed with outliers.\n",
    "Therefore, the replacement of outliers will be done using the median value."
   ]
  },
  {
   "cell_type": "code",
   "execution_count": 33,
   "metadata": {},
   "outputs": [],
   "source": [
    "# Replace outlier with median\n",
    "condition_de = (df['days_employed'] > 200000) & (df['days_employed'].notnull())\n",
    "df['days_employed'] = df['days_employed'].mask(condition_de, df['days_employed'].median())"
   ]
  },
  {
   "cell_type": "code",
   "execution_count": 34,
   "metadata": {},
   "outputs": [
    {
     "data": {
      "text/plain": [
       "array([8438., 4025., 5623., ...,  921., 8799., 9929.])"
      ]
     },
     "execution_count": 34,
     "metadata": {},
     "output_type": "execute_result"
    }
   ],
   "source": [
    "# verify the data\n",
    "df['days_employed'].unique()"
   ]
  },
  {
   "cell_type": "code",
   "execution_count": 36,
   "metadata": {},
   "outputs": [
    {
     "data": {
      "text/plain": [
       "<Axes: >"
      ]
     },
     "execution_count": 36,
     "metadata": {},
     "output_type": "execute_result"
    },
    {
     "data": {
      "image/png": "[encoded data removed]",
      "text/plain": [
       "<Figure size 640x480 with 1 Axes>"
      ]
     },
     "metadata": {},
     "output_type": "display_data"
    }
   ],
   "source": [
    "# visualize the data\n",
    "sns.boxplot(df['days_employed'])"
   ]
  },
  {
   "cell_type": "markdown",
   "metadata": {},
   "source": [
    "#### dob_years column"
   ]
  },
  {
   "cell_type": "code",
   "execution_count": 37,
   "metadata": {
    "scrolled": true
   },
   "outputs": [
    {
     "data": {
      "text/plain": [
       "[0,\n",
       " 19,\n",
       " 20,\n",
       " 21,\n",
       " 22,\n",
       " 23,\n",
       " 24,\n",
       " 25,\n",
       " 26,\n",
       " 27,\n",
       " 28,\n",
       " 29,\n",
       " 30,\n",
       " 31,\n",
       " 32,\n",
       " 33,\n",
       " 34,\n",
       " 35,\n",
       " 36,\n",
       " 37,\n",
       " 38,\n",
       " 39,\n",
       " 40,\n",
       " 41,\n",
       " 42,\n",
       " 43,\n",
       " 44,\n",
       " 45,\n",
       " 46,\n",
       " 47,\n",
       " 48,\n",
       " 49,\n",
       " 50,\n",
       " 51,\n",
       " 52,\n",
       " 53,\n",
       " 54,\n",
       " 55,\n",
       " 56,\n",
       " 57,\n",
       " 58,\n",
       " 59,\n",
       " 60,\n",
       " 61,\n",
       " 62,\n",
       " 63,\n",
       " 64,\n",
       " 65,\n",
       " 66,\n",
       " 67,\n",
       " 68,\n",
       " 69,\n",
       " 70,\n",
       " 71,\n",
       " 72,\n",
       " 73,\n",
       " 74,\n",
       " 75]"
      ]
     },
     "execution_count": 37,
     "metadata": {},
     "output_type": "execute_result"
    }
   ],
   "source": [
    "# check data\n",
    "sorted(df['dob_years'].unique())"
   ]
  },
  {
   "cell_type": "markdown",
   "metadata": {},
   "source": [
    "**Findings**\n",
    "\n",
    "There is an issue with the data where 'dob_years' (date of birth years) is equal to 0 because it is not possible for someone to apply for credit at the age of 0."
   ]
  },
  {
   "cell_type": "code",
   "execution_count": 38,
   "metadata": {},
   "outputs": [
    {
     "data": {
      "text/plain": [
       "count    21525.000000\n",
       "mean        43.293380\n",
       "std         12.574584\n",
       "min          0.000000\n",
       "25%         33.000000\n",
       "50%         42.000000\n",
       "75%         53.000000\n",
       "max         75.000000\n",
       "Name: dob_years, dtype: float64"
      ]
     },
     "execution_count": 38,
     "metadata": {},
     "output_type": "execute_result"
    }
   ],
   "source": [
    "# check statistical data\n",
    "df['dob_years'].describe()"
   ]
  },
  {
   "cell_type": "markdown",
   "metadata": {},
   "source": [
    "**Findings**\n",
    "\n",
    "Since the mean and median values are close, we will use the mean value to replace the value of 0."
   ]
  },
  {
   "cell_type": "code",
   "execution_count": 39,
   "metadata": {},
   "outputs": [],
   "source": [
    "# replace 0 value\n",
    "condition_dob = df['dob_years']==0\n",
    "df['dob_years'] = df['dob_years'].mask(condition_dob, df['dob_years'].median())"
   ]
  },
  {
   "cell_type": "code",
   "execution_count": 40,
   "metadata": {},
   "outputs": [
    {
     "data": {
      "text/plain": [
       "array([42, 36, 33, 32, 53, 27, 43, 50, 35, 41, 40, 65, 54, 56, 26, 48, 24,\n",
       "       21, 57, 67, 28, 63, 62, 47, 34, 68, 25, 31, 30, 20, 49, 37, 45, 61,\n",
       "       64, 44, 52, 46, 23, 38, 39, 51, 59, 29, 60, 55, 58, 71, 22, 73, 66,\n",
       "       69, 19, 72, 70, 74, 75])"
      ]
     },
     "execution_count": 40,
     "metadata": {},
     "output_type": "execute_result"
    }
   ],
   "source": [
    "# verify the data\n",
    "df['dob_years'].unique()"
   ]
  },
  {
   "cell_type": "markdown",
   "metadata": {},
   "source": [
    "#### family_status column"
   ]
  },
  {
   "cell_type": "code",
   "execution_count": 42,
   "metadata": {},
   "outputs": [
    {
     "data": {
      "text/plain": [
       "array(['married', 'civil partnership', 'widow / widower', 'divorced',\n",
       "       'unmarried'], dtype=object)"
      ]
     },
     "execution_count": 42,
     "metadata": {},
     "output_type": "execute_result"
    }
   ],
   "source": [
    "# check data\n",
    "df['family_status'].unique()"
   ]
  },
  {
   "cell_type": "markdown",
   "metadata": {},
   "source": [
    "**Findings**\n",
    "\n",
    "There are no issues on 'family_status' column."
   ]
  },
  {
   "cell_type": "markdown",
   "metadata": {},
   "source": [
    "#### gender column"
   ]
  },
  {
   "cell_type": "code",
   "execution_count": 43,
   "metadata": {},
   "outputs": [
    {
     "data": {
      "text/plain": [
       "array(['F', 'M', 'XNA'], dtype=object)"
      ]
     },
     "execution_count": 43,
     "metadata": {},
     "output_type": "execute_result"
    }
   ],
   "source": [
    "# check data\n",
    "df['gender'].unique()\n"
   ]
  },
  {
   "cell_type": "code",
   "execution_count": 44,
   "metadata": {},
   "outputs": [
    {
     "data": {
      "text/plain": [
       "0    F\n",
       "Name: gender, dtype: object"
      ]
     },
     "execution_count": 44,
     "metadata": {},
     "output_type": "execute_result"
    }
   ],
   "source": [
    "# check most often values\n",
    "df['gender'].mode()"
   ]
  },
  {
   "cell_type": "markdown",
   "metadata": {},
   "source": [
    "**Findings**\n",
    "\n",
    "1. There is an unusual value, 'XNA.'\n",
    "2. The value 'XNA' will be replaced with the most frequent value (mode)."
   ]
  },
  {
   "cell_type": "code",
   "execution_count": 45,
   "metadata": {},
   "outputs": [],
   "source": [
    "# replace XNA with F\n",
    "df['gender'] = df['gender'].replace('XNA', 'F')"
   ]
  },
  {
   "cell_type": "code",
   "execution_count": 46,
   "metadata": {},
   "outputs": [
    {
     "data": {
      "text/plain": [
       "array(['F', 'M'], dtype=object)"
      ]
     },
     "execution_count": 46,
     "metadata": {},
     "output_type": "execute_result"
    }
   ],
   "source": [
    "# verify the data\n",
    "df['gender'].unique()"
   ]
  },
  {
   "cell_type": "markdown",
   "metadata": {},
   "source": [
    "#### income_type column"
   ]
  },
  {
   "cell_type": "code",
   "execution_count": 47,
   "metadata": {},
   "outputs": [
    {
     "data": {
      "text/plain": [
       "array(['employee', 'retiree', 'business', 'civil servant', 'unemployed',\n",
       "       'entrepreneur', 'student', 'paternity / maternity leave'],\n",
       "      dtype=object)"
      ]
     },
     "execution_count": 47,
     "metadata": {},
     "output_type": "execute_result"
    }
   ],
   "source": [
    "# check data\n",
    "df['income_type'].unique()"
   ]
  },
  {
   "cell_type": "markdown",
   "metadata": {},
   "source": [
    "**Findings**\n",
    "\n",
    "There are no issues on 'gender' column."
   ]
  },
  {
   "cell_type": "markdown",
   "metadata": {},
   "source": [
    "### 2.2 Check Duplicate data <a id='duplicates'></a>"
   ]
  },
  {
   "cell_type": "code",
   "execution_count": 48,
   "metadata": {},
   "outputs": [
    {
     "data": {
      "text/plain": [
       "72"
      ]
     },
     "execution_count": 48,
     "metadata": {},
     "output_type": "execute_result"
    }
   ],
   "source": [
    "# check duplicate data\n",
    "df.duplicated().sum()"
   ]
  },
  {
   "cell_type": "markdown",
   "metadata": {},
   "source": [
    "**Findings**\n",
    "\n",
    "1. There are 72 identified duplicate data entries.\n",
    "2. These duplicate data entries will be removed, and the index will be reset."
   ]
  },
  {
   "cell_type": "code",
   "execution_count": 49,
   "metadata": {},
   "outputs": [],
   "source": [
    "# remove duplicate data and do reset index\n",
    "df = df.drop_duplicates().reset_index(drop=True)"
   ]
  },
  {
   "cell_type": "code",
   "execution_count": 50,
   "metadata": {},
   "outputs": [
    {
     "data": {
      "text/plain": [
       "0"
      ]
     },
     "execution_count": 50,
     "metadata": {},
     "output_type": "execute_result"
    }
   ],
   "source": [
    "# verify the data\n",
    "df.duplicated().sum()"
   ]
  },
  {
   "cell_type": "markdown",
   "metadata": {},
   "source": [
    "**Dataset after pre-processing data**"
   ]
  },
  {
   "cell_type": "markdown",
   "metadata": {},
   "source": [
    "**Changes that have been made:**\n",
    "1. For the 'days_employed' column:\n",
    "    - Removed the minus sign (-).\n",
    "    - Replaced outlier values.\n",
    "    - Rounded the values.\n",
    "\n",
    "2. For the 'education' column:\n",
    "    - Performed data transformation by replacing data with different spellings but actually having the same value.\n",
    "\n",
    "3. For the 'children' column:\n",
    "    - Replaced outlier values with the median.\n",
    "\n",
    "4. For the 'dob_years' column:\n",
    "    - Replaced data with a value of 0 with the mean.\n",
    "\n",
    "5. For the 'gender' column:\n",
    "    - Replaced data with the value 'XNA' with the most frequent value (mode).\n",
    "\n",
    "6. Deleted 72 duplicate data points, resulting in a reduction from the initial 21,525 entries to 21,453.\n",
    "\n",
    "7. Reset the index after removing duplicate entries."
   ]
  },
  {
   "cell_type": "code",
   "execution_count": 51,
   "metadata": {},
   "outputs": [
    {
     "data": {
      "text/plain": [
       "(21453, 12)"
      ]
     },
     "execution_count": 51,
     "metadata": {},
     "output_type": "execute_result"
    }
   ],
   "source": [
    "df.shape"
   ]
  },
  {
   "cell_type": "markdown",
   "metadata": {},
   "source": [
    "## Check Mean and Median of the Data"
   ]
  },
  {
   "cell_type": "code",
   "execution_count": 52,
   "metadata": {},
   "outputs": [],
   "source": [
    "# function to calculate mean or median\n",
    "def median_mean(data, selected_column, value):\n",
    "    if value == 'mean':\n",
    "        return data[selected_column].mean()\n",
    "    elif value == 'median' :\n",
    "        return data[selected_column].median()"
   ]
  },
  {
   "cell_type": "code",
   "execution_count": 53,
   "metadata": {},
   "outputs": [
    {
     "data": {
      "text/plain": [
       "2324.706423440649"
      ]
     },
     "execution_count": 53,
     "metadata": {},
     "output_type": "execute_result"
    }
   ],
   "source": [
    "# verify the function\n",
    "median_mean(df, 'days_employed', 'mean')"
   ]
  },
  {
   "cell_type": "code",
   "execution_count": 54,
   "metadata": {},
   "outputs": [
    {
     "data": {
      "text/plain": [
       "26787.56835465867"
      ]
     },
     "execution_count": 54,
     "metadata": {},
     "output_type": "execute_result"
    }
   ],
   "source": [
    "# verify the function\n",
    "median_mean(df, 'total_income', 'mean')"
   ]
  },
  {
   "cell_type": "markdown",
   "metadata": {},
   "source": [
    "### 2.3 Data Categorization <a id='categorization'></a>"
   ]
  },
  {
   "cell_type": "markdown",
   "metadata": {},
   "source": [
    "Based on the following source: https://www.thepinnaclelist.com/articles/9-factors-that-every-bank-take-into-consideration-before-lending-money-to-home-buyers/ there are several factors that banks consider when lending money:\n",
    "1. Credit History: shown in the dataset as 'debt.'\n",
    "2. Occupation: shown in the dataset as 'income_type' and days_employed. The dataset has categorized the  income type.\n",
    "3. Age: shown in the dataset as 'age'\n",
    "4. Distance: not shown in the dataset.\n",
    "5. Work Experience: not shown in the dataset.\n",
    "6. Income source of the spouse: not shown in the dataset\n",
    "7. Relationship with the bank: not shown in the dataset\n",
    "8. Purpose of the loan: shown in the dataset as 'purpose'\n",
    "9. Surplus income: shown in the dataset as 'total_income'\n",
    "\n",
    "The above data will be categorized to test the hypotheses."
   ]
  },
  {
   "cell_type": "markdown",
   "metadata": {},
   "source": [
    "#### Grouping of Debt status"
   ]
  },
  {
   "cell_type": "code",
   "execution_count": 55,
   "metadata": {},
   "outputs": [],
   "source": [
    "# Function to categorize debt status\n",
    "def replace_debt_value(value):\n",
    "    if value == 1:\n",
    "        value = str(value)\n",
    "        return value.replace(value, 'Ever failed to pay')\n",
    "    elif value == 0:\n",
    "        value = str(value)\n",
    "        return value.replace(value, 'Never failed to pay')"
   ]
  },
  {
   "cell_type": "code",
   "execution_count": 56,
   "metadata": {},
   "outputs": [
    {
     "data": {
      "text/plain": [
       "'Never failed to pay'"
      ]
     },
     "execution_count": 56,
     "metadata": {},
     "output_type": "execute_result"
    }
   ],
   "source": [
    "# verify the function\n",
    "replace_debt_value(0)"
   ]
  },
  {
   "cell_type": "code",
   "execution_count": 57,
   "metadata": {},
   "outputs": [
    {
     "data": {
      "text/plain": [
       "debt_status\n",
       "Never failed to pay    19712\n",
       "Ever failed to pay      1741\n",
       "Name: count, dtype: int64"
      ]
     },
     "execution_count": 57,
     "metadata": {},
     "output_type": "execute_result"
    }
   ],
   "source": [
    "# apply the function in a new column\n",
    "df['debt_status'] = df['debt'].apply(replace_debt_value)\n",
    "df['debt_status'].value_counts()"
   ]
  },
  {
   "cell_type": "code",
   "execution_count": 59,
   "metadata": {},
   "outputs": [
    {
     "data": {
      "text/html": [
       "<div>\n",
       "<style scoped>\n",
       "    .dataframe tbody tr th:only-of-type {\n",
       "        vertical-align: middle;\n",
       "    }\n",
       "\n",
       "    .dataframe tbody tr th {\n",
       "        vertical-align: top;\n",
       "    }\n",
       "\n",
       "    .dataframe thead th {\n",
       "        text-align: right;\n",
       "    }\n",
       "</style>\n",
       "<table border=\"1\" class=\"dataframe\">\n",
       "  <thead>\n",
       "    <tr style=\"text-align: right;\">\n",
       "      <th></th>\n",
       "      <th>debt</th>\n",
       "      <th>debt_status</th>\n",
       "    </tr>\n",
       "  </thead>\n",
       "  <tbody>\n",
       "    <tr>\n",
       "      <th>0</th>\n",
       "      <td>0</td>\n",
       "      <td>Never failed to pay</td>\n",
       "    </tr>\n",
       "    <tr>\n",
       "      <th>1</th>\n",
       "      <td>0</td>\n",
       "      <td>Never failed to pay</td>\n",
       "    </tr>\n",
       "    <tr>\n",
       "      <th>2</th>\n",
       "      <td>0</td>\n",
       "      <td>Never failed to pay</td>\n",
       "    </tr>\n",
       "    <tr>\n",
       "      <th>3</th>\n",
       "      <td>0</td>\n",
       "      <td>Never failed to pay</td>\n",
       "    </tr>\n",
       "    <tr>\n",
       "      <th>4</th>\n",
       "      <td>0</td>\n",
       "      <td>Never failed to pay</td>\n",
       "    </tr>\n",
       "    <tr>\n",
       "      <th>...</th>\n",
       "      <td>...</td>\n",
       "      <td>...</td>\n",
       "    </tr>\n",
       "    <tr>\n",
       "      <th>21448</th>\n",
       "      <td>0</td>\n",
       "      <td>Never failed to pay</td>\n",
       "    </tr>\n",
       "    <tr>\n",
       "      <th>21449</th>\n",
       "      <td>0</td>\n",
       "      <td>Never failed to pay</td>\n",
       "    </tr>\n",
       "    <tr>\n",
       "      <th>21450</th>\n",
       "      <td>1</td>\n",
       "      <td>Ever failed to pay</td>\n",
       "    </tr>\n",
       "    <tr>\n",
       "      <th>21451</th>\n",
       "      <td>1</td>\n",
       "      <td>Ever failed to pay</td>\n",
       "    </tr>\n",
       "    <tr>\n",
       "      <th>21452</th>\n",
       "      <td>0</td>\n",
       "      <td>Never failed to pay</td>\n",
       "    </tr>\n",
       "  </tbody>\n",
       "</table>\n",
       "<p>21453 rows × 2 columns</p>\n",
       "</div>"
      ],
      "text/plain": [
       "       debt          debt_status\n",
       "0         0  Never failed to pay\n",
       "1         0  Never failed to pay\n",
       "2         0  Never failed to pay\n",
       "3         0  Never failed to pay\n",
       "4         0  Never failed to pay\n",
       "...     ...                  ...\n",
       "21448     0  Never failed to pay\n",
       "21449     0  Never failed to pay\n",
       "21450     1   Ever failed to pay\n",
       "21451     1   Ever failed to pay\n",
       "21452     0  Never failed to pay\n",
       "\n",
       "[21453 rows x 2 columns]"
      ]
     },
     "execution_count": 59,
     "metadata": {},
     "output_type": "execute_result"
    }
   ],
   "source": [
    "# verify the data\n",
    "df[['debt','debt_status']]"
   ]
  },
  {
   "cell_type": "markdown",
   "metadata": {},
   "source": [
    "#### Grouping of Days Employed"
   ]
  },
  {
   "cell_type": "code",
   "execution_count": 60,
   "metadata": {},
   "outputs": [],
   "source": [
    "# function to categorize days employed\n",
    "def employee_length_category(employee):\n",
    "    if employee <= 1024 and employee > 23:\n",
    "        return 'Little Work Experience'\n",
    "    elif employee <= 2194 and employee > 1024:\n",
    "        return 'Moderate Work Experience'\n",
    "    elif employee <= 3570 and employee > 2194:\n",
    "        return 'Considerable Work Experience'\n",
    "    elif employee > 3570:\n",
    "        return 'Extensive Work Experience'\n",
    "    return 'unknown'"
   ]
  },
  {
   "cell_type": "code",
   "execution_count": 91,
   "metadata": {},
   "outputs": [
    {
     "data": {
      "text/html": [
       "<div>\n",
       "<style scoped>\n",
       "    .dataframe tbody tr th:only-of-type {\n",
       "        vertical-align: middle;\n",
       "    }\n",
       "\n",
       "    .dataframe tbody tr th {\n",
       "        vertical-align: top;\n",
       "    }\n",
       "\n",
       "    .dataframe thead th {\n",
       "        text-align: right;\n",
       "    }\n",
       "</style>\n",
       "<table border=\"1\" class=\"dataframe\">\n",
       "  <thead>\n",
       "    <tr style=\"text-align: right;\">\n",
       "      <th></th>\n",
       "      <th>days_employed</th>\n",
       "      <th>length_of_employment</th>\n",
       "    </tr>\n",
       "  </thead>\n",
       "  <tbody>\n",
       "    <tr>\n",
       "      <th>0</th>\n",
       "      <td>8438.0</td>\n",
       "      <td>Extensive Work Experience</td>\n",
       "    </tr>\n",
       "    <tr>\n",
       "      <th>1</th>\n",
       "      <td>4025.0</td>\n",
       "      <td>Extensive Work Experience</td>\n",
       "    </tr>\n",
       "    <tr>\n",
       "      <th>2</th>\n",
       "      <td>5623.0</td>\n",
       "      <td>Extensive Work Experience</td>\n",
       "    </tr>\n",
       "    <tr>\n",
       "      <th>3</th>\n",
       "      <td>4125.0</td>\n",
       "      <td>Extensive Work Experience</td>\n",
       "    </tr>\n",
       "    <tr>\n",
       "      <th>4</th>\n",
       "      <td>2194.0</td>\n",
       "      <td>Moderate Work Experience</td>\n",
       "    </tr>\n",
       "    <tr>\n",
       "      <th>...</th>\n",
       "      <td>...</td>\n",
       "      <td>...</td>\n",
       "    </tr>\n",
       "    <tr>\n",
       "      <th>21448</th>\n",
       "      <td>4529.0</td>\n",
       "      <td>Extensive Work Experience</td>\n",
       "    </tr>\n",
       "    <tr>\n",
       "      <th>21449</th>\n",
       "      <td>2194.0</td>\n",
       "      <td>Moderate Work Experience</td>\n",
       "    </tr>\n",
       "    <tr>\n",
       "      <th>21450</th>\n",
       "      <td>2113.0</td>\n",
       "      <td>Moderate Work Experience</td>\n",
       "    </tr>\n",
       "    <tr>\n",
       "      <th>21451</th>\n",
       "      <td>3112.0</td>\n",
       "      <td>Considerable Work Experience</td>\n",
       "    </tr>\n",
       "    <tr>\n",
       "      <th>21452</th>\n",
       "      <td>1985.0</td>\n",
       "      <td>Moderate Work Experience</td>\n",
       "    </tr>\n",
       "  </tbody>\n",
       "</table>\n",
       "<p>21453 rows × 2 columns</p>\n",
       "</div>"
      ],
      "text/plain": [
       "       days_employed          length_of_employment\n",
       "0             8438.0     Extensive Work Experience\n",
       "1             4025.0     Extensive Work Experience\n",
       "2             5623.0     Extensive Work Experience\n",
       "3             4125.0     Extensive Work Experience\n",
       "4             2194.0      Moderate Work Experience\n",
       "...              ...                           ...\n",
       "21448         4529.0     Extensive Work Experience\n",
       "21449         2194.0      Moderate Work Experience\n",
       "21450         2113.0      Moderate Work Experience\n",
       "21451         3112.0  Considerable Work Experience\n",
       "21452         1985.0      Moderate Work Experience\n",
       "\n",
       "[21453 rows x 2 columns]"
      ]
     },
     "execution_count": 91,
     "metadata": {},
     "output_type": "execute_result"
    }
   ],
   "source": [
    "# apply the function in a new column\n",
    "df['length_of_employment'] = df['days_employed'].apply(employee_length_category)\n",
    "df[['days_employed','length_of_employment']]"
   ]
  },
  {
   "cell_type": "code",
   "execution_count": 62,
   "metadata": {},
   "outputs": [
    {
     "data": {
      "text/plain": [
       "employee_length_category\n",
       "Moderate Work Experience        7751\n",
       "Little Work Experience          5371\n",
       "Extensive Work Experience       3259\n",
       "Considerable Work Experience    2970\n",
       "unknown                         2102\n",
       "Name: count, dtype: int64"
      ]
     },
     "execution_count": 62,
     "metadata": {},
     "output_type": "execute_result"
    }
   ],
   "source": [
    "# check data distribution\n",
    "df['employee_length_category'].value_counts()"
   ]
  },
  {
   "cell_type": "markdown",
   "metadata": {},
   "source": [
    "#### Grouping of Age"
   ]
  },
  {
   "cell_type": "code",
   "execution_count": 63,
   "metadata": {},
   "outputs": [
    {
     "name": "stdout",
     "output_type": "stream",
     "text": [
      "19\n"
     ]
    },
    {
     "data": {
      "text/plain": [
       "75"
      ]
     },
     "execution_count": 63,
     "metadata": {},
     "output_type": "execute_result"
    }
   ],
   "source": [
    "# check min and max value of dob_years\n",
    "print(df['dob_years'].min())\n",
    "(df['dob_years'].max())"
   ]
  },
  {
   "cell_type": "code",
   "execution_count": 64,
   "metadata": {},
   "outputs": [],
   "source": [
    "# function to categorize age range\n",
    "# reference: https://pubmed.ncbi.nlm.nih.gov/7203662/\n",
    "def age_category(age):\n",
    "    if age <22:\n",
    "        return 'Teenagers: <22'\n",
    "    elif age <= 34 and age >= 22:\n",
    "        return 'Young Adults: 22-34'\n",
    "    elif age <= 44 and age > 34:\n",
    "        return 'Early Middle-Aged Adults: 35-44'\n",
    "    elif age <= 64 and age > 44:\n",
    "        return 'Late Middle-aged Adults: 45-64'\n",
    "    elif age > 65:\n",
    "        return 'Old Adults: >65'\n",
    "    return 'unknown'"
   ]
  },
  {
   "cell_type": "code",
   "execution_count": 65,
   "metadata": {},
   "outputs": [
    {
     "data": {
      "text/plain": [
       "'Teenagers: <22'"
      ]
     },
     "execution_count": 65,
     "metadata": {},
     "output_type": "execute_result"
    }
   ],
   "source": [
    "# verify the function\n",
    "age_category(19)"
   ]
  },
  {
   "cell_type": "code",
   "execution_count": 66,
   "metadata": {},
   "outputs": [
    {
     "data": {
      "text/html": [
       "<div>\n",
       "<style scoped>\n",
       "    .dataframe tbody tr th:only-of-type {\n",
       "        vertical-align: middle;\n",
       "    }\n",
       "\n",
       "    .dataframe tbody tr th {\n",
       "        vertical-align: top;\n",
       "    }\n",
       "\n",
       "    .dataframe thead th {\n",
       "        text-align: right;\n",
       "    }\n",
       "</style>\n",
       "<table border=\"1\" class=\"dataframe\">\n",
       "  <thead>\n",
       "    <tr style=\"text-align: right;\">\n",
       "      <th></th>\n",
       "      <th>children</th>\n",
       "      <th>days_employed</th>\n",
       "      <th>dob_years</th>\n",
       "      <th>education</th>\n",
       "      <th>education_id</th>\n",
       "      <th>family_status</th>\n",
       "      <th>family_status_id</th>\n",
       "      <th>gender</th>\n",
       "      <th>income_type</th>\n",
       "      <th>debt</th>\n",
       "      <th>total_income</th>\n",
       "      <th>purpose</th>\n",
       "      <th>debt_status</th>\n",
       "      <th>employee_length_category</th>\n",
       "      <th>age_category</th>\n",
       "    </tr>\n",
       "  </thead>\n",
       "  <tbody>\n",
       "    <tr>\n",
       "      <th>0</th>\n",
       "      <td>1</td>\n",
       "      <td>8438.0</td>\n",
       "      <td>42</td>\n",
       "      <td>bachelor's degree</td>\n",
       "      <td>0</td>\n",
       "      <td>married</td>\n",
       "      <td>0</td>\n",
       "      <td>F</td>\n",
       "      <td>employee</td>\n",
       "      <td>0</td>\n",
       "      <td>40620.102</td>\n",
       "      <td>purchase of the house</td>\n",
       "      <td>Never failed to pay</td>\n",
       "      <td>Extensive Work Experience</td>\n",
       "      <td>Early Middle-Aged Adults: 35-44</td>\n",
       "    </tr>\n",
       "    <tr>\n",
       "      <th>1</th>\n",
       "      <td>1</td>\n",
       "      <td>4025.0</td>\n",
       "      <td>36</td>\n",
       "      <td>secondary education</td>\n",
       "      <td>1</td>\n",
       "      <td>married</td>\n",
       "      <td>0</td>\n",
       "      <td>F</td>\n",
       "      <td>employee</td>\n",
       "      <td>0</td>\n",
       "      <td>17932.802</td>\n",
       "      <td>car purchase</td>\n",
       "      <td>Never failed to pay</td>\n",
       "      <td>Extensive Work Experience</td>\n",
       "      <td>Early Middle-Aged Adults: 35-44</td>\n",
       "    </tr>\n",
       "    <tr>\n",
       "      <th>2</th>\n",
       "      <td>0</td>\n",
       "      <td>5623.0</td>\n",
       "      <td>33</td>\n",
       "      <td>secondary education</td>\n",
       "      <td>1</td>\n",
       "      <td>married</td>\n",
       "      <td>0</td>\n",
       "      <td>M</td>\n",
       "      <td>employee</td>\n",
       "      <td>0</td>\n",
       "      <td>23341.752</td>\n",
       "      <td>purchase of the house</td>\n",
       "      <td>Never failed to pay</td>\n",
       "      <td>Extensive Work Experience</td>\n",
       "      <td>Young Adults: 22-34</td>\n",
       "    </tr>\n",
       "    <tr>\n",
       "      <th>3</th>\n",
       "      <td>3</td>\n",
       "      <td>4125.0</td>\n",
       "      <td>32</td>\n",
       "      <td>secondary education</td>\n",
       "      <td>1</td>\n",
       "      <td>married</td>\n",
       "      <td>0</td>\n",
       "      <td>M</td>\n",
       "      <td>employee</td>\n",
       "      <td>0</td>\n",
       "      <td>42820.568</td>\n",
       "      <td>supplementary education</td>\n",
       "      <td>Never failed to pay</td>\n",
       "      <td>Extensive Work Experience</td>\n",
       "      <td>Young Adults: 22-34</td>\n",
       "    </tr>\n",
       "    <tr>\n",
       "      <th>4</th>\n",
       "      <td>0</td>\n",
       "      <td>2194.0</td>\n",
       "      <td>53</td>\n",
       "      <td>secondary education</td>\n",
       "      <td>1</td>\n",
       "      <td>civil partnership</td>\n",
       "      <td>1</td>\n",
       "      <td>F</td>\n",
       "      <td>retiree</td>\n",
       "      <td>0</td>\n",
       "      <td>25378.572</td>\n",
       "      <td>to have a wedding</td>\n",
       "      <td>Never failed to pay</td>\n",
       "      <td>Moderate Work Experience</td>\n",
       "      <td>Late Middle-aged Adults: 45-64</td>\n",
       "    </tr>\n",
       "  </tbody>\n",
       "</table>\n",
       "</div>"
      ],
      "text/plain": [
       "   children  days_employed  dob_years            education  education_id  \\\n",
       "0         1         8438.0         42    bachelor's degree             0   \n",
       "1         1         4025.0         36  secondary education             1   \n",
       "2         0         5623.0         33  secondary education             1   \n",
       "3         3         4125.0         32  secondary education             1   \n",
       "4         0         2194.0         53  secondary education             1   \n",
       "\n",
       "       family_status  family_status_id gender income_type  debt  total_income  \\\n",
       "0            married                 0      F    employee     0     40620.102   \n",
       "1            married                 0      F    employee     0     17932.802   \n",
       "2            married                 0      M    employee     0     23341.752   \n",
       "3            married                 0      M    employee     0     42820.568   \n",
       "4  civil partnership                 1      F     retiree     0     25378.572   \n",
       "\n",
       "                   purpose          debt_status   employee_length_category  \\\n",
       "0    purchase of the house  Never failed to pay  Extensive Work Experience   \n",
       "1             car purchase  Never failed to pay  Extensive Work Experience   \n",
       "2    purchase of the house  Never failed to pay  Extensive Work Experience   \n",
       "3  supplementary education  Never failed to pay  Extensive Work Experience   \n",
       "4        to have a wedding  Never failed to pay   Moderate Work Experience   \n",
       "\n",
       "                      age_category  \n",
       "0  Early Middle-Aged Adults: 35-44  \n",
       "1  Early Middle-Aged Adults: 35-44  \n",
       "2              Young Adults: 22-34  \n",
       "3              Young Adults: 22-34  \n",
       "4   Late Middle-aged Adults: 45-64  "
      ]
     },
     "execution_count": 66,
     "metadata": {},
     "output_type": "execute_result"
    }
   ],
   "source": [
    "# apply the function in a new column\n",
    "df['age_category'] = df['dob_years'].apply(age_category)\n",
    "df.head()"
   ]
  },
  {
   "cell_type": "code",
   "execution_count": 68,
   "metadata": {},
   "outputs": [
    {
     "data": {
      "text/plain": [
       "age_category\n",
       "Late Middle-aged Adults: 45-64     8751\n",
       "Early Middle-Aged Adults: 35-44    5840\n",
       "Young Adults: 22-34                5791\n",
       "Old Adults: >65                     702\n",
       "unknown                             193\n",
       "Teenagers: <22                      176\n",
       "Name: count, dtype: int64"
      ]
     },
     "execution_count": 68,
     "metadata": {},
     "output_type": "execute_result"
    }
   ],
   "source": [
    "# check data distribution\n",
    "df['age_category'].value_counts()"
   ]
  },
  {
   "cell_type": "markdown",
   "metadata": {},
   "source": [
    "#### Grouping of Loan Purpose"
   ]
  },
  {
   "cell_type": "code",
   "execution_count": 69,
   "metadata": {},
   "outputs": [],
   "source": [
    "# function to categorize purpose\n",
    "def purpose_category(purpose):\n",
    "    if 'car' in purpose:\n",
    "        return 'Car'\n",
    "    elif 'hous' in purpose:\n",
    "        return 'House/Property'\n",
    "    elif 'property' in purpose:\n",
    "        return 'House/Property'\n",
    "    elif 'educ' in purpose:\n",
    "        return 'Education'\n",
    "    elif 'university' in purpose:\n",
    "        return 'Education'\n",
    "    elif 'wedding' in purpose:\n",
    "        return 'Wedding'\n",
    "    elif 'real estate' in purpose:\n",
    "        return 'Real Estate'\n",
    "    return 'undefined'"
   ]
  },
  {
   "cell_type": "code",
   "execution_count": 70,
   "metadata": {},
   "outputs": [
    {
     "data": {
      "text/plain": [
       "'Education'"
      ]
     },
     "execution_count": 70,
     "metadata": {},
     "output_type": "execute_result"
    }
   ],
   "source": [
    "# verify the function\n",
    "purpose_category('to become educated')"
   ]
  },
  {
   "cell_type": "code",
   "execution_count": 71,
   "metadata": {},
   "outputs": [
    {
     "data": {
      "text/plain": [
       "purpose_category\n",
       "House/Property    6347\n",
       "Real Estate       4464\n",
       "Car               4306\n",
       "Education         4013\n",
       "Wedding           2323\n",
       "Name: count, dtype: int64"
      ]
     },
     "execution_count": 71,
     "metadata": {},
     "output_type": "execute_result"
    }
   ],
   "source": [
    "# apply the function in a new column\n",
    "df['purpose_category'] = df['purpose'].apply(purpose_category)\n",
    "df['purpose_category'].value_counts()"
   ]
  },
  {
   "cell_type": "code",
   "execution_count": 72,
   "metadata": {},
   "outputs": [
    {
     "data": {
      "text/html": [
       "<div>\n",
       "<style scoped>\n",
       "    .dataframe tbody tr th:only-of-type {\n",
       "        vertical-align: middle;\n",
       "    }\n",
       "\n",
       "    .dataframe tbody tr th {\n",
       "        vertical-align: top;\n",
       "    }\n",
       "\n",
       "    .dataframe thead th {\n",
       "        text-align: right;\n",
       "    }\n",
       "</style>\n",
       "<table border=\"1\" class=\"dataframe\">\n",
       "  <thead>\n",
       "    <tr style=\"text-align: right;\">\n",
       "      <th></th>\n",
       "      <th>purpose</th>\n",
       "      <th>purpose_category</th>\n",
       "    </tr>\n",
       "  </thead>\n",
       "  <tbody>\n",
       "    <tr>\n",
       "      <th>0</th>\n",
       "      <td>purchase of the house</td>\n",
       "      <td>House/Property</td>\n",
       "    </tr>\n",
       "    <tr>\n",
       "      <th>1</th>\n",
       "      <td>car purchase</td>\n",
       "      <td>Car</td>\n",
       "    </tr>\n",
       "    <tr>\n",
       "      <th>2</th>\n",
       "      <td>purchase of the house</td>\n",
       "      <td>House/Property</td>\n",
       "    </tr>\n",
       "    <tr>\n",
       "      <th>3</th>\n",
       "      <td>supplementary education</td>\n",
       "      <td>Education</td>\n",
       "    </tr>\n",
       "    <tr>\n",
       "      <th>4</th>\n",
       "      <td>to have a wedding</td>\n",
       "      <td>Wedding</td>\n",
       "    </tr>\n",
       "    <tr>\n",
       "      <th>...</th>\n",
       "      <td>...</td>\n",
       "      <td>...</td>\n",
       "    </tr>\n",
       "    <tr>\n",
       "      <th>21448</th>\n",
       "      <td>housing transactions</td>\n",
       "      <td>House/Property</td>\n",
       "    </tr>\n",
       "    <tr>\n",
       "      <th>21449</th>\n",
       "      <td>purchase of a car</td>\n",
       "      <td>Car</td>\n",
       "    </tr>\n",
       "    <tr>\n",
       "      <th>21450</th>\n",
       "      <td>property</td>\n",
       "      <td>House/Property</td>\n",
       "    </tr>\n",
       "    <tr>\n",
       "      <th>21451</th>\n",
       "      <td>buying my own car</td>\n",
       "      <td>Car</td>\n",
       "    </tr>\n",
       "    <tr>\n",
       "      <th>21452</th>\n",
       "      <td>to buy a car</td>\n",
       "      <td>Car</td>\n",
       "    </tr>\n",
       "  </tbody>\n",
       "</table>\n",
       "<p>21453 rows × 2 columns</p>\n",
       "</div>"
      ],
      "text/plain": [
       "                       purpose purpose_category\n",
       "0        purchase of the house   House/Property\n",
       "1                 car purchase              Car\n",
       "2        purchase of the house   House/Property\n",
       "3      supplementary education        Education\n",
       "4            to have a wedding          Wedding\n",
       "...                        ...              ...\n",
       "21448     housing transactions   House/Property\n",
       "21449        purchase of a car              Car\n",
       "21450                 property   House/Property\n",
       "21451        buying my own car              Car\n",
       "21452             to buy a car              Car\n",
       "\n",
       "[21453 rows x 2 columns]"
      ]
     },
     "execution_count": 72,
     "metadata": {},
     "output_type": "execute_result"
    }
   ],
   "source": [
    "df[['purpose', 'purpose_category']]"
   ]
  },
  {
   "cell_type": "markdown",
   "metadata": {},
   "source": [
    "#### Grouping of total income"
   ]
  },
  {
   "cell_type": "code",
   "execution_count": 73,
   "metadata": {},
   "outputs": [
    {
     "data": {
      "text/plain": [
       "count     19351.000000\n",
       "mean      26787.568355\n",
       "std       16475.450632\n",
       "min        3306.762000\n",
       "25%       16488.504500\n",
       "50%       23202.870000\n",
       "75%       32549.611000\n",
       "max      362496.645000\n",
       "Name: total_income, dtype: float64"
      ]
     },
     "execution_count": 73,
     "metadata": {},
     "output_type": "execute_result"
    }
   ],
   "source": [
    "df['total_income'].describe()"
   ]
  },
  {
   "cell_type": "code",
   "execution_count": 74,
   "metadata": {},
   "outputs": [],
   "source": [
    "# function to categorize total_income\n",
    "def income_category(income):\n",
    "    if income <= 17219 and income > 3305:\n",
    "        return 'Lower Range'\n",
    "    elif income <= 23202 and income > 17219:\n",
    "        return 'Middle Range'\n",
    "    elif income <= 31331 and income > 23202:\n",
    "        return 'Upper-Mid Range'\n",
    "    elif income > 31331:\n",
    "        return 'High Range'\n",
    "    return 'unknown'"
   ]
  },
  {
   "cell_type": "code",
   "execution_count": 75,
   "metadata": {},
   "outputs": [
    {
     "data": {
      "text/html": [
       "<div>\n",
       "<style scoped>\n",
       "    .dataframe tbody tr th:only-of-type {\n",
       "        vertical-align: middle;\n",
       "    }\n",
       "\n",
       "    .dataframe tbody tr th {\n",
       "        vertical-align: top;\n",
       "    }\n",
       "\n",
       "    .dataframe thead th {\n",
       "        text-align: right;\n",
       "    }\n",
       "</style>\n",
       "<table border=\"1\" class=\"dataframe\">\n",
       "  <thead>\n",
       "    <tr style=\"text-align: right;\">\n",
       "      <th></th>\n",
       "      <th>total_income</th>\n",
       "      <th>income_category</th>\n",
       "    </tr>\n",
       "  </thead>\n",
       "  <tbody>\n",
       "    <tr>\n",
       "      <th>0</th>\n",
       "      <td>40620.102</td>\n",
       "      <td>High Range</td>\n",
       "    </tr>\n",
       "    <tr>\n",
       "      <th>1</th>\n",
       "      <td>17932.802</td>\n",
       "      <td>Middle Range</td>\n",
       "    </tr>\n",
       "    <tr>\n",
       "      <th>2</th>\n",
       "      <td>23341.752</td>\n",
       "      <td>Upper-Mid Range</td>\n",
       "    </tr>\n",
       "    <tr>\n",
       "      <th>3</th>\n",
       "      <td>42820.568</td>\n",
       "      <td>High Range</td>\n",
       "    </tr>\n",
       "    <tr>\n",
       "      <th>4</th>\n",
       "      <td>25378.572</td>\n",
       "      <td>Upper-Mid Range</td>\n",
       "    </tr>\n",
       "    <tr>\n",
       "      <th>...</th>\n",
       "      <td>...</td>\n",
       "      <td>...</td>\n",
       "    </tr>\n",
       "    <tr>\n",
       "      <th>21448</th>\n",
       "      <td>35966.698</td>\n",
       "      <td>High Range</td>\n",
       "    </tr>\n",
       "    <tr>\n",
       "      <th>21449</th>\n",
       "      <td>24959.969</td>\n",
       "      <td>Upper-Mid Range</td>\n",
       "    </tr>\n",
       "    <tr>\n",
       "      <th>21450</th>\n",
       "      <td>14347.610</td>\n",
       "      <td>Lower Range</td>\n",
       "    </tr>\n",
       "    <tr>\n",
       "      <th>21451</th>\n",
       "      <td>39054.888</td>\n",
       "      <td>High Range</td>\n",
       "    </tr>\n",
       "    <tr>\n",
       "      <th>21452</th>\n",
       "      <td>13127.587</td>\n",
       "      <td>Lower Range</td>\n",
       "    </tr>\n",
       "  </tbody>\n",
       "</table>\n",
       "<p>21453 rows × 2 columns</p>\n",
       "</div>"
      ],
      "text/plain": [
       "       total_income  income_category\n",
       "0         40620.102       High Range\n",
       "1         17932.802     Middle Range\n",
       "2         23341.752  Upper-Mid Range\n",
       "3         42820.568       High Range\n",
       "4         25378.572  Upper-Mid Range\n",
       "...             ...              ...\n",
       "21448     35966.698       High Range\n",
       "21449     24959.969  Upper-Mid Range\n",
       "21450     14347.610      Lower Range\n",
       "21451     39054.888       High Range\n",
       "21452     13127.587      Lower Range\n",
       "\n",
       "[21453 rows x 2 columns]"
      ]
     },
     "execution_count": 75,
     "metadata": {},
     "output_type": "execute_result"
    }
   ],
   "source": [
    "# apply the function in a new column\n",
    "df['income_category'] = df['total_income'].apply(income_category)\n",
    "df[['total_income','income_category']]"
   ]
  },
  {
   "cell_type": "code",
   "execution_count": 76,
   "metadata": {},
   "outputs": [
    {
     "data": {
      "text/plain": [
       "income_category\n",
       "High Range         5364\n",
       "Lower Range        5363\n",
       "Middle Range       4312\n",
       "Upper-Mid Range    4312\n",
       "unknown            2102\n",
       "Name: count, dtype: int64"
      ]
     },
     "execution_count": 76,
     "metadata": {},
     "output_type": "execute_result"
    }
   ],
   "source": [
    "# check data distribution\n",
    "df['income_category'].value_counts()"
   ]
  },
  {
   "cell_type": "markdown",
   "metadata": {},
   "source": [
    "### 2.4 Working with missing values <a id='missing_values'></a>\n",
    "\n",
    "There are 2 columns with missing values:\n",
    "1. total_income\n",
    "2. days_employed"
   ]
  },
  {
   "cell_type": "code",
   "execution_count": 77,
   "metadata": {},
   "outputs": [],
   "source": [
    "#  function to fill in missing values\n",
    "def data_imputation(data, column_grouping, column_selected):\n",
    "    # Parameter meaning\n",
    "    # data => The name of the dataframe to be processed\n",
    "    # column_grouping => The column used to group values and take the median\n",
    "    # column_selected => The column in which we will fill its NaN values\n",
    "\n",
    "    # Get unique category groups\n",
    "    group = data[column_grouping].unique()\n",
    "\n",
    "    # Loop through each value in the group category\n",
    "    for value in group:\n",
    "        # get median\n",
    "        median = data.loc[(data[column_grouping]==value) & ~(data[column_selected].isna()), column_selected].median()\n",
    "\n",
    "        # change missing value\n",
    "        data.loc[(data[column_grouping]==value) & (data[column_selected].isna()), column_selected] = median\n",
    "\n",
    "    # Return the dataframe after filling the missing values\n",
    "    return data"
   ]
  },
  {
   "cell_type": "markdown",
   "metadata": {},
   "source": [
    "#### Fixing the missing value in total_income\n",
    "\n",
    "Median is used to fill missing values in the new column because it can prevent the occurrence of outliers (source: https://stats.stackexchange.com/questions/143700/which-is-better-replacement-by-mean-and-replacement-by-median)"
   ]
  },
  {
   "cell_type": "code",
   "execution_count": 78,
   "metadata": {},
   "outputs": [],
   "source": [
    "# apply the function in a new column\n",
    "df = data_imputation(data=df, column_grouping='age_category', column_selected='total_income')"
   ]
  },
  {
   "cell_type": "code",
   "execution_count": 79,
   "metadata": {},
   "outputs": [
    {
     "data": {
      "text/plain": [
       "0"
      ]
     },
     "execution_count": 79,
     "metadata": {},
     "output_type": "execute_result"
    }
   ],
   "source": [
    "# verify the data\n",
    "df['total_income'].isna().sum()"
   ]
  },
  {
   "cell_type": "markdown",
   "metadata": {},
   "source": [
    "#### Fixing the missing values in days_employed"
   ]
  },
  {
   "cell_type": "code",
   "execution_count": 80,
   "metadata": {},
   "outputs": [
    {
     "data": {
      "text/plain": [
       "2102"
      ]
     },
     "execution_count": 80,
     "metadata": {},
     "output_type": "execute_result"
    }
   ],
   "source": [
    "df['days_employed'].isna().sum()"
   ]
  },
  {
   "cell_type": "code",
   "execution_count": 81,
   "metadata": {},
   "outputs": [],
   "source": [
    "# apply the function in a new column\n",
    "df = data_imputation(data=df, column_grouping='age_category', column_selected='days_employed')"
   ]
  },
  {
   "cell_type": "code",
   "execution_count": 82,
   "metadata": {},
   "outputs": [
    {
     "data": {
      "text/plain": [
       "0"
      ]
     },
     "execution_count": 82,
     "metadata": {},
     "output_type": "execute_result"
    }
   ],
   "source": [
    "# verify the data\n",
    "df['days_employed'].isna().sum()"
   ]
  },
  {
   "cell_type": "code",
   "execution_count": 83,
   "metadata": {},
   "outputs": [
    {
     "name": "stdout",
     "output_type": "stream",
     "text": [
      "<class 'pandas.core.frame.DataFrame'>\n",
      "RangeIndex: 21453 entries, 0 to 21452\n",
      "Data columns (total 17 columns):\n",
      " #   Column                    Non-Null Count  Dtype  \n",
      "---  ------                    --------------  -----  \n",
      " 0   children                  21453 non-null  int64  \n",
      " 1   days_employed             21453 non-null  float64\n",
      " 2   dob_years                 21453 non-null  int64  \n",
      " 3   education                 21453 non-null  object \n",
      " 4   education_id              21453 non-null  int64  \n",
      " 5   family_status             21453 non-null  object \n",
      " 6   family_status_id          21453 non-null  int64  \n",
      " 7   gender                    21453 non-null  object \n",
      " 8   income_type               21453 non-null  object \n",
      " 9   debt                      21453 non-null  int64  \n",
      " 10  total_income              21453 non-null  float64\n",
      " 11  purpose                   21453 non-null  object \n",
      " 12  debt_status               21453 non-null  object \n",
      " 13  employee_length_category  21453 non-null  object \n",
      " 14  age_category              21453 non-null  object \n",
      " 15  purpose_category          21453 non-null  object \n",
      " 16  income_category           21453 non-null  object \n",
      "dtypes: float64(2), int64(5), object(10)\n",
      "memory usage: 2.8+ MB\n"
     ]
    }
   ],
   "source": [
    "df.info()"
   ]
  },
  {
   "cell_type": "markdown",
   "metadata": {},
   "source": [
    "## 3. Testing Hypotheses <a id='Hypotheses'></a>\n",
    "\n",
    "[Back to Contents](#back)"
   ]
  },
  {
   "cell_type": "markdown",
   "metadata": {},
   "source": [
    "### 3.1 Hypothesis 1: Is there a correlation between having children and paying back on time <a id='children'></a>\n",
    "\n",
    "Assumptions:\n",
    "- Calculating automatic rates based on the number of children\n",
    "- Automatic rate = default rate, where default = failure to pay, rate = percentage. Mean is used to calculate the probability if the value is 0 or 1.\n",
    "- The higher the percentage, the higher the probability of failure to pay."
   ]
  },
  {
   "cell_type": "code",
   "execution_count": 85,
   "metadata": {},
   "outputs": [
    {
     "data": {
      "text/html": [
       "<div>\n",
       "<style scoped>\n",
       "    .dataframe tbody tr th:only-of-type {\n",
       "        vertical-align: middle;\n",
       "    }\n",
       "\n",
       "    .dataframe tbody tr th {\n",
       "        vertical-align: top;\n",
       "    }\n",
       "\n",
       "    .dataframe thead th {\n",
       "        text-align: right;\n",
       "    }\n",
       "</style>\n",
       "<table border=\"1\" class=\"dataframe\">\n",
       "  <thead>\n",
       "    <tr style=\"text-align: right;\">\n",
       "      <th>debt</th>\n",
       "      <th>0</th>\n",
       "      <th>1</th>\n",
       "    </tr>\n",
       "    <tr>\n",
       "      <th>children</th>\n",
       "      <th></th>\n",
       "      <th></th>\n",
       "    </tr>\n",
       "  </thead>\n",
       "  <tbody>\n",
       "    <tr>\n",
       "      <th>0</th>\n",
       "      <td>13027.0</td>\n",
       "      <td>1063.0</td>\n",
       "    </tr>\n",
       "    <tr>\n",
       "      <th>1</th>\n",
       "      <td>4410.0</td>\n",
       "      <td>445.0</td>\n",
       "    </tr>\n",
       "    <tr>\n",
       "      <th>2</th>\n",
       "      <td>1926.0</td>\n",
       "      <td>202.0</td>\n",
       "    </tr>\n",
       "    <tr>\n",
       "      <th>3</th>\n",
       "      <td>303.0</td>\n",
       "      <td>27.0</td>\n",
       "    </tr>\n",
       "    <tr>\n",
       "      <th>4</th>\n",
       "      <td>37.0</td>\n",
       "      <td>4.0</td>\n",
       "    </tr>\n",
       "    <tr>\n",
       "      <th>5</th>\n",
       "      <td>9.0</td>\n",
       "      <td>NaN</td>\n",
       "    </tr>\n",
       "  </tbody>\n",
       "</table>\n",
       "</div>"
      ],
      "text/plain": [
       "debt            0       1\n",
       "children                 \n",
       "0         13027.0  1063.0\n",
       "1          4410.0   445.0\n",
       "2          1926.0   202.0\n",
       "3           303.0    27.0\n",
       "4            37.0     4.0\n",
       "5             9.0     NaN"
      ]
     },
     "execution_count": 85,
     "metadata": {},
     "output_type": "execute_result"
    }
   ],
   "source": [
    "pivot_children = pd.pivot_table(df, index = 'children', columns = 'debt', values = 'education', aggfunc = 'count')\n",
    "pivot_children"
   ]
  },
  {
   "cell_type": "code",
   "execution_count": 86,
   "metadata": {},
   "outputs": [
    {
     "data": {
      "text/html": [
       "<div>\n",
       "<style scoped>\n",
       "    .dataframe tbody tr th:only-of-type {\n",
       "        vertical-align: middle;\n",
       "    }\n",
       "\n",
       "    .dataframe tbody tr th {\n",
       "        vertical-align: top;\n",
       "    }\n",
       "\n",
       "    .dataframe thead th {\n",
       "        text-align: right;\n",
       "    }\n",
       "</style>\n",
       "<table border=\"1\" class=\"dataframe\">\n",
       "  <thead>\n",
       "    <tr style=\"text-align: right;\">\n",
       "      <th>debt</th>\n",
       "      <th>children</th>\n",
       "      <th>0</th>\n",
       "      <th>1</th>\n",
       "      <th>percentage</th>\n",
       "    </tr>\n",
       "  </thead>\n",
       "  <tbody>\n",
       "    <tr>\n",
       "      <th>0</th>\n",
       "      <td>0</td>\n",
       "      <td>13027.0</td>\n",
       "      <td>1063.0</td>\n",
       "      <td>7.54</td>\n",
       "    </tr>\n",
       "    <tr>\n",
       "      <th>1</th>\n",
       "      <td>1</td>\n",
       "      <td>4410.0</td>\n",
       "      <td>445.0</td>\n",
       "      <td>9.17</td>\n",
       "    </tr>\n",
       "    <tr>\n",
       "      <th>2</th>\n",
       "      <td>2</td>\n",
       "      <td>1926.0</td>\n",
       "      <td>202.0</td>\n",
       "      <td>9.49</td>\n",
       "    </tr>\n",
       "    <tr>\n",
       "      <th>3</th>\n",
       "      <td>3</td>\n",
       "      <td>303.0</td>\n",
       "      <td>27.0</td>\n",
       "      <td>8.18</td>\n",
       "    </tr>\n",
       "    <tr>\n",
       "      <th>4</th>\n",
       "      <td>4</td>\n",
       "      <td>37.0</td>\n",
       "      <td>4.0</td>\n",
       "      <td>9.76</td>\n",
       "    </tr>\n",
       "    <tr>\n",
       "      <th>5</th>\n",
       "      <td>5</td>\n",
       "      <td>9.0</td>\n",
       "      <td>NaN</td>\n",
       "      <td>NaN</td>\n",
       "    </tr>\n",
       "  </tbody>\n",
       "</table>\n",
       "</div>"
      ],
      "text/plain": [
       "debt  children        0       1  percentage\n",
       "0            0  13027.0  1063.0        7.54\n",
       "1            1   4410.0   445.0        9.17\n",
       "2            2   1926.0   202.0        9.49\n",
       "3            3    303.0    27.0        8.18\n",
       "4            4     37.0     4.0        9.76\n",
       "5            5      9.0     NaN         NaN"
      ]
     },
     "execution_count": 86,
     "metadata": {},
     "output_type": "execute_result"
    }
   ],
   "source": [
    "pivot_children.reset_index(inplace=True)\n",
    "pivot_children['percentage'] = round(pivot_children[1] / (pivot_children[0] + pivot_children[1]) * 100, 2)\n",
    "pivot_children"
   ]
  },
  {
   "cell_type": "markdown",
   "metadata": {},
   "source": [
    "**Conclusion:**\n",
    "\n",
    "1. Borrowers who have children tend to have a higher risk of not paying back on time.\n",
    "2. However, the number of children does not show a significant trend in the borrowers' ability to repay debts, as the percentage difference between the number of children is not too large."
   ]
  },
  {
   "cell_type": "markdown",
   "metadata": {},
   "source": [
    "### 3.2 Hyphotesis 2: Is there a correlation between family status and paying back on time? <a id='family_status'></a>\n",
    "\n",
    "Assumptions:\n",
    "- Calculating automatic rates based on the family status\n",
    "- Automatic rate = default rate, where default = failure to pay, rate = percentage. Mean is used to calculate the probability if the value is 0 or 1.\n",
    "- The higher the percentage, the higher the probability of failure to pay."
   ]
  },
  {
   "cell_type": "code",
   "execution_count": 87,
   "metadata": {},
   "outputs": [
    {
     "data": {
      "text/html": [
       "<div>\n",
       "<style scoped>\n",
       "    .dataframe tbody tr th:only-of-type {\n",
       "        vertical-align: middle;\n",
       "    }\n",
       "\n",
       "    .dataframe tbody tr th {\n",
       "        vertical-align: top;\n",
       "    }\n",
       "\n",
       "    .dataframe thead th {\n",
       "        text-align: right;\n",
       "    }\n",
       "</style>\n",
       "<table border=\"1\" class=\"dataframe\">\n",
       "  <thead>\n",
       "    <tr style=\"text-align: right;\">\n",
       "      <th>debt</th>\n",
       "      <th>0</th>\n",
       "      <th>1</th>\n",
       "    </tr>\n",
       "    <tr>\n",
       "      <th>family_status</th>\n",
       "      <th></th>\n",
       "      <th></th>\n",
       "    </tr>\n",
       "  </thead>\n",
       "  <tbody>\n",
       "    <tr>\n",
       "      <th>civil partnership</th>\n",
       "      <td>3762</td>\n",
       "      <td>388</td>\n",
       "    </tr>\n",
       "    <tr>\n",
       "      <th>divorced</th>\n",
       "      <td>1110</td>\n",
       "      <td>85</td>\n",
       "    </tr>\n",
       "    <tr>\n",
       "      <th>married</th>\n",
       "      <td>11408</td>\n",
       "      <td>931</td>\n",
       "    </tr>\n",
       "    <tr>\n",
       "      <th>unmarried</th>\n",
       "      <td>2536</td>\n",
       "      <td>274</td>\n",
       "    </tr>\n",
       "    <tr>\n",
       "      <th>widow / widower</th>\n",
       "      <td>896</td>\n",
       "      <td>63</td>\n",
       "    </tr>\n",
       "  </tbody>\n",
       "</table>\n",
       "</div>"
      ],
      "text/plain": [
       "debt                   0    1\n",
       "family_status                \n",
       "civil partnership   3762  388\n",
       "divorced            1110   85\n",
       "married            11408  931\n",
       "unmarried           2536  274\n",
       "widow / widower      896   63"
      ]
     },
     "execution_count": 87,
     "metadata": {},
     "output_type": "execute_result"
    }
   ],
   "source": [
    "pivot_family_status = pd.pivot_table(df, index = 'family_status', columns = 'debt', values = 'education', aggfunc = 'count')\n",
    "pivot_family_status"
   ]
  },
  {
   "cell_type": "code",
   "execution_count": 88,
   "metadata": {},
   "outputs": [
    {
     "data": {
      "text/html": [
       "<div>\n",
       "<style scoped>\n",
       "    .dataframe tbody tr th:only-of-type {\n",
       "        vertical-align: middle;\n",
       "    }\n",
       "\n",
       "    .dataframe tbody tr th {\n",
       "        vertical-align: top;\n",
       "    }\n",
       "\n",
       "    .dataframe thead th {\n",
       "        text-align: right;\n",
       "    }\n",
       "</style>\n",
       "<table border=\"1\" class=\"dataframe\">\n",
       "  <thead>\n",
       "    <tr style=\"text-align: right;\">\n",
       "      <th>debt</th>\n",
       "      <th>family_status</th>\n",
       "      <th>0</th>\n",
       "      <th>1</th>\n",
       "      <th>percentage</th>\n",
       "    </tr>\n",
       "  </thead>\n",
       "  <tbody>\n",
       "    <tr>\n",
       "      <th>0</th>\n",
       "      <td>civil partnership</td>\n",
       "      <td>3762</td>\n",
       "      <td>388</td>\n",
       "      <td>9.35</td>\n",
       "    </tr>\n",
       "    <tr>\n",
       "      <th>1</th>\n",
       "      <td>divorced</td>\n",
       "      <td>1110</td>\n",
       "      <td>85</td>\n",
       "      <td>7.11</td>\n",
       "    </tr>\n",
       "    <tr>\n",
       "      <th>2</th>\n",
       "      <td>married</td>\n",
       "      <td>11408</td>\n",
       "      <td>931</td>\n",
       "      <td>7.55</td>\n",
       "    </tr>\n",
       "    <tr>\n",
       "      <th>3</th>\n",
       "      <td>unmarried</td>\n",
       "      <td>2536</td>\n",
       "      <td>274</td>\n",
       "      <td>9.75</td>\n",
       "    </tr>\n",
       "    <tr>\n",
       "      <th>4</th>\n",
       "      <td>widow / widower</td>\n",
       "      <td>896</td>\n",
       "      <td>63</td>\n",
       "      <td>6.57</td>\n",
       "    </tr>\n",
       "  </tbody>\n",
       "</table>\n",
       "</div>"
      ],
      "text/plain": [
       "debt      family_status      0    1  percentage\n",
       "0     civil partnership   3762  388        9.35\n",
       "1              divorced   1110   85        7.11\n",
       "2               married  11408  931        7.55\n",
       "3             unmarried   2536  274        9.75\n",
       "4       widow / widower    896   63        6.57"
      ]
     },
     "execution_count": 88,
     "metadata": {},
     "output_type": "execute_result"
    }
   ],
   "source": [
    "pivot_family_status.reset_index(inplace=True)\n",
    "pivot_family_status['percentage'] = round(pivot_family_status[1] / (pivot_family_status[0] + pivot_family_status[1]) * 100, 2)\n",
    "pivot_family_status"
   ]
  },
  {
   "cell_type": "markdown",
   "metadata": {},
   "source": [
    "**Conclusion:**\n",
    "\n",
    "1. Borrowers who are not married (statuses 'Civil Partnership' and 'Unmarried') actually have the highest percentage of defaulting on payments.\n",
    "2. Borrowers who are married tend to have a higher sense of awareness/responsibility to repay debts."
   ]
  },
  {
   "cell_type": "markdown",
   "metadata": {},
   "source": [
    "### 3.3 Hypothesis 3: Is there a correlation between income level and paying back on time? <a id='income_level'></a>\n",
    "\n",
    "Assumptions:\n",
    "- Calculating automatic rates based on the income category\n",
    "- Automatic rate = default rate, where default = failure to pay, rate = percentage. Mean is used to calculate the probability if the value is 0 or 1.\n",
    "- The higher the percentage, the higher the probability of failure to pay."
   ]
  },
  {
   "cell_type": "code",
   "execution_count": 89,
   "metadata": {},
   "outputs": [
    {
     "data": {
      "text/html": [
       "<div>\n",
       "<style scoped>\n",
       "    .dataframe tbody tr th:only-of-type {\n",
       "        vertical-align: middle;\n",
       "    }\n",
       "\n",
       "    .dataframe tbody tr th {\n",
       "        vertical-align: top;\n",
       "    }\n",
       "\n",
       "    .dataframe thead th {\n",
       "        text-align: right;\n",
       "    }\n",
       "</style>\n",
       "<table border=\"1\" class=\"dataframe\">\n",
       "  <thead>\n",
       "    <tr style=\"text-align: right;\">\n",
       "      <th>debt</th>\n",
       "      <th>0</th>\n",
       "      <th>1</th>\n",
       "    </tr>\n",
       "    <tr>\n",
       "      <th>income_category</th>\n",
       "      <th></th>\n",
       "      <th></th>\n",
       "    </tr>\n",
       "  </thead>\n",
       "  <tbody>\n",
       "    <tr>\n",
       "      <th>High Range</th>\n",
       "      <td>4981</td>\n",
       "      <td>383</td>\n",
       "    </tr>\n",
       "    <tr>\n",
       "      <th>Lower Range</th>\n",
       "      <td>4936</td>\n",
       "      <td>427</td>\n",
       "    </tr>\n",
       "    <tr>\n",
       "      <th>Middle Range</th>\n",
       "      <td>3935</td>\n",
       "      <td>377</td>\n",
       "    </tr>\n",
       "    <tr>\n",
       "      <th>Upper-Mid Range</th>\n",
       "      <td>3928</td>\n",
       "      <td>384</td>\n",
       "    </tr>\n",
       "    <tr>\n",
       "      <th>unknown</th>\n",
       "      <td>1932</td>\n",
       "      <td>170</td>\n",
       "    </tr>\n",
       "  </tbody>\n",
       "</table>\n",
       "</div>"
      ],
      "text/plain": [
       "debt                0    1\n",
       "income_category           \n",
       "High Range       4981  383\n",
       "Lower Range      4936  427\n",
       "Middle Range     3935  377\n",
       "Upper-Mid Range  3928  384\n",
       "unknown          1932  170"
      ]
     },
     "execution_count": 89,
     "metadata": {},
     "output_type": "execute_result"
    }
   ],
   "source": [
    "pivot_total_income = pd.pivot_table(df, index = 'income_category', columns = 'debt', values = 'education', aggfunc = 'count')\n",
    "pivot_total_income"
   ]
  },
  {
   "cell_type": "code",
   "execution_count": 90,
   "metadata": {},
   "outputs": [
    {
     "data": {
      "text/html": [
       "<div>\n",
       "<style scoped>\n",
       "    .dataframe tbody tr th:only-of-type {\n",
       "        vertical-align: middle;\n",
       "    }\n",
       "\n",
       "    .dataframe tbody tr th {\n",
       "        vertical-align: top;\n",
       "    }\n",
       "\n",
       "    .dataframe thead th {\n",
       "        text-align: right;\n",
       "    }\n",
       "</style>\n",
       "<table border=\"1\" class=\"dataframe\">\n",
       "  <thead>\n",
       "    <tr style=\"text-align: right;\">\n",
       "      <th>debt</th>\n",
       "      <th>income_category</th>\n",
       "      <th>0</th>\n",
       "      <th>1</th>\n",
       "      <th>percentage</th>\n",
       "    </tr>\n",
       "  </thead>\n",
       "  <tbody>\n",
       "    <tr>\n",
       "      <th>0</th>\n",
       "      <td>High Range</td>\n",
       "      <td>4981</td>\n",
       "      <td>383</td>\n",
       "      <td>7.14</td>\n",
       "    </tr>\n",
       "    <tr>\n",
       "      <th>1</th>\n",
       "      <td>Lower Range</td>\n",
       "      <td>4936</td>\n",
       "      <td>427</td>\n",
       "      <td>7.96</td>\n",
       "    </tr>\n",
       "    <tr>\n",
       "      <th>2</th>\n",
       "      <td>Middle Range</td>\n",
       "      <td>3935</td>\n",
       "      <td>377</td>\n",
       "      <td>8.74</td>\n",
       "    </tr>\n",
       "    <tr>\n",
       "      <th>3</th>\n",
       "      <td>Upper-Mid Range</td>\n",
       "      <td>3928</td>\n",
       "      <td>384</td>\n",
       "      <td>8.91</td>\n",
       "    </tr>\n",
       "    <tr>\n",
       "      <th>4</th>\n",
       "      <td>unknown</td>\n",
       "      <td>1932</td>\n",
       "      <td>170</td>\n",
       "      <td>8.09</td>\n",
       "    </tr>\n",
       "  </tbody>\n",
       "</table>\n",
       "</div>"
      ],
      "text/plain": [
       "debt  income_category     0    1  percentage\n",
       "0          High Range  4981  383        7.14\n",
       "1         Lower Range  4936  427        7.96\n",
       "2        Middle Range  3935  377        8.74\n",
       "3     Upper-Mid Range  3928  384        8.91\n",
       "4             unknown  1932  170        8.09"
      ]
     },
     "execution_count": 90,
     "metadata": {},
     "output_type": "execute_result"
    }
   ],
   "source": [
    "pivot_total_income.reset_index(inplace=True)\n",
    "pivot_total_income['percentage'] = round(pivot_total_income[1] / (pivot_total_income[0] + pivot_total_income[1]) * 100, 2)\n",
    "pivot_total_income"
   ]
  },
  {
   "cell_type": "markdown",
   "metadata": {},
   "source": [
    "**Kesimpulan**\n",
    "\n",
    "1. The higher the income, the greater the likelihood of defaulting on debts."
   ]
  },
  {
   "cell_type": "markdown",
   "metadata": {},
   "source": [
    "### 3.4 Hypothesis 4: Is there a correlation between the length of employment and paying back on time? <a id='length_of_employment'></a>\n",
    "\n",
    "Assumptions:\n",
    "- Calculating automatic rates based on the length of employment\n",
    "- Automatic rate = default rate, where default = failure to pay, rate = percentage. Mean is used to calculate the probability if the value is 0 or 1.\n",
    "- The higher the percentage, the higher the probability of failure to pay."
   ]
  },
  {
   "cell_type": "code",
   "execution_count": 92,
   "metadata": {},
   "outputs": [
    {
     "data": {
      "text/html": [
       "<div>\n",
       "<style scoped>\n",
       "    .dataframe tbody tr th:only-of-type {\n",
       "        vertical-align: middle;\n",
       "    }\n",
       "\n",
       "    .dataframe tbody tr th {\n",
       "        vertical-align: top;\n",
       "    }\n",
       "\n",
       "    .dataframe thead th {\n",
       "        text-align: right;\n",
       "    }\n",
       "</style>\n",
       "<table border=\"1\" class=\"dataframe\">\n",
       "  <thead>\n",
       "    <tr style=\"text-align: right;\">\n",
       "      <th>debt</th>\n",
       "      <th>0</th>\n",
       "      <th>1</th>\n",
       "    </tr>\n",
       "    <tr>\n",
       "      <th>length_of_employment</th>\n",
       "      <th></th>\n",
       "      <th></th>\n",
       "    </tr>\n",
       "  </thead>\n",
       "  <tbody>\n",
       "    <tr>\n",
       "      <th>Considerable Work Experience</th>\n",
       "      <td>2720</td>\n",
       "      <td>250</td>\n",
       "    </tr>\n",
       "    <tr>\n",
       "      <th>Extensive Work Experience</th>\n",
       "      <td>3088</td>\n",
       "      <td>171</td>\n",
       "    </tr>\n",
       "    <tr>\n",
       "      <th>Little Work Experience</th>\n",
       "      <td>4800</td>\n",
       "      <td>595</td>\n",
       "    </tr>\n",
       "    <tr>\n",
       "      <th>Moderate Work Experience</th>\n",
       "      <td>9104</td>\n",
       "      <td>725</td>\n",
       "    </tr>\n",
       "  </tbody>\n",
       "</table>\n",
       "</div>"
      ],
      "text/plain": [
       "debt                             0    1\n",
       "length_of_employment                   \n",
       "Considerable Work Experience  2720  250\n",
       "Extensive Work Experience     3088  171\n",
       "Little Work Experience        4800  595\n",
       "Moderate Work Experience      9104  725"
      ]
     },
     "execution_count": 92,
     "metadata": {},
     "output_type": "execute_result"
    }
   ],
   "source": [
    "pivot_days_employed = pd.pivot_table(df, index = 'length_of_employment', columns = 'debt', values = 'education', aggfunc = 'count')\n",
    "pivot_days_employed"
   ]
  },
  {
   "cell_type": "code",
   "execution_count": 93,
   "metadata": {},
   "outputs": [
    {
     "data": {
      "text/html": [
       "<div>\n",
       "<style scoped>\n",
       "    .dataframe tbody tr th:only-of-type {\n",
       "        vertical-align: middle;\n",
       "    }\n",
       "\n",
       "    .dataframe tbody tr th {\n",
       "        vertical-align: top;\n",
       "    }\n",
       "\n",
       "    .dataframe thead th {\n",
       "        text-align: right;\n",
       "    }\n",
       "</style>\n",
       "<table border=\"1\" class=\"dataframe\">\n",
       "  <thead>\n",
       "    <tr style=\"text-align: right;\">\n",
       "      <th>debt</th>\n",
       "      <th>length_of_employment</th>\n",
       "      <th>0</th>\n",
       "      <th>1</th>\n",
       "      <th>percentage</th>\n",
       "    </tr>\n",
       "  </thead>\n",
       "  <tbody>\n",
       "    <tr>\n",
       "      <th>0</th>\n",
       "      <td>Considerable Work Experience</td>\n",
       "      <td>2720</td>\n",
       "      <td>250</td>\n",
       "      <td>8.42</td>\n",
       "    </tr>\n",
       "    <tr>\n",
       "      <th>1</th>\n",
       "      <td>Extensive Work Experience</td>\n",
       "      <td>3088</td>\n",
       "      <td>171</td>\n",
       "      <td>5.25</td>\n",
       "    </tr>\n",
       "    <tr>\n",
       "      <th>2</th>\n",
       "      <td>Little Work Experience</td>\n",
       "      <td>4800</td>\n",
       "      <td>595</td>\n",
       "      <td>11.03</td>\n",
       "    </tr>\n",
       "    <tr>\n",
       "      <th>3</th>\n",
       "      <td>Moderate Work Experience</td>\n",
       "      <td>9104</td>\n",
       "      <td>725</td>\n",
       "      <td>7.38</td>\n",
       "    </tr>\n",
       "  </tbody>\n",
       "</table>\n",
       "</div>"
      ],
      "text/plain": [
       "debt          length_of_employment     0    1  percentage\n",
       "0     Considerable Work Experience  2720  250        8.42\n",
       "1        Extensive Work Experience  3088  171        5.25\n",
       "2           Little Work Experience  4800  595       11.03\n",
       "3         Moderate Work Experience  9104  725        7.38"
      ]
     },
     "execution_count": 93,
     "metadata": {},
     "output_type": "execute_result"
    }
   ],
   "source": [
    "pivot_days_employed.reset_index(inplace=True)\n",
    "pivot_days_employed['percentage'] = round(pivot_days_employed[1] / (pivot_days_employed[0] + pivot_days_employed[1]) * 100, 2)\n",
    "pivot_days_employed"
   ]
  },
  {
   "cell_type": "markdown",
   "metadata": {},
   "source": [
    "**Conclusion:**\n",
    "\n",
    "1. Borrowers with little work experience have the highest probability of defaulting on debts. This indicates that the more work experience a borrower has, the more capable they are of assessing their ability to repay debts."
   ]
  },
  {
   "cell_type": "markdown",
   "metadata": {},
   "source": [
    "### 3.5 Hypothesis 5: Is there a correlation between age and paying back on time? <a id='age'></a>\n",
    "\n",
    "Assumptions:\n",
    "- Calculating automatic rates based on the age category\n",
    "- Automatic rate = default rate, where default = failure to pay, rate = percentage. Mean is used to calculate the probability if the value is 0 or 1.\n",
    "- The higher the percentage, the higher the probability of failure to pay."
   ]
  },
  {
   "cell_type": "code",
   "execution_count": 94,
   "metadata": {},
   "outputs": [
    {
     "data": {
      "text/html": [
       "<div>\n",
       "<style scoped>\n",
       "    .dataframe tbody tr th:only-of-type {\n",
       "        vertical-align: middle;\n",
       "    }\n",
       "\n",
       "    .dataframe tbody tr th {\n",
       "        vertical-align: top;\n",
       "    }\n",
       "\n",
       "    .dataframe thead th {\n",
       "        text-align: right;\n",
       "    }\n",
       "</style>\n",
       "<table border=\"1\" class=\"dataframe\">\n",
       "  <thead>\n",
       "    <tr style=\"text-align: right;\">\n",
       "      <th>debt</th>\n",
       "      <th>0</th>\n",
       "      <th>1</th>\n",
       "    </tr>\n",
       "    <tr>\n",
       "      <th>age_category</th>\n",
       "      <th></th>\n",
       "      <th></th>\n",
       "    </tr>\n",
       "  </thead>\n",
       "  <tbody>\n",
       "    <tr>\n",
       "      <th>Early Middle-Aged Adults: 35-44</th>\n",
       "      <td>5358</td>\n",
       "      <td>482</td>\n",
       "    </tr>\n",
       "    <tr>\n",
       "      <th>Late Middle-aged Adults: 45-64</th>\n",
       "      <td>8192</td>\n",
       "      <td>559</td>\n",
       "    </tr>\n",
       "    <tr>\n",
       "      <th>Old Adults: &gt;65</th>\n",
       "      <td>667</td>\n",
       "      <td>35</td>\n",
       "    </tr>\n",
       "    <tr>\n",
       "      <th>Teenagers: &lt;22</th>\n",
       "      <td>157</td>\n",
       "      <td>19</td>\n",
       "    </tr>\n",
       "    <tr>\n",
       "      <th>Young Adults: 22-34</th>\n",
       "      <td>5159</td>\n",
       "      <td>632</td>\n",
       "    </tr>\n",
       "    <tr>\n",
       "      <th>unknown</th>\n",
       "      <td>179</td>\n",
       "      <td>14</td>\n",
       "    </tr>\n",
       "  </tbody>\n",
       "</table>\n",
       "</div>"
      ],
      "text/plain": [
       "debt                                0    1\n",
       "age_category                              \n",
       "Early Middle-Aged Adults: 35-44  5358  482\n",
       "Late Middle-aged Adults: 45-64   8192  559\n",
       "Old Adults: >65                   667   35\n",
       "Teenagers: <22                    157   19\n",
       "Young Adults: 22-34              5159  632\n",
       "unknown                           179   14"
      ]
     },
     "execution_count": 94,
     "metadata": {},
     "output_type": "execute_result"
    }
   ],
   "source": [
    "pivot_dob_years = pd.pivot_table(df, index = 'age_category', columns = 'debt', values = 'education', aggfunc = 'count')\n",
    "pivot_dob_years"
   ]
  },
  {
   "cell_type": "code",
   "execution_count": 96,
   "metadata": {},
   "outputs": [
    {
     "data": {
      "text/html": [
       "<div>\n",
       "<style scoped>\n",
       "    .dataframe tbody tr th:only-of-type {\n",
       "        vertical-align: middle;\n",
       "    }\n",
       "\n",
       "    .dataframe tbody tr th {\n",
       "        vertical-align: top;\n",
       "    }\n",
       "\n",
       "    .dataframe thead th {\n",
       "        text-align: right;\n",
       "    }\n",
       "</style>\n",
       "<table border=\"1\" class=\"dataframe\">\n",
       "  <thead>\n",
       "    <tr style=\"text-align: right;\">\n",
       "      <th>debt</th>\n",
       "      <th>index</th>\n",
       "      <th>age_category</th>\n",
       "      <th>0</th>\n",
       "      <th>1</th>\n",
       "      <th>percentage</th>\n",
       "    </tr>\n",
       "  </thead>\n",
       "  <tbody>\n",
       "    <tr>\n",
       "      <th>0</th>\n",
       "      <td>0</td>\n",
       "      <td>Early Middle-Aged Adults: 35-44</td>\n",
       "      <td>5358</td>\n",
       "      <td>482</td>\n",
       "      <td>8.25</td>\n",
       "    </tr>\n",
       "    <tr>\n",
       "      <th>1</th>\n",
       "      <td>1</td>\n",
       "      <td>Late Middle-aged Adults: 45-64</td>\n",
       "      <td>8192</td>\n",
       "      <td>559</td>\n",
       "      <td>6.39</td>\n",
       "    </tr>\n",
       "    <tr>\n",
       "      <th>2</th>\n",
       "      <td>2</td>\n",
       "      <td>Old Adults: &gt;65</td>\n",
       "      <td>667</td>\n",
       "      <td>35</td>\n",
       "      <td>4.99</td>\n",
       "    </tr>\n",
       "    <tr>\n",
       "      <th>3</th>\n",
       "      <td>3</td>\n",
       "      <td>Teenagers: &lt;22</td>\n",
       "      <td>157</td>\n",
       "      <td>19</td>\n",
       "      <td>10.80</td>\n",
       "    </tr>\n",
       "    <tr>\n",
       "      <th>4</th>\n",
       "      <td>4</td>\n",
       "      <td>Young Adults: 22-34</td>\n",
       "      <td>5159</td>\n",
       "      <td>632</td>\n",
       "      <td>10.91</td>\n",
       "    </tr>\n",
       "    <tr>\n",
       "      <th>5</th>\n",
       "      <td>5</td>\n",
       "      <td>unknown</td>\n",
       "      <td>179</td>\n",
       "      <td>14</td>\n",
       "      <td>7.25</td>\n",
       "    </tr>\n",
       "  </tbody>\n",
       "</table>\n",
       "</div>"
      ],
      "text/plain": [
       "debt  index                     age_category     0    1  percentage\n",
       "0         0  Early Middle-Aged Adults: 35-44  5358  482        8.25\n",
       "1         1   Late Middle-aged Adults: 45-64  8192  559        6.39\n",
       "2         2                  Old Adults: >65   667   35        4.99\n",
       "3         3                   Teenagers: <22   157   19       10.80\n",
       "4         4              Young Adults: 22-34  5159  632       10.91\n",
       "5         5                          unknown   179   14        7.25"
      ]
     },
     "execution_count": 96,
     "metadata": {},
     "output_type": "execute_result"
    }
   ],
   "source": [
    "pivot_dob_years.reset_index(inplace=True)\n",
    "pivot_dob_years['percentage'] = round(pivot_dob_years[1] / (pivot_dob_years[0] + pivot_dob_years[1]) * 100, 2)\n",
    "pivot_dob_years"
   ]
  },
  {
   "cell_type": "markdown",
   "metadata": {},
   "source": [
    "**Conclusion:**\n",
    "\n",
    "\n",
    "1. Young Adults and Teenagers have the highest percentage of defaulting on debts. This indicates that borrowers with relatively young ages tend to underestimate their ability and the risks involved in borrowing."
   ]
  },
  {
   "cell_type": "markdown",
   "metadata": {},
   "source": [
    "### 3.6 Hypothesis 6: How does the loan purpose affect the automatic rate? <a id='purpose'></a>\n",
    "\n",
    "Assumptions:\n",
    "- Calculating automatic rates based on the purpose category\n",
    "- Automatic rate = default rate, where default = failure to pay, rate = percentage. Mean is used to calculate the probability if the value is 0 or 1.\n",
    "- The higher the percentage, the higher the probability of failure to pay."
   ]
  },
  {
   "cell_type": "code",
   "execution_count": 97,
   "metadata": {},
   "outputs": [
    {
     "data": {
      "text/html": [
       "<div>\n",
       "<style scoped>\n",
       "    .dataframe tbody tr th:only-of-type {\n",
       "        vertical-align: middle;\n",
       "    }\n",
       "\n",
       "    .dataframe tbody tr th {\n",
       "        vertical-align: top;\n",
       "    }\n",
       "\n",
       "    .dataframe thead th {\n",
       "        text-align: right;\n",
       "    }\n",
       "</style>\n",
       "<table border=\"1\" class=\"dataframe\">\n",
       "  <thead>\n",
       "    <tr style=\"text-align: right;\">\n",
       "      <th>debt</th>\n",
       "      <th>0</th>\n",
       "      <th>1</th>\n",
       "    </tr>\n",
       "    <tr>\n",
       "      <th>purpose_category</th>\n",
       "      <th></th>\n",
       "      <th></th>\n",
       "    </tr>\n",
       "  </thead>\n",
       "  <tbody>\n",
       "    <tr>\n",
       "      <th>Car</th>\n",
       "      <td>3903</td>\n",
       "      <td>403</td>\n",
       "    </tr>\n",
       "    <tr>\n",
       "      <th>Education</th>\n",
       "      <td>3643</td>\n",
       "      <td>370</td>\n",
       "    </tr>\n",
       "    <tr>\n",
       "      <th>House/Property</th>\n",
       "      <td>5901</td>\n",
       "      <td>446</td>\n",
       "    </tr>\n",
       "    <tr>\n",
       "      <th>Real Estate</th>\n",
       "      <td>4128</td>\n",
       "      <td>336</td>\n",
       "    </tr>\n",
       "    <tr>\n",
       "      <th>Wedding</th>\n",
       "      <td>2137</td>\n",
       "      <td>186</td>\n",
       "    </tr>\n",
       "  </tbody>\n",
       "</table>\n",
       "</div>"
      ],
      "text/plain": [
       "debt                 0    1\n",
       "purpose_category           \n",
       "Car               3903  403\n",
       "Education         3643  370\n",
       "House/Property    5901  446\n",
       "Real Estate       4128  336\n",
       "Wedding           2137  186"
      ]
     },
     "execution_count": 97,
     "metadata": {},
     "output_type": "execute_result"
    }
   ],
   "source": [
    "pivot_purpose = pd.pivot_table(df, index = 'purpose_category', columns = 'debt', values = 'education', aggfunc = 'count')\n",
    "pivot_purpose"
   ]
  },
  {
   "cell_type": "code",
   "execution_count": 98,
   "metadata": {},
   "outputs": [
    {
     "data": {
      "text/html": [
       "<div>\n",
       "<style scoped>\n",
       "    .dataframe tbody tr th:only-of-type {\n",
       "        vertical-align: middle;\n",
       "    }\n",
       "\n",
       "    .dataframe tbody tr th {\n",
       "        vertical-align: top;\n",
       "    }\n",
       "\n",
       "    .dataframe thead th {\n",
       "        text-align: right;\n",
       "    }\n",
       "</style>\n",
       "<table border=\"1\" class=\"dataframe\">\n",
       "  <thead>\n",
       "    <tr style=\"text-align: right;\">\n",
       "      <th>debt</th>\n",
       "      <th>purpose_category</th>\n",
       "      <th>0</th>\n",
       "      <th>1</th>\n",
       "      <th>percentage</th>\n",
       "    </tr>\n",
       "  </thead>\n",
       "  <tbody>\n",
       "    <tr>\n",
       "      <th>0</th>\n",
       "      <td>Car</td>\n",
       "      <td>3903</td>\n",
       "      <td>403</td>\n",
       "      <td>9.36</td>\n",
       "    </tr>\n",
       "    <tr>\n",
       "      <th>1</th>\n",
       "      <td>Education</td>\n",
       "      <td>3643</td>\n",
       "      <td>370</td>\n",
       "      <td>9.22</td>\n",
       "    </tr>\n",
       "    <tr>\n",
       "      <th>2</th>\n",
       "      <td>House/Property</td>\n",
       "      <td>5901</td>\n",
       "      <td>446</td>\n",
       "      <td>7.03</td>\n",
       "    </tr>\n",
       "    <tr>\n",
       "      <th>3</th>\n",
       "      <td>Real Estate</td>\n",
       "      <td>4128</td>\n",
       "      <td>336</td>\n",
       "      <td>7.53</td>\n",
       "    </tr>\n",
       "    <tr>\n",
       "      <th>4</th>\n",
       "      <td>Wedding</td>\n",
       "      <td>2137</td>\n",
       "      <td>186</td>\n",
       "      <td>8.01</td>\n",
       "    </tr>\n",
       "  </tbody>\n",
       "</table>\n",
       "</div>"
      ],
      "text/plain": [
       "debt purpose_category     0    1  percentage\n",
       "0                 Car  3903  403        9.36\n",
       "1           Education  3643  370        9.22\n",
       "2      House/Property  5901  446        7.03\n",
       "3         Real Estate  4128  336        7.53\n",
       "4             Wedding  2137  186        8.01"
      ]
     },
     "execution_count": 98,
     "metadata": {},
     "output_type": "execute_result"
    }
   ],
   "source": [
    "pivot_purpose.reset_index(inplace=True)\n",
    "pivot_purpose['percentage'] = round(pivot_purpose[1] / (pivot_purpose[0] + pivot_purpose[1]) * 100, 2)\n",
    "pivot_purpose"
   ]
  },
  {
   "cell_type": "markdown",
   "metadata": {},
   "source": [
    "**Conclusion:**\n",
    "\n",
    "1. The loan purposes 'Car' and 'Education' have the highest percentage of likelihood for defaulting on payments.\n",
    "\n",
    "This is because a car is an asset with continuously decreasing value, so when a borrower fails to repay, they still incur a loss when selling the car to cover the debt.\n",
    "\n",
    "Regarding Education, it usually takes time for borrowers to be able to repay the borrowed money, especially if they do not successfully complete their education."
   ]
  },
  {
   "cell_type": "markdown",
   "metadata": {},
   "source": [
    "# General Conclusion <a id='end'></a>\n",
    "\n",
    "for Data Processing, I did these steps:\n",
    "1. Standardizing values: If there are inconsistent values (varying in magnitude), standardization is necessary.\n",
    "2. Removing minus signs (-) with the assumption that borrowers made input errors.\n",
    "3. Handling missing values by performing replacements.\n",
    "4. Checking statistical data (mean, median) in columns before replacement to avoid outliers.\n",
    "5. Removing duplicate data.\n",
    "\n",
    "for Conclusion regarding factors that influence the likelihood of defaulting on payments:\n",
    "\n",
    "To decide whether to grant a loan or not, it is important to consider the following factors that affect the likelihood of default:\n",
    "   - Days Employed: The fewer days employed, the higher the likelihood of defaulting on payments.\n",
    "   - Total Income: Higher income correlates with a higher likelihood of defaulting on payments.\n",
    "   - Age: Late teenagers and early adults have a higher likelihood of defaulting.\n",
    "   - Family Status: Borrowers with the status 'unmarried' and 'civil partnership' have a higher likelihood of defaulting.\n",
    "   - Loan purpose for cars and education shows a higher likelihood of defaulting.\n",
    "\n",
    "Additional questions to further enhance the accuracy of the loan decision-making process:\n",
    "- Loan tenure (tenor)\n",
    "- Loan amount borrowed.\n",
    "\n",
    "[Back to Contents](#back)"
   ]
  }
 ],
 "metadata": {
  "ExecuteTimeLog": [
   {
    "duration": 2741,
    "start_time": "2021-10-21T01:08:49.480Z"
   },
   {
    "duration": 52,
    "start_time": "2021-10-21T01:08:53.315Z"
   },
   {
    "duration": 49,
    "start_time": "2021-10-21T01:08:57.432Z"
   },
   {
    "duration": 70,
    "start_time": "2021-10-21T01:09:07.706Z"
   },
   {
    "duration": 697,
    "start_time": "2022-09-01T06:31:55.971Z"
   },
   {
    "duration": 580,
    "start_time": "2022-09-01T13:24:40.424Z"
   },
   {
    "duration": 15,
    "start_time": "2022-09-01T13:35:00.161Z"
   },
   {
    "duration": 68,
    "start_time": "2022-09-01T13:40:25.766Z"
   },
   {
    "duration": 12,
    "start_time": "2022-09-01T13:40:44.138Z"
   },
   {
    "duration": 58,
    "start_time": "2022-09-01T13:45:53.791Z"
   },
   {
    "duration": 29,
    "start_time": "2022-09-01T13:46:12.355Z"
   },
   {
    "duration": 69,
    "start_time": "2022-09-01T13:53:14.398Z"
   },
   {
    "duration": 74,
    "start_time": "2022-09-01T13:53:20.763Z"
   },
   {
    "duration": 13,
    "start_time": "2022-09-01T13:53:26.940Z"
   },
   {
    "duration": 9,
    "start_time": "2022-09-01T13:53:32.109Z"
   },
   {
    "duration": 28,
    "start_time": "2022-09-01T13:53:37.336Z"
   },
   {
    "duration": 9,
    "start_time": "2022-09-01T13:54:05.205Z"
   },
   {
    "duration": 9,
    "start_time": "2022-09-01T14:00:34.160Z"
   },
   {
    "duration": 26,
    "start_time": "2022-09-01T14:02:53.927Z"
   },
   {
    "duration": 17,
    "start_time": "2022-09-01T14:03:47.085Z"
   },
   {
    "duration": 19,
    "start_time": "2022-09-01T14:04:49.219Z"
   },
   {
    "duration": 25,
    "start_time": "2022-09-01T14:04:56.648Z"
   },
   {
    "duration": 20,
    "start_time": "2022-09-01T15:17:25.294Z"
   },
   {
    "duration": 20,
    "start_time": "2022-09-01T15:19:33.783Z"
   },
   {
    "duration": 7,
    "start_time": "2022-09-01T15:19:57.312Z"
   },
   {
    "duration": 4,
    "start_time": "2022-09-01T15:20:17.354Z"
   },
   {
    "duration": 231,
    "start_time": "2022-09-01T15:20:30.634Z"
   },
   {
    "duration": 8,
    "start_time": "2022-09-01T15:20:42.433Z"
   },
   {
    "duration": 77,
    "start_time": "2022-09-01T15:20:52.017Z"
   },
   {
    "duration": 904,
    "start_time": "2022-09-01T15:21:43.148Z"
   },
   {
    "duration": 15,
    "start_time": "2022-09-01T15:22:16.653Z"
   },
   {
    "duration": 3,
    "start_time": "2022-09-01T15:23:17.137Z"
   },
   {
    "duration": 26,
    "start_time": "2022-09-01T15:23:30.537Z"
   },
   {
    "duration": 60,
    "start_time": "2022-09-01T15:27:54.301Z"
   },
   {
    "duration": 21,
    "start_time": "2022-09-01T15:28:13.497Z"
   },
   {
    "duration": 5,
    "start_time": "2022-09-01T15:32:07.012Z"
   },
   {
    "duration": 4,
    "start_time": "2022-09-01T15:33:16.650Z"
   },
   {
    "duration": 13,
    "start_time": "2022-09-01T15:33:25.391Z"
   },
   {
    "duration": 6,
    "start_time": "2022-09-01T15:33:39.020Z"
   },
   {
    "duration": 20,
    "start_time": "2022-09-01T15:33:58.052Z"
   },
   {
    "duration": 12,
    "start_time": "2022-09-01T15:34:35.271Z"
   },
   {
    "duration": 12,
    "start_time": "2022-09-01T15:36:38.244Z"
   },
   {
    "duration": 18,
    "start_time": "2022-09-01T15:36:54.863Z"
   },
   {
    "duration": 11,
    "start_time": "2022-09-01T15:37:06.742Z"
   },
   {
    "duration": 19,
    "start_time": "2022-09-01T15:38:38.594Z"
   },
   {
    "duration": 15,
    "start_time": "2022-09-01T15:38:52.529Z"
   },
   {
    "duration": 13,
    "start_time": "2022-09-01T15:41:21.278Z"
   },
   {
    "duration": 11,
    "start_time": "2022-09-01T15:42:06.544Z"
   },
   {
    "duration": 19,
    "start_time": "2022-09-01T15:42:44.567Z"
   },
   {
    "duration": 11,
    "start_time": "2022-09-01T15:42:51.798Z"
   },
   {
    "duration": 21,
    "start_time": "2022-09-01T15:44:00.690Z"
   },
   {
    "duration": 20,
    "start_time": "2022-09-01T15:44:33.969Z"
   },
   {
    "duration": 67,
    "start_time": "2022-09-01T15:48:49.073Z"
   },
   {
    "duration": 6,
    "start_time": "2022-09-01T15:49:05.598Z"
   },
   {
    "duration": 18,
    "start_time": "2022-09-01T15:50:55.999Z"
   },
   {
    "duration": 5,
    "start_time": "2022-09-01T15:53:07.990Z"
   },
   {
    "duration": 5,
    "start_time": "2022-09-01T15:53:30.909Z"
   },
   {
    "duration": 19,
    "start_time": "2022-09-01T15:54:36.970Z"
   },
   {
    "duration": 52,
    "start_time": "2022-09-01T15:55:38.804Z"
   },
   {
    "duration": 43,
    "start_time": "2022-09-01T15:55:52.975Z"
   },
   {
    "duration": 5,
    "start_time": "2022-09-01T15:56:02.572Z"
   },
   {
    "duration": 4,
    "start_time": "2022-09-01T15:56:07.466Z"
   },
   {
    "duration": 1574,
    "start_time": "2022-09-01T15:57:17.804Z"
   },
   {
    "duration": 7,
    "start_time": "2022-09-01T15:57:35.339Z"
   },
   {
    "duration": 6,
    "start_time": "2022-09-01T15:58:11.744Z"
   },
   {
    "duration": 7,
    "start_time": "2022-09-01T15:58:24.665Z"
   },
   {
    "duration": 60,
    "start_time": "2022-09-01T16:04:35.908Z"
   },
   {
    "duration": 0,
    "start_time": "2022-09-01T16:05:34.116Z"
   },
   {
    "duration": 23,
    "start_time": "2022-09-01T16:05:44.467Z"
   },
   {
    "duration": 23,
    "start_time": "2022-09-01T16:05:57.668Z"
   },
   {
    "duration": 6,
    "start_time": "2022-09-01T16:06:27.178Z"
   },
   {
    "duration": 489,
    "start_time": "2022-09-01T16:07:17.775Z"
   },
   {
    "duration": 6,
    "start_time": "2022-09-01T16:07:27.395Z"
   },
   {
    "duration": 23,
    "start_time": "2022-09-01T16:07:33.669Z"
   },
   {
    "duration": 24,
    "start_time": "2022-09-01T16:14:54.978Z"
   },
   {
    "duration": 6,
    "start_time": "2022-09-01T16:15:07.392Z"
   },
   {
    "duration": 6,
    "start_time": "2022-09-01T16:15:52.653Z"
   },
   {
    "duration": 6,
    "start_time": "2022-09-01T16:16:02.021Z"
   },
   {
    "duration": 5,
    "start_time": "2022-09-01T16:16:14.686Z"
   },
   {
    "duration": 7,
    "start_time": "2022-09-01T16:16:20.689Z"
   },
   {
    "duration": 6,
    "start_time": "2022-09-01T16:16:29.541Z"
   },
   {
    "duration": 450,
    "start_time": "2022-09-01T16:16:57.320Z"
   },
   {
    "duration": 441,
    "start_time": "2022-09-01T16:17:05.527Z"
   },
   {
    "duration": 5,
    "start_time": "2022-09-01T16:17:22.583Z"
   },
   {
    "duration": 4,
    "start_time": "2022-09-01T16:17:43.778Z"
   },
   {
    "duration": 5,
    "start_time": "2022-09-01T16:17:50.907Z"
   },
   {
    "duration": 5,
    "start_time": "2022-09-01T16:31:22.519Z"
   },
   {
    "duration": 24,
    "start_time": "2022-09-01T16:31:28.084Z"
   },
   {
    "duration": 8,
    "start_time": "2022-09-01T16:32:04.969Z"
   },
   {
    "duration": 8,
    "start_time": "2022-09-01T16:32:10.358Z"
   },
   {
    "duration": 4,
    "start_time": "2022-09-01T16:32:14.197Z"
   },
   {
    "duration": 4,
    "start_time": "2022-09-01T16:34:37.870Z"
   },
   {
    "duration": 5,
    "start_time": "2022-09-01T16:34:59.324Z"
   },
   {
    "duration": 5,
    "start_time": "2022-09-01T16:35:10.098Z"
   },
   {
    "duration": 6,
    "start_time": "2022-09-01T16:36:18.894Z"
   },
   {
    "duration": 6,
    "start_time": "2022-09-01T16:36:22.542Z"
   },
   {
    "duration": 4,
    "start_time": "2022-09-01T16:37:15.461Z"
   },
   {
    "duration": 5,
    "start_time": "2022-09-01T16:37:22.303Z"
   },
   {
    "duration": 6,
    "start_time": "2022-09-01T16:39:00.149Z"
   },
   {
    "duration": 670,
    "start_time": "2022-09-02T16:52:39.066Z"
   },
   {
    "duration": 6,
    "start_time": "2022-09-02T16:52:39.739Z"
   },
   {
    "duration": 14,
    "start_time": "2022-09-02T16:52:39.747Z"
   },
   {
    "duration": 26,
    "start_time": "2022-09-02T16:52:39.763Z"
   },
   {
    "duration": 23,
    "start_time": "2022-09-02T16:52:39.792Z"
   },
   {
    "duration": 7,
    "start_time": "2022-09-02T16:52:39.817Z"
   },
   {
    "duration": 7,
    "start_time": "2022-09-02T16:52:39.826Z"
   },
   {
    "duration": 8,
    "start_time": "2022-09-02T16:52:42.781Z"
   },
   {
    "duration": 7,
    "start_time": "2022-09-02T16:52:54.485Z"
   },
   {
    "duration": 10,
    "start_time": "2022-09-02T16:55:26.089Z"
   },
   {
    "duration": 12,
    "start_time": "2022-09-02T17:01:21.502Z"
   },
   {
    "duration": 9,
    "start_time": "2022-09-02T17:02:12.709Z"
   },
   {
    "duration": 9,
    "start_time": "2022-09-02T17:02:17.273Z"
   },
   {
    "duration": 7,
    "start_time": "2022-09-02T17:02:59.056Z"
   },
   {
    "duration": 8,
    "start_time": "2022-09-02T17:03:13.269Z"
   },
   {
    "duration": 64,
    "start_time": "2022-09-02T17:03:28.514Z"
   },
   {
    "duration": 10,
    "start_time": "2022-09-02T17:04:07.498Z"
   },
   {
    "duration": 8,
    "start_time": "2022-09-02T17:04:15.789Z"
   },
   {
    "duration": 9,
    "start_time": "2022-09-02T17:04:22.789Z"
   },
   {
    "duration": 9,
    "start_time": "2022-09-02T17:04:28.486Z"
   },
   {
    "duration": 13,
    "start_time": "2022-09-02T17:05:46.205Z"
   },
   {
    "duration": 9,
    "start_time": "2022-09-02T17:06:53.589Z"
   },
   {
    "duration": 9,
    "start_time": "2022-09-02T17:06:58.357Z"
   },
   {
    "duration": 6,
    "start_time": "2022-09-02T17:08:22.908Z"
   },
   {
    "duration": 4,
    "start_time": "2022-09-02T17:55:56.934Z"
   },
   {
    "duration": 5,
    "start_time": "2022-09-02T17:56:01.827Z"
   },
   {
    "duration": 9,
    "start_time": "2022-09-02T17:56:08.402Z"
   },
   {
    "duration": 10,
    "start_time": "2022-09-02T17:56:25.837Z"
   },
   {
    "duration": 4,
    "start_time": "2022-09-02T17:56:42.399Z"
   },
   {
    "duration": 71,
    "start_time": "2022-09-02T17:58:52.768Z"
   },
   {
    "duration": 4,
    "start_time": "2022-09-02T17:59:02.017Z"
   },
   {
    "duration": 3,
    "start_time": "2022-09-02T17:59:19.673Z"
   },
   {
    "duration": 5,
    "start_time": "2022-09-02T17:59:32.904Z"
   },
   {
    "duration": 14,
    "start_time": "2022-09-02T18:04:59.109Z"
   },
   {
    "duration": 5,
    "start_time": "2022-09-02T18:05:11.731Z"
   },
   {
    "duration": 5,
    "start_time": "2022-09-02T18:05:45.872Z"
   },
   {
    "duration": 5,
    "start_time": "2022-09-02T18:06:19.263Z"
   },
   {
    "duration": 5,
    "start_time": "2022-09-02T18:06:41.896Z"
   },
   {
    "duration": 8,
    "start_time": "2022-09-02T18:06:52.941Z"
   },
   {
    "duration": 3,
    "start_time": "2022-09-02T18:06:58.247Z"
   },
   {
    "duration": 3,
    "start_time": "2022-09-02T18:07:01.869Z"
   },
   {
    "duration": 5,
    "start_time": "2022-09-02T18:07:06.711Z"
   },
   {
    "duration": 674,
    "start_time": "2022-09-03T04:52:58.214Z"
   },
   {
    "duration": 4,
    "start_time": "2022-09-03T04:52:58.891Z"
   },
   {
    "duration": 16,
    "start_time": "2022-09-03T04:52:58.896Z"
   },
   {
    "duration": 20,
    "start_time": "2022-09-03T04:52:58.914Z"
   },
   {
    "duration": 21,
    "start_time": "2022-09-03T04:52:58.935Z"
   },
   {
    "duration": 38,
    "start_time": "2022-09-03T04:52:58.958Z"
   },
   {
    "duration": 7,
    "start_time": "2022-09-03T04:52:58.998Z"
   },
   {
    "duration": 13,
    "start_time": "2022-09-03T04:52:59.007Z"
   },
   {
    "duration": 9,
    "start_time": "2022-09-03T04:52:59.022Z"
   },
   {
    "duration": 15,
    "start_time": "2022-09-03T04:52:59.033Z"
   },
   {
    "duration": 1081,
    "start_time": "2022-09-03T04:55:08.616Z"
   },
   {
    "duration": 3035,
    "start_time": "2022-09-03T04:56:12.193Z"
   },
   {
    "duration": 2803,
    "start_time": "2022-09-03T04:58:03.293Z"
   },
   {
    "duration": 1227,
    "start_time": "2022-09-03T04:59:21.472Z"
   },
   {
    "duration": 825,
    "start_time": "2022-09-03T05:05:36.767Z"
   },
   {
    "duration": 25,
    "start_time": "2022-09-03T05:06:17.859Z"
   },
   {
    "duration": 1081,
    "start_time": "2022-09-03T05:06:28.439Z"
   },
   {
    "duration": 54,
    "start_time": "2022-09-03T15:08:10.525Z"
   },
   {
    "duration": 1426,
    "start_time": "2022-09-03T15:08:22.724Z"
   },
   {
    "duration": 3,
    "start_time": "2022-09-03T15:08:24.152Z"
   },
   {
    "duration": 14,
    "start_time": "2022-09-03T15:08:24.157Z"
   },
   {
    "duration": 16,
    "start_time": "2022-09-03T15:08:24.172Z"
   },
   {
    "duration": 34,
    "start_time": "2022-09-03T15:08:24.190Z"
   },
   {
    "duration": 6,
    "start_time": "2022-09-03T15:08:24.225Z"
   },
   {
    "duration": 5,
    "start_time": "2022-09-03T15:08:24.232Z"
   },
   {
    "duration": 13,
    "start_time": "2022-09-03T15:08:24.238Z"
   },
   {
    "duration": 8,
    "start_time": "2022-09-03T15:08:24.252Z"
   },
   {
    "duration": 12,
    "start_time": "2022-09-03T15:08:24.261Z"
   },
   {
    "duration": 2774,
    "start_time": "2022-09-03T15:08:24.275Z"
   },
   {
    "duration": 893,
    "start_time": "2022-09-03T15:08:27.050Z"
   },
   {
    "duration": 5,
    "start_time": "2022-09-03T15:08:27.945Z"
   },
   {
    "duration": 15,
    "start_time": "2022-09-03T15:08:27.952Z"
   },
   {
    "duration": 3,
    "start_time": "2022-09-03T15:08:27.968Z"
   },
   {
    "duration": 4,
    "start_time": "2022-09-03T15:08:27.973Z"
   },
   {
    "duration": 32,
    "start_time": "2022-09-03T15:08:31.294Z"
   },
   {
    "duration": 24,
    "start_time": "2022-09-03T15:08:37.692Z"
   },
   {
    "duration": 9,
    "start_time": "2022-09-03T15:08:55.053Z"
   },
   {
    "duration": 186,
    "start_time": "2022-09-03T15:09:08.553Z"
   },
   {
    "duration": 76,
    "start_time": "2022-09-03T15:10:16.060Z"
   },
   {
    "duration": 11,
    "start_time": "2022-09-03T15:10:25.883Z"
   },
   {
    "duration": 82,
    "start_time": "2022-09-03T15:11:19.991Z"
   },
   {
    "duration": 1471,
    "start_time": "2022-09-04T10:30:33.216Z"
   },
   {
    "duration": 3,
    "start_time": "2022-09-04T10:30:34.689Z"
   },
   {
    "duration": 16,
    "start_time": "2022-09-04T10:30:34.693Z"
   },
   {
    "duration": 15,
    "start_time": "2022-09-04T10:30:34.711Z"
   },
   {
    "duration": 19,
    "start_time": "2022-09-04T10:30:34.728Z"
   },
   {
    "duration": 20,
    "start_time": "2022-09-04T10:30:34.748Z"
   },
   {
    "duration": 4,
    "start_time": "2022-09-04T10:30:34.770Z"
   },
   {
    "duration": 11,
    "start_time": "2022-09-04T10:30:34.776Z"
   },
   {
    "duration": 8,
    "start_time": "2022-09-04T10:30:34.788Z"
   },
   {
    "duration": 16,
    "start_time": "2022-09-04T10:30:34.797Z"
   },
   {
    "duration": 2567,
    "start_time": "2022-09-04T10:30:34.814Z"
   },
   {
    "duration": 910,
    "start_time": "2022-09-04T10:30:37.383Z"
   },
   {
    "duration": 5,
    "start_time": "2022-09-04T10:30:38.294Z"
   },
   {
    "duration": 14,
    "start_time": "2022-09-04T10:30:38.301Z"
   },
   {
    "duration": 5,
    "start_time": "2022-09-04T10:30:38.316Z"
   },
   {
    "duration": 3,
    "start_time": "2022-09-04T10:31:54.134Z"
   },
   {
    "duration": 20,
    "start_time": "2022-09-04T10:32:03.993Z"
   },
   {
    "duration": 6,
    "start_time": "2022-09-04T10:32:16.469Z"
   },
   {
    "duration": 10,
    "start_time": "2022-09-04T10:32:23.667Z"
   },
   {
    "duration": 7,
    "start_time": "2022-09-04T10:33:15.602Z"
   },
   {
    "duration": 7,
    "start_time": "2022-09-04T10:34:13.089Z"
   },
   {
    "duration": 96,
    "start_time": "2022-09-04T10:35:32.465Z"
   },
   {
    "duration": 2157,
    "start_time": "2022-09-04T10:35:48.728Z"
   },
   {
    "duration": 1384,
    "start_time": "2022-09-04T10:35:55.272Z"
   },
   {
    "duration": 19,
    "start_time": "2022-09-04T10:36:13.669Z"
   },
   {
    "duration": 8,
    "start_time": "2022-09-04T10:36:19.566Z"
   },
   {
    "duration": 19,
    "start_time": "2022-09-04T10:37:15.864Z"
   },
   {
    "duration": 18,
    "start_time": "2022-09-04T10:37:27.881Z"
   },
   {
    "duration": 6,
    "start_time": "2022-09-04T10:38:01.883Z"
   },
   {
    "duration": 9,
    "start_time": "2022-09-04T10:38:30.614Z"
   },
   {
    "duration": 7,
    "start_time": "2022-09-04T10:38:43.615Z"
   },
   {
    "duration": 7,
    "start_time": "2022-09-04T10:38:53.915Z"
   },
   {
    "duration": 8,
    "start_time": "2022-09-04T10:39:02.377Z"
   },
   {
    "duration": 17,
    "start_time": "2022-09-04T10:39:48.065Z"
   },
   {
    "duration": 8,
    "start_time": "2022-09-04T10:40:03.323Z"
   },
   {
    "duration": 8,
    "start_time": "2022-09-04T10:40:14.426Z"
   },
   {
    "duration": 17,
    "start_time": "2022-09-04T10:40:20.014Z"
   },
   {
    "duration": 9,
    "start_time": "2022-09-04T10:40:32.470Z"
   },
   {
    "duration": 17,
    "start_time": "2022-09-04T10:40:44.060Z"
   },
   {
    "duration": 16,
    "start_time": "2022-09-04T10:40:58.924Z"
   },
   {
    "duration": 12,
    "start_time": "2022-09-04T10:41:08.057Z"
   },
   {
    "duration": 15,
    "start_time": "2022-09-04T10:41:19.933Z"
   },
   {
    "duration": 12,
    "start_time": "2022-09-04T10:47:15.126Z"
   },
   {
    "duration": 11,
    "start_time": "2022-09-04T10:47:23.472Z"
   },
   {
    "duration": 14,
    "start_time": "2022-09-04T10:47:54.709Z"
   },
   {
    "duration": 12,
    "start_time": "2022-09-04T10:48:08.479Z"
   },
   {
    "duration": 4,
    "start_time": "2022-09-04T10:48:19.866Z"
   },
   {
    "duration": 5,
    "start_time": "2022-09-04T10:48:35.584Z"
   },
   {
    "duration": 6,
    "start_time": "2022-09-04T10:48:42.070Z"
   },
   {
    "duration": 10,
    "start_time": "2022-09-04T10:48:44.819Z"
   },
   {
    "duration": 5,
    "start_time": "2022-09-04T10:48:49.130Z"
   },
   {
    "duration": 6,
    "start_time": "2022-09-04T10:48:53.318Z"
   },
   {
    "duration": 7,
    "start_time": "2022-09-04T10:48:57.023Z"
   },
   {
    "duration": 9,
    "start_time": "2022-09-04T10:49:02.066Z"
   },
   {
    "duration": 7,
    "start_time": "2022-09-04T10:49:14.069Z"
   },
   {
    "duration": 12,
    "start_time": "2022-09-04T10:50:03.618Z"
   },
   {
    "duration": 12,
    "start_time": "2022-09-04T10:50:14.277Z"
   },
   {
    "duration": 7,
    "start_time": "2022-09-04T10:50:24.315Z"
   },
   {
    "duration": 83,
    "start_time": "2022-09-04T10:50:47.222Z"
   },
   {
    "duration": 5,
    "start_time": "2022-09-04T10:50:52.875Z"
   },
   {
    "duration": 5,
    "start_time": "2022-09-04T10:51:00.830Z"
   },
   {
    "duration": 4,
    "start_time": "2022-09-04T10:51:07.727Z"
   },
   {
    "duration": 6,
    "start_time": "2022-09-04T10:51:13.370Z"
   },
   {
    "duration": 7,
    "start_time": "2022-09-04T10:51:49.106Z"
   },
   {
    "duration": 7,
    "start_time": "2022-09-04T10:52:23.921Z"
   },
   {
    "duration": 5,
    "start_time": "2022-09-04T10:52:36.223Z"
   },
   {
    "duration": 6,
    "start_time": "2022-09-04T10:52:43.876Z"
   },
   {
    "duration": 8,
    "start_time": "2022-09-04T10:53:16.514Z"
   },
   {
    "duration": 2,
    "start_time": "2022-09-04T10:54:04.018Z"
   },
   {
    "duration": 12,
    "start_time": "2022-09-04T10:54:13.123Z"
   },
   {
    "duration": 11,
    "start_time": "2022-09-04T10:54:26.425Z"
   },
   {
    "duration": 13,
    "start_time": "2022-09-04T10:55:03.661Z"
   },
   {
    "duration": 11,
    "start_time": "2022-09-04T10:55:11.487Z"
   },
   {
    "duration": 16,
    "start_time": "2022-09-04T10:55:19.521Z"
   },
   {
    "duration": 23,
    "start_time": "2022-09-04T10:55:30.725Z"
   },
   {
    "duration": 6,
    "start_time": "2022-09-04T10:55:38.718Z"
   },
   {
    "duration": 6,
    "start_time": "2022-09-04T10:58:51.925Z"
   },
   {
    "duration": 7,
    "start_time": "2022-09-04T10:59:05.473Z"
   },
   {
    "duration": 7,
    "start_time": "2022-09-04T10:59:17.431Z"
   },
   {
    "duration": 8,
    "start_time": "2022-09-04T10:59:22.880Z"
   },
   {
    "duration": 7,
    "start_time": "2022-09-04T10:59:47.323Z"
   },
   {
    "duration": 7,
    "start_time": "2022-09-04T11:00:06.066Z"
   },
   {
    "duration": 8,
    "start_time": "2022-09-04T11:00:23.322Z"
   },
   {
    "duration": 8,
    "start_time": "2022-09-04T11:00:32.167Z"
   },
   {
    "duration": 8,
    "start_time": "2022-09-04T11:04:22.314Z"
   },
   {
    "duration": 12,
    "start_time": "2022-09-04T11:05:18.983Z"
   },
   {
    "duration": 5,
    "start_time": "2022-09-04T11:05:29.085Z"
   },
   {
    "duration": 6,
    "start_time": "2022-09-04T11:05:48.314Z"
   },
   {
    "duration": 5,
    "start_time": "2022-09-04T11:05:49.867Z"
   },
   {
    "duration": 5,
    "start_time": "2022-09-04T11:06:27.262Z"
   },
   {
    "duration": 6,
    "start_time": "2022-09-04T11:06:30.977Z"
   },
   {
    "duration": 6,
    "start_time": "2022-09-04T11:06:35.424Z"
   },
   {
    "duration": 4,
    "start_time": "2022-09-04T11:06:36.888Z"
   },
   {
    "duration": 81,
    "start_time": "2022-09-04T11:08:08.138Z"
   },
   {
    "duration": 75,
    "start_time": "2022-09-04T11:08:28.563Z"
   },
   {
    "duration": 4,
    "start_time": "2022-09-04T11:09:26.762Z"
   },
   {
    "duration": 6,
    "start_time": "2022-09-04T11:09:32.280Z"
   },
   {
    "duration": 5,
    "start_time": "2022-09-04T11:09:35.585Z"
   },
   {
    "duration": 5,
    "start_time": "2022-09-04T11:09:39.182Z"
   },
   {
    "duration": 6,
    "start_time": "2022-09-04T11:10:19.829Z"
   },
   {
    "duration": 6,
    "start_time": "2022-09-04T11:10:23.182Z"
   },
   {
    "duration": 37,
    "start_time": "2022-09-04T11:10:47.233Z"
   },
   {
    "duration": 9,
    "start_time": "2022-09-04T11:12:09.110Z"
   },
   {
    "duration": 72,
    "start_time": "2022-09-04T11:13:35.769Z"
   },
   {
    "duration": 110,
    "start_time": "2022-09-04T11:13:55.039Z"
   },
   {
    "duration": 9,
    "start_time": "2022-09-04T11:14:43.265Z"
   },
   {
    "duration": 102,
    "start_time": "2022-09-04T11:14:46.387Z"
   },
   {
    "duration": 10,
    "start_time": "2022-09-04T11:14:51.489Z"
   },
   {
    "duration": 1271,
    "start_time": "2022-09-04T11:15:22.660Z"
   },
   {
    "duration": 5,
    "start_time": "2022-09-04T11:15:35.180Z"
   },
   {
    "duration": 7,
    "start_time": "2022-09-04T11:15:44.243Z"
   },
   {
    "duration": 5,
    "start_time": "2022-09-04T11:15:46.176Z"
   },
   {
    "duration": 115,
    "start_time": "2022-09-04T11:19:02.090Z"
   },
   {
    "duration": 5,
    "start_time": "2022-09-04T11:21:18.060Z"
   },
   {
    "duration": 138,
    "start_time": "2022-09-04T12:27:43.227Z"
   },
   {
    "duration": 20,
    "start_time": "2022-09-04T12:27:43.372Z"
   },
   {
    "duration": 31,
    "start_time": "2022-09-04T12:27:43.394Z"
   },
   {
    "duration": 52,
    "start_time": "2022-09-04T12:27:43.428Z"
   },
   {
    "duration": 38,
    "start_time": "2022-09-04T12:27:43.495Z"
   },
   {
    "duration": 9,
    "start_time": "2022-09-04T12:27:43.536Z"
   },
   {
    "duration": 27,
    "start_time": "2022-09-04T12:27:43.547Z"
   },
   {
    "duration": 42,
    "start_time": "2022-09-04T12:27:43.577Z"
   },
   {
    "duration": 21,
    "start_time": "2022-09-04T12:27:43.622Z"
   },
   {
    "duration": 19,
    "start_time": "2022-09-04T12:27:43.650Z"
   },
   {
    "duration": 3375,
    "start_time": "2022-09-04T12:27:43.671Z"
   },
   {
    "duration": 1055,
    "start_time": "2022-09-04T12:27:47.048Z"
   },
   {
    "duration": 6,
    "start_time": "2022-09-04T12:27:48.104Z"
   },
   {
    "duration": 18,
    "start_time": "2022-09-04T12:27:48.111Z"
   },
   {
    "duration": 5,
    "start_time": "2022-09-04T12:27:48.131Z"
   },
   {
    "duration": 36,
    "start_time": "2022-09-04T12:27:48.138Z"
   },
   {
    "duration": 180,
    "start_time": "2022-09-04T12:27:48.177Z"
   },
   {
    "duration": 18,
    "start_time": "2022-09-04T12:27:48.368Z"
   },
   {
    "duration": 12,
    "start_time": "2022-09-04T12:27:48.389Z"
   },
   {
    "duration": 6,
    "start_time": "2022-09-04T12:28:34.321Z"
   },
   {
    "duration": 5,
    "start_time": "2022-09-04T12:32:20.514Z"
   },
   {
    "duration": 10,
    "start_time": "2022-09-04T12:32:26.839Z"
   },
   {
    "duration": 20,
    "start_time": "2022-09-04T12:37:42.627Z"
   },
   {
    "duration": 7,
    "start_time": "2022-09-04T12:38:01.523Z"
   },
   {
    "duration": 8,
    "start_time": "2022-09-04T12:38:09.295Z"
   },
   {
    "duration": 27,
    "start_time": "2022-09-04T12:38:46.786Z"
   },
   {
    "duration": 80,
    "start_time": "2022-09-04T12:58:41.897Z"
   },
   {
    "duration": 6,
    "start_time": "2022-09-04T12:58:41.987Z"
   },
   {
    "duration": 17,
    "start_time": "2022-09-04T12:58:41.995Z"
   },
   {
    "duration": 19,
    "start_time": "2022-09-04T12:58:42.015Z"
   },
   {
    "duration": 35,
    "start_time": "2022-09-04T12:58:42.036Z"
   },
   {
    "duration": 11,
    "start_time": "2022-09-04T12:58:42.074Z"
   },
   {
    "duration": 11,
    "start_time": "2022-09-04T12:58:42.088Z"
   },
   {
    "duration": 14,
    "start_time": "2022-09-04T12:58:42.101Z"
   },
   {
    "duration": 12,
    "start_time": "2022-09-04T12:58:42.117Z"
   },
   {
    "duration": 40,
    "start_time": "2022-09-04T12:58:42.131Z"
   },
   {
    "duration": 2875,
    "start_time": "2022-09-04T12:58:42.173Z"
   },
   {
    "duration": 1023,
    "start_time": "2022-09-04T12:58:45.050Z"
   },
   {
    "duration": 8,
    "start_time": "2022-09-04T12:58:46.076Z"
   },
   {
    "duration": 20,
    "start_time": "2022-09-04T12:58:46.087Z"
   },
   {
    "duration": 5,
    "start_time": "2022-09-04T12:58:46.108Z"
   },
   {
    "duration": 7,
    "start_time": "2022-09-04T12:58:46.115Z"
   },
   {
    "duration": 136,
    "start_time": "2022-09-04T12:58:46.124Z"
   },
   {
    "duration": 12,
    "start_time": "2022-09-04T12:58:46.267Z"
   },
   {
    "duration": 10,
    "start_time": "2022-09-04T12:58:46.282Z"
   },
   {
    "duration": 7,
    "start_time": "2022-09-04T12:58:46.293Z"
   },
   {
    "duration": 11,
    "start_time": "2022-09-04T12:58:51.856Z"
   },
   {
    "duration": 34,
    "start_time": "2022-09-04T13:07:41.672Z"
   },
   {
    "duration": 4,
    "start_time": "2022-09-04T13:08:45.259Z"
   },
   {
    "duration": 11,
    "start_time": "2022-09-04T13:08:53.605Z"
   },
   {
    "duration": 11,
    "start_time": "2022-09-04T13:09:15.255Z"
   },
   {
    "duration": 21,
    "start_time": "2022-09-04T13:09:21.009Z"
   },
   {
    "duration": 8,
    "start_time": "2022-09-04T13:11:01.939Z"
   },
   {
    "duration": 6,
    "start_time": "2022-09-04T13:13:30.256Z"
   },
   {
    "duration": 83,
    "start_time": "2022-09-04T13:13:38.350Z"
   },
   {
    "duration": 110,
    "start_time": "2022-09-04T13:13:47.349Z"
   },
   {
    "duration": 70,
    "start_time": "2022-09-04T13:15:06.926Z"
   },
   {
    "duration": 5,
    "start_time": "2022-09-04T13:15:18.907Z"
   },
   {
    "duration": 6,
    "start_time": "2022-09-04T13:15:25.461Z"
   },
   {
    "duration": 6,
    "start_time": "2022-09-04T13:16:52.831Z"
   },
   {
    "duration": 6,
    "start_time": "2022-09-04T13:17:23.548Z"
   },
   {
    "duration": 4,
    "start_time": "2022-09-04T13:17:38.799Z"
   },
   {
    "duration": 6,
    "start_time": "2022-09-04T13:17:41.216Z"
   },
   {
    "duration": 5,
    "start_time": "2022-09-04T13:18:06.249Z"
   },
   {
    "duration": 16,
    "start_time": "2022-09-04T13:20:15.883Z"
   },
   {
    "duration": 12,
    "start_time": "2022-09-04T13:21:12.912Z"
   },
   {
    "duration": 10,
    "start_time": "2022-09-04T13:21:28.646Z"
   },
   {
    "duration": 4,
    "start_time": "2022-09-04T13:21:30.194Z"
   },
   {
    "duration": 5,
    "start_time": "2022-09-04T13:22:42.953Z"
   },
   {
    "duration": 11,
    "start_time": "2022-09-04T13:22:45.180Z"
   },
   {
    "duration": 5,
    "start_time": "2022-09-04T13:23:12.341Z"
   },
   {
    "duration": 5,
    "start_time": "2022-09-04T13:23:17.250Z"
   },
   {
    "duration": 4,
    "start_time": "2022-09-04T13:23:25.331Z"
   },
   {
    "duration": 14,
    "start_time": "2022-09-04T13:23:56.563Z"
   },
   {
    "duration": 12,
    "start_time": "2022-09-04T13:23:58.902Z"
   },
   {
    "duration": 9,
    "start_time": "2022-09-04T13:24:33.594Z"
   },
   {
    "duration": 90,
    "start_time": "2022-09-04T13:26:08.722Z"
   },
   {
    "duration": 6,
    "start_time": "2022-09-04T13:26:08.814Z"
   },
   {
    "duration": 19,
    "start_time": "2022-09-04T13:26:08.822Z"
   },
   {
    "duration": 19,
    "start_time": "2022-09-04T13:26:08.842Z"
   },
   {
    "duration": 32,
    "start_time": "2022-09-04T13:26:08.863Z"
   },
   {
    "duration": 18,
    "start_time": "2022-09-04T13:26:08.897Z"
   },
   {
    "duration": 9,
    "start_time": "2022-09-04T13:26:08.917Z"
   },
   {
    "duration": 14,
    "start_time": "2022-09-04T13:26:08.928Z"
   },
   {
    "duration": 35,
    "start_time": "2022-09-04T13:26:08.968Z"
   },
   {
    "duration": 13,
    "start_time": "2022-09-04T13:26:09.006Z"
   },
   {
    "duration": 3130,
    "start_time": "2022-09-04T13:26:09.021Z"
   },
   {
    "duration": 1069,
    "start_time": "2022-09-04T13:26:12.152Z"
   },
   {
    "duration": 5,
    "start_time": "2022-09-04T13:26:13.223Z"
   },
   {
    "duration": 15,
    "start_time": "2022-09-04T13:26:13.230Z"
   },
   {
    "duration": 27,
    "start_time": "2022-09-04T13:26:13.247Z"
   },
   {
    "duration": 29,
    "start_time": "2022-09-04T13:26:13.276Z"
   },
   {
    "duration": 124,
    "start_time": "2022-09-04T13:26:13.306Z"
   },
   {
    "duration": 8,
    "start_time": "2022-09-04T13:26:13.432Z"
   },
   {
    "duration": 6,
    "start_time": "2022-09-04T13:26:13.442Z"
   },
   {
    "duration": 8,
    "start_time": "2022-09-04T13:26:13.449Z"
   },
   {
    "duration": 26,
    "start_time": "2022-09-04T13:26:13.470Z"
   },
   {
    "duration": 22,
    "start_time": "2022-09-04T13:26:13.504Z"
   },
   {
    "duration": 5,
    "start_time": "2022-09-04T13:26:13.528Z"
   },
   {
    "duration": 16,
    "start_time": "2022-09-04T13:26:13.534Z"
   },
   {
    "duration": 10,
    "start_time": "2022-09-04T13:26:13.552Z"
   },
   {
    "duration": 11,
    "start_time": "2022-09-04T13:26:39.992Z"
   },
   {
    "duration": 107,
    "start_time": "2022-09-04T13:27:38.821Z"
   },
   {
    "duration": 10,
    "start_time": "2022-09-04T13:27:49.193Z"
   },
   {
    "duration": 6,
    "start_time": "2022-09-04T13:28:25.224Z"
   },
   {
    "duration": 7,
    "start_time": "2022-09-04T13:28:27.867Z"
   },
   {
    "duration": 9,
    "start_time": "2022-09-04T14:35:44.288Z"
   },
   {
    "duration": 19,
    "start_time": "2022-09-04T14:39:54.405Z"
   },
   {
    "duration": 3,
    "start_time": "2022-09-04T14:40:50.249Z"
   },
   {
    "duration": 3,
    "start_time": "2022-09-04T14:46:18.250Z"
   },
   {
    "duration": 6,
    "start_time": "2022-09-04T14:46:20.387Z"
   },
   {
    "duration": 6,
    "start_time": "2022-09-04T14:46:30.316Z"
   },
   {
    "duration": 5,
    "start_time": "2022-09-04T14:47:31.406Z"
   },
   {
    "duration": 87,
    "start_time": "2022-09-04T14:49:40.804Z"
   },
   {
    "duration": 6,
    "start_time": "2022-09-04T14:50:22.450Z"
   },
   {
    "duration": 8,
    "start_time": "2022-09-04T14:50:40.215Z"
   },
   {
    "duration": 11,
    "start_time": "2022-09-04T14:50:45.197Z"
   },
   {
    "duration": 5,
    "start_time": "2022-09-04T14:51:53.245Z"
   },
   {
    "duration": 9,
    "start_time": "2022-09-04T14:52:02.300Z"
   },
   {
    "duration": 6,
    "start_time": "2022-09-04T14:52:08.330Z"
   },
   {
    "duration": 6,
    "start_time": "2022-09-04T14:52:15.396Z"
   },
   {
    "duration": 5,
    "start_time": "2022-09-04T14:52:34.397Z"
   },
   {
    "duration": 3,
    "start_time": "2022-09-04T14:54:01.692Z"
   },
   {
    "duration": 2,
    "start_time": "2022-09-04T14:54:03.249Z"
   },
   {
    "duration": 19,
    "start_time": "2022-09-04T14:54:46.232Z"
   },
   {
    "duration": 21,
    "start_time": "2022-09-04T14:55:39.196Z"
   },
   {
    "duration": 17,
    "start_time": "2022-09-04T14:55:48.707Z"
   },
   {
    "duration": 20,
    "start_time": "2022-09-04T14:55:56.130Z"
   },
   {
    "duration": 87,
    "start_time": "2022-09-04T14:56:35.009Z"
   },
   {
    "duration": 4,
    "start_time": "2022-09-04T14:56:39.448Z"
   },
   {
    "duration": 16,
    "start_time": "2022-09-04T14:56:41.791Z"
   },
   {
    "duration": 15,
    "start_time": "2022-09-04T14:56:46.526Z"
   },
   {
    "duration": 21,
    "start_time": "2022-09-04T14:56:49.297Z"
   },
   {
    "duration": 13,
    "start_time": "2022-09-04T14:56:54.264Z"
   },
   {
    "duration": 5,
    "start_time": "2022-09-04T14:57:00.260Z"
   },
   {
    "duration": 10,
    "start_time": "2022-09-04T14:57:03.201Z"
   },
   {
    "duration": 12,
    "start_time": "2022-09-04T14:57:10.550Z"
   },
   {
    "duration": 11,
    "start_time": "2022-09-04T14:57:17.893Z"
   },
   {
    "duration": 2723,
    "start_time": "2022-09-04T14:57:27.269Z"
   },
   {
    "duration": 1055,
    "start_time": "2022-09-04T14:57:46.656Z"
   },
   {
    "duration": 5,
    "start_time": "2022-09-04T14:57:52.214Z"
   },
   {
    "duration": 18,
    "start_time": "2022-09-04T14:57:56.062Z"
   },
   {
    "duration": 6,
    "start_time": "2022-09-04T14:57:59.030Z"
   },
   {
    "duration": 4,
    "start_time": "2022-09-04T14:58:01.309Z"
   },
   {
    "duration": 96,
    "start_time": "2022-09-04T14:58:03.629Z"
   },
   {
    "duration": 12,
    "start_time": "2022-09-04T14:58:09.461Z"
   },
   {
    "duration": 8,
    "start_time": "2022-09-04T14:58:14.487Z"
   },
   {
    "duration": 7,
    "start_time": "2022-09-04T14:58:16.986Z"
   },
   {
    "duration": 16,
    "start_time": "2022-09-04T14:58:22.262Z"
   },
   {
    "duration": 9,
    "start_time": "2022-09-04T14:58:26.983Z"
   },
   {
    "duration": 3,
    "start_time": "2022-09-04T14:58:37.906Z"
   },
   {
    "duration": 5,
    "start_time": "2022-09-04T14:58:39.993Z"
   },
   {
    "duration": 5,
    "start_time": "2022-09-04T14:58:42.892Z"
   },
   {
    "duration": 10,
    "start_time": "2022-09-04T14:58:44.992Z"
   },
   {
    "duration": 5,
    "start_time": "2022-09-04T14:58:47.697Z"
   },
   {
    "duration": 5,
    "start_time": "2022-09-04T14:58:49.310Z"
   },
   {
    "duration": 9,
    "start_time": "2022-09-04T14:58:51.789Z"
   },
   {
    "duration": 7,
    "start_time": "2022-09-04T14:58:55.300Z"
   },
   {
    "duration": 4,
    "start_time": "2022-09-04T14:58:57.447Z"
   },
   {
    "duration": 5,
    "start_time": "2022-09-04T14:59:08.846Z"
   },
   {
    "duration": 5,
    "start_time": "2022-09-04T14:59:13.651Z"
   },
   {
    "duration": 19,
    "start_time": "2022-09-04T14:59:16.235Z"
   },
   {
    "duration": 16,
    "start_time": "2022-09-04T14:59:20.217Z"
   },
   {
    "duration": 18,
    "start_time": "2022-09-04T14:59:22.725Z"
   },
   {
    "duration": 12,
    "start_time": "2022-09-04T14:59:31.796Z"
   },
   {
    "duration": 20,
    "start_time": "2022-09-04T14:59:38.038Z"
   },
   {
    "duration": 136,
    "start_time": "2022-09-04T15:01:21.581Z"
   },
   {
    "duration": 91,
    "start_time": "2022-09-04T15:04:34.657Z"
   },
   {
    "duration": 70,
    "start_time": "2022-09-04T15:04:43.401Z"
   },
   {
    "duration": 5,
    "start_time": "2022-09-04T15:04:46.695Z"
   },
   {
    "duration": 16,
    "start_time": "2022-09-04T15:04:49.063Z"
   },
   {
    "duration": 13,
    "start_time": "2022-09-04T15:04:52.190Z"
   },
   {
    "duration": 20,
    "start_time": "2022-09-04T15:08:22.198Z"
   },
   {
    "duration": 7,
    "start_time": "2022-09-04T15:08:25.134Z"
   },
   {
    "duration": 5,
    "start_time": "2022-09-04T15:08:28.814Z"
   },
   {
    "duration": 10,
    "start_time": "2022-09-04T15:08:32.832Z"
   },
   {
    "duration": 11,
    "start_time": "2022-09-04T15:08:37.849Z"
   },
   {
    "duration": 84,
    "start_time": "2022-09-04T15:09:01.448Z"
   },
   {
    "duration": 4,
    "start_time": "2022-09-04T15:09:01.534Z"
   },
   {
    "duration": 39,
    "start_time": "2022-09-04T15:09:01.540Z"
   },
   {
    "duration": 33,
    "start_time": "2022-09-04T15:09:01.581Z"
   },
   {
    "duration": 20,
    "start_time": "2022-09-04T15:09:01.616Z"
   },
   {
    "duration": 6,
    "start_time": "2022-09-04T15:09:01.637Z"
   },
   {
    "duration": 38,
    "start_time": "2022-09-04T15:09:01.645Z"
   },
   {
    "duration": 21,
    "start_time": "2022-09-04T15:09:01.685Z"
   },
   {
    "duration": 12,
    "start_time": "2022-09-04T15:09:01.708Z"
   },
   {
    "duration": 22,
    "start_time": "2022-09-04T15:09:01.722Z"
   },
   {
    "duration": 2613,
    "start_time": "2022-09-04T15:09:01.747Z"
   },
   {
    "duration": 923,
    "start_time": "2022-09-04T15:09:04.361Z"
   },
   {
    "duration": 5,
    "start_time": "2022-09-04T15:09:05.286Z"
   },
   {
    "duration": 21,
    "start_time": "2022-09-04T15:09:05.293Z"
   },
   {
    "duration": 4,
    "start_time": "2022-09-04T15:09:05.316Z"
   },
   {
    "duration": 12,
    "start_time": "2022-09-04T15:09:05.321Z"
   },
   {
    "duration": 106,
    "start_time": "2022-09-04T15:09:05.335Z"
   },
   {
    "duration": 8,
    "start_time": "2022-09-04T15:09:05.442Z"
   },
   {
    "duration": 24,
    "start_time": "2022-09-04T15:09:05.451Z"
   },
   {
    "duration": 13,
    "start_time": "2022-09-04T15:09:05.477Z"
   },
   {
    "duration": 21,
    "start_time": "2022-09-04T15:09:05.492Z"
   },
   {
    "duration": 9,
    "start_time": "2022-09-04T15:09:05.515Z"
   },
   {
    "duration": 11,
    "start_time": "2022-09-04T15:09:05.525Z"
   },
   {
    "duration": 157,
    "start_time": "2022-09-04T15:09:05.538Z"
   },
   {
    "duration": 6,
    "start_time": "2022-09-04T15:09:05.698Z"
   },
   {
    "duration": 22,
    "start_time": "2022-09-04T15:09:05.706Z"
   },
   {
    "duration": 17,
    "start_time": "2022-09-04T15:09:05.730Z"
   },
   {
    "duration": 11,
    "start_time": "2022-09-04T15:09:05.749Z"
   },
   {
    "duration": 6,
    "start_time": "2022-09-04T15:09:05.761Z"
   },
   {
    "duration": 26,
    "start_time": "2022-09-04T15:09:05.768Z"
   },
   {
    "duration": 13,
    "start_time": "2022-09-04T15:09:05.795Z"
   },
   {
    "duration": 11,
    "start_time": "2022-09-04T15:09:05.810Z"
   },
   {
    "duration": 17,
    "start_time": "2022-09-04T15:09:05.822Z"
   },
   {
    "duration": 13,
    "start_time": "2022-09-04T15:09:05.840Z"
   },
   {
    "duration": 40,
    "start_time": "2022-09-04T15:09:05.854Z"
   },
   {
    "duration": 13,
    "start_time": "2022-09-04T15:09:05.895Z"
   },
   {
    "duration": 19,
    "start_time": "2022-09-04T15:09:05.909Z"
   },
   {
    "duration": 11,
    "start_time": "2022-09-04T15:09:05.930Z"
   },
   {
    "duration": 34,
    "start_time": "2022-09-04T15:09:05.943Z"
   },
   {
    "duration": 17,
    "start_time": "2022-09-04T15:09:05.979Z"
   },
   {
    "duration": 18,
    "start_time": "2022-09-04T15:09:05.998Z"
   },
   {
    "duration": 24,
    "start_time": "2022-09-04T15:09:06.018Z"
   },
   {
    "duration": 7,
    "start_time": "2022-09-04T15:09:06.043Z"
   },
   {
    "duration": 27,
    "start_time": "2022-09-04T15:09:06.052Z"
   },
   {
    "duration": 21,
    "start_time": "2022-09-04T15:09:06.081Z"
   },
   {
    "duration": 8,
    "start_time": "2022-09-04T15:09:06.104Z"
   },
   {
    "duration": 20,
    "start_time": "2022-09-04T15:09:06.114Z"
   },
   {
    "duration": 13,
    "start_time": "2022-09-04T15:09:06.136Z"
   },
   {
    "duration": 10,
    "start_time": "2022-09-04T15:09:06.151Z"
   },
   {
    "duration": 18,
    "start_time": "2022-09-04T15:09:06.162Z"
   },
   {
    "duration": 16,
    "start_time": "2022-09-04T15:09:06.181Z"
   },
   {
    "duration": 11,
    "start_time": "2022-09-04T15:09:06.199Z"
   },
   {
    "duration": 14,
    "start_time": "2022-09-04T15:09:06.212Z"
   },
   {
    "duration": 13,
    "start_time": "2022-09-04T15:09:06.228Z"
   },
   {
    "duration": 11,
    "start_time": "2022-09-04T15:09:06.243Z"
   },
   {
    "duration": 12,
    "start_time": "2022-09-04T15:09:06.255Z"
   },
   {
    "duration": 7,
    "start_time": "2022-09-04T15:09:06.280Z"
   },
   {
    "duration": 8,
    "start_time": "2022-09-04T15:09:06.288Z"
   },
   {
    "duration": 7,
    "start_time": "2022-09-04T15:09:06.298Z"
   },
   {
    "duration": 5,
    "start_time": "2022-09-04T15:09:06.307Z"
   },
   {
    "duration": 4,
    "start_time": "2022-09-04T15:09:06.314Z"
   },
   {
    "duration": 5,
    "start_time": "2022-09-04T15:09:06.320Z"
   },
   {
    "duration": 6,
    "start_time": "2022-09-04T15:09:06.327Z"
   },
   {
    "duration": 6,
    "start_time": "2022-09-04T15:09:06.335Z"
   },
   {
    "duration": 5,
    "start_time": "2022-09-04T15:09:06.343Z"
   },
   {
    "duration": 6,
    "start_time": "2022-09-04T15:09:06.350Z"
   },
   {
    "duration": 5,
    "start_time": "2022-09-04T15:09:06.361Z"
   },
   {
    "duration": 19,
    "start_time": "2022-09-04T15:09:06.368Z"
   },
   {
    "duration": 5,
    "start_time": "2022-09-04T15:09:06.390Z"
   },
   {
    "duration": 6,
    "start_time": "2022-09-04T15:09:06.396Z"
   },
   {
    "duration": 4,
    "start_time": "2022-09-04T15:09:06.403Z"
   },
   {
    "duration": 5,
    "start_time": "2022-09-04T15:09:06.409Z"
   },
   {
    "duration": 5,
    "start_time": "2022-09-04T15:09:06.415Z"
   },
   {
    "duration": 13,
    "start_time": "2022-09-04T15:09:06.422Z"
   },
   {
    "duration": 5,
    "start_time": "2022-09-04T15:09:06.437Z"
   },
   {
    "duration": 8,
    "start_time": "2022-09-04T15:09:06.444Z"
   },
   {
    "duration": 10,
    "start_time": "2022-09-04T15:09:06.454Z"
   },
   {
    "duration": 157,
    "start_time": "2022-09-04T15:12:58.343Z"
   },
   {
    "duration": 70,
    "start_time": "2022-09-04T15:13:11.692Z"
   },
   {
    "duration": 4,
    "start_time": "2022-09-04T15:13:20.183Z"
   },
   {
    "duration": 11,
    "start_time": "2022-09-04T15:13:22.792Z"
   },
   {
    "duration": 15,
    "start_time": "2022-09-04T15:13:25.895Z"
   },
   {
    "duration": 19,
    "start_time": "2022-09-04T15:13:28.328Z"
   },
   {
    "duration": 7,
    "start_time": "2022-09-04T15:13:31.449Z"
   },
   {
    "duration": 15,
    "start_time": "2022-09-04T15:13:36.763Z"
   },
   {
    "duration": 10,
    "start_time": "2022-09-04T15:13:38.610Z"
   },
   {
    "duration": 9,
    "start_time": "2022-09-04T15:13:43.936Z"
   },
   {
    "duration": 10,
    "start_time": "2022-09-04T15:13:47.614Z"
   },
   {
    "duration": 2946,
    "start_time": "2022-09-04T15:13:52.329Z"
   },
   {
    "duration": 936,
    "start_time": "2022-09-04T15:14:25.551Z"
   },
   {
    "duration": 5,
    "start_time": "2022-09-04T15:14:31.882Z"
   },
   {
    "duration": 19,
    "start_time": "2022-09-04T15:14:34.266Z"
   },
   {
    "duration": 7,
    "start_time": "2022-09-04T15:14:36.549Z"
   },
   {
    "duration": 4,
    "start_time": "2022-09-04T15:14:48.062Z"
   },
   {
    "duration": 92,
    "start_time": "2022-09-04T15:14:56.293Z"
   },
   {
    "duration": 8,
    "start_time": "2022-09-04T15:15:00.125Z"
   },
   {
    "duration": 6,
    "start_time": "2022-09-04T15:15:05.153Z"
   },
   {
    "duration": 5,
    "start_time": "2022-09-04T15:15:25.542Z"
   },
   {
    "duration": 107,
    "start_time": "2022-09-04T15:15:28.598Z"
   },
   {
    "duration": 173,
    "start_time": "2022-09-04T15:18:05.943Z"
   },
   {
    "duration": 160,
    "start_time": "2022-09-04T15:18:16.144Z"
   },
   {
    "duration": 145,
    "start_time": "2022-09-04T15:20:07.136Z"
   },
   {
    "duration": 8,
    "start_time": "2022-09-04T15:20:18.733Z"
   },
   {
    "duration": 4,
    "start_time": "2022-09-04T15:20:22.645Z"
   },
   {
    "duration": 17,
    "start_time": "2022-09-04T15:20:37.217Z"
   },
   {
    "duration": 474,
    "start_time": "2022-09-04T15:22:04.190Z"
   },
   {
    "duration": 3,
    "start_time": "2022-09-04T15:25:17.090Z"
   },
   {
    "duration": 7,
    "start_time": "2022-09-04T15:25:27.481Z"
   },
   {
    "duration": 17,
    "start_time": "2022-09-04T15:25:34.243Z"
   },
   {
    "duration": 21,
    "start_time": "2022-09-04T15:25:46.018Z"
   },
   {
    "duration": 18,
    "start_time": "2022-09-04T15:26:41.242Z"
   },
   {
    "duration": 7,
    "start_time": "2022-09-04T15:26:45.170Z"
   },
   {
    "duration": 5,
    "start_time": "2022-09-04T15:27:00.836Z"
   },
   {
    "duration": 12,
    "start_time": "2022-09-04T15:27:18.549Z"
   },
   {
    "duration": 21,
    "start_time": "2022-09-04T15:28:07.220Z"
   },
   {
    "duration": 12,
    "start_time": "2022-09-04T15:29:22.299Z"
   },
   {
    "duration": 110,
    "start_time": "2022-09-04T15:29:36.887Z"
   },
   {
    "duration": 71,
    "start_time": "2022-09-04T15:29:44.794Z"
   },
   {
    "duration": 102,
    "start_time": "2022-09-04T15:29:48.001Z"
   },
   {
    "duration": 11,
    "start_time": "2022-09-04T15:30:07.927Z"
   },
   {
    "duration": 420,
    "start_time": "2022-09-04T15:31:23.944Z"
   },
   {
    "duration": 511,
    "start_time": "2022-09-04T15:32:15.603Z"
   },
   {
    "duration": 504,
    "start_time": "2022-09-04T15:32:45.924Z"
   },
   {
    "duration": 11,
    "start_time": "2022-09-04T15:34:34.797Z"
   },
   {
    "duration": 20,
    "start_time": "2022-09-04T15:36:15.941Z"
   },
   {
    "duration": 6,
    "start_time": "2022-09-04T15:36:31.093Z"
   },
   {
    "duration": 11,
    "start_time": "2022-09-04T15:37:15.521Z"
   },
   {
    "duration": 5,
    "start_time": "2022-09-04T15:38:07.424Z"
   },
   {
    "duration": 5,
    "start_time": "2022-09-04T15:38:31.893Z"
   },
   {
    "duration": 5,
    "start_time": "2022-09-04T15:38:39.993Z"
   },
   {
    "duration": 7,
    "start_time": "2022-09-04T15:38:45.062Z"
   },
   {
    "duration": 1063,
    "start_time": "2022-09-04T15:40:35.935Z"
   },
   {
    "duration": 4,
    "start_time": "2022-09-04T15:43:14.125Z"
   },
   {
    "duration": 7,
    "start_time": "2022-09-04T15:43:15.699Z"
   },
   {
    "duration": 5,
    "start_time": "2022-09-04T15:43:18.925Z"
   },
   {
    "duration": 9,
    "start_time": "2022-09-04T15:43:21.423Z"
   },
   {
    "duration": 6,
    "start_time": "2022-09-04T15:43:23.685Z"
   },
   {
    "duration": 5,
    "start_time": "2022-09-04T15:43:25.881Z"
   },
   {
    "duration": 5,
    "start_time": "2022-09-04T15:43:27.955Z"
   },
   {
    "duration": 7,
    "start_time": "2022-09-04T15:43:31.481Z"
   },
   {
    "duration": 4,
    "start_time": "2022-09-04T15:43:34.091Z"
   },
   {
    "duration": 5,
    "start_time": "2022-09-04T15:43:35.746Z"
   },
   {
    "duration": 4,
    "start_time": "2022-09-04T15:43:37.884Z"
   },
   {
    "duration": 16,
    "start_time": "2022-09-04T15:43:40.982Z"
   },
   {
    "duration": 27,
    "start_time": "2022-09-04T15:43:45.066Z"
   },
   {
    "duration": 19,
    "start_time": "2022-09-04T15:43:46.890Z"
   },
   {
    "duration": 27,
    "start_time": "2022-09-04T15:43:52.660Z"
   },
   {
    "duration": 6,
    "start_time": "2022-09-04T15:47:12.020Z"
   },
   {
    "duration": 5,
    "start_time": "2022-09-04T15:47:30.222Z"
   },
   {
    "duration": 5,
    "start_time": "2022-09-04T15:47:38.562Z"
   },
   {
    "duration": 13,
    "start_time": "2022-09-04T15:48:21.185Z"
   },
   {
    "duration": 155,
    "start_time": "2022-09-04T15:53:21.029Z"
   },
   {
    "duration": 153,
    "start_time": "2022-09-04T15:53:40.186Z"
   },
   {
    "duration": 14,
    "start_time": "2022-09-04T16:05:56.813Z"
   },
   {
    "duration": 4,
    "start_time": "2022-09-04T18:08:52.735Z"
   },
   {
    "duration": 6,
    "start_time": "2022-09-04T18:08:55.182Z"
   },
   {
    "duration": 12,
    "start_time": "2022-09-04T18:09:07.763Z"
   },
   {
    "duration": 9,
    "start_time": "2022-09-04T18:09:13.739Z"
   },
   {
    "duration": 7,
    "start_time": "2022-09-04T18:09:42.297Z"
   },
   {
    "duration": 15,
    "start_time": "2022-09-04T18:09:59.769Z"
   },
   {
    "duration": 91,
    "start_time": "2022-09-04T18:10:10.505Z"
   },
   {
    "duration": 9,
    "start_time": "2022-09-04T18:10:14.662Z"
   },
   {
    "duration": 73,
    "start_time": "2022-09-04T18:15:42.582Z"
   },
   {
    "duration": 5,
    "start_time": "2022-09-04T18:15:50.181Z"
   },
   {
    "duration": 4,
    "start_time": "2022-09-04T18:16:39.203Z"
   },
   {
    "duration": 3,
    "start_time": "2022-09-04T18:16:50.530Z"
   },
   {
    "duration": 4,
    "start_time": "2022-09-04T18:17:25.640Z"
   },
   {
    "duration": 7,
    "start_time": "2022-09-04T18:17:32.464Z"
   },
   {
    "duration": 4,
    "start_time": "2022-09-04T18:17:38.229Z"
   },
   {
    "duration": 4,
    "start_time": "2022-09-04T18:18:11.789Z"
   },
   {
    "duration": 8,
    "start_time": "2022-09-04T18:18:16.567Z"
   },
   {
    "duration": 4,
    "start_time": "2022-09-04T18:18:21.333Z"
   },
   {
    "duration": 5,
    "start_time": "2022-09-04T18:18:39.564Z"
   },
   {
    "duration": 4,
    "start_time": "2022-09-04T18:18:58.524Z"
   },
   {
    "duration": 4,
    "start_time": "2022-09-04T18:19:08.981Z"
   },
   {
    "duration": 4,
    "start_time": "2022-09-04T18:19:31.878Z"
   },
   {
    "duration": 4,
    "start_time": "2022-09-04T18:19:44.122Z"
   },
   {
    "duration": 4,
    "start_time": "2022-09-04T18:19:45.480Z"
   },
   {
    "duration": 4,
    "start_time": "2022-09-04T18:20:51.206Z"
   },
   {
    "duration": 5,
    "start_time": "2022-09-04T18:20:58.378Z"
   },
   {
    "duration": 8,
    "start_time": "2022-09-04T18:21:42.097Z"
   },
   {
    "duration": 11,
    "start_time": "2022-09-04T18:21:47.892Z"
   },
   {
    "duration": 8,
    "start_time": "2022-09-04T18:23:27.216Z"
   },
   {
    "duration": 7,
    "start_time": "2022-09-04T18:23:42.616Z"
   },
   {
    "duration": 4,
    "start_time": "2022-09-04T18:24:00.293Z"
   },
   {
    "duration": 3,
    "start_time": "2022-09-04T18:24:02.574Z"
   },
   {
    "duration": 7,
    "start_time": "2022-09-04T18:24:04.401Z"
   },
   {
    "duration": 7,
    "start_time": "2022-09-04T18:24:06.378Z"
   },
   {
    "duration": 5,
    "start_time": "2022-09-04T18:26:20.181Z"
   },
   {
    "duration": 4,
    "start_time": "2022-09-04T18:26:26.542Z"
   },
   {
    "duration": 5,
    "start_time": "2022-09-04T18:26:30.433Z"
   },
   {
    "duration": 3,
    "start_time": "2022-09-04T18:26:39.820Z"
   },
   {
    "duration": 5,
    "start_time": "2022-09-04T18:26:43.115Z"
   },
   {
    "duration": 8,
    "start_time": "2022-09-04T18:27:32.623Z"
   },
   {
    "duration": 10,
    "start_time": "2022-09-04T18:27:45.286Z"
   },
   {
    "duration": 14,
    "start_time": "2022-09-04T18:37:10.517Z"
   },
   {
    "duration": 13,
    "start_time": "2022-09-04T18:37:22.401Z"
   },
   {
    "duration": 5,
    "start_time": "2022-09-04T18:37:41.498Z"
   },
   {
    "duration": 5,
    "start_time": "2022-09-04T18:37:53.606Z"
   },
   {
    "duration": 62,
    "start_time": "2022-09-04T18:38:12.595Z"
   },
   {
    "duration": 3,
    "start_time": "2022-09-04T18:38:12.659Z"
   },
   {
    "duration": 17,
    "start_time": "2022-09-04T18:38:12.664Z"
   },
   {
    "duration": 17,
    "start_time": "2022-09-04T18:38:12.683Z"
   },
   {
    "duration": 19,
    "start_time": "2022-09-04T18:38:12.702Z"
   },
   {
    "duration": 6,
    "start_time": "2022-09-04T18:38:12.722Z"
   },
   {
    "duration": 5,
    "start_time": "2022-09-04T18:38:12.730Z"
   },
   {
    "duration": 47,
    "start_time": "2022-09-04T18:38:12.736Z"
   },
   {
    "duration": 14,
    "start_time": "2022-09-04T18:38:12.785Z"
   },
   {
    "duration": 10,
    "start_time": "2022-09-04T18:38:12.800Z"
   },
   {
    "duration": 2830,
    "start_time": "2022-09-04T18:38:12.811Z"
   },
   {
    "duration": 912,
    "start_time": "2022-09-04T18:38:15.643Z"
   },
   {
    "duration": 5,
    "start_time": "2022-09-04T18:38:16.558Z"
   },
   {
    "duration": 120,
    "start_time": "2022-09-04T18:38:16.569Z"
   },
   {
    "duration": 31,
    "start_time": "2022-09-04T18:38:16.690Z"
   },
   {
    "duration": 9,
    "start_time": "2022-09-04T18:38:16.723Z"
   },
   {
    "duration": 121,
    "start_time": "2022-09-04T18:38:16.733Z"
   },
   {
    "duration": 21,
    "start_time": "2022-09-04T18:38:16.856Z"
   },
   {
    "duration": 17,
    "start_time": "2022-09-04T18:38:16.880Z"
   },
   {
    "duration": 8,
    "start_time": "2022-09-04T18:38:16.899Z"
   },
   {
    "duration": 138,
    "start_time": "2022-09-04T18:38:16.909Z"
   },
   {
    "duration": 7,
    "start_time": "2022-09-04T18:38:17.049Z"
   },
   {
    "duration": 20,
    "start_time": "2022-09-04T18:38:17.058Z"
   },
   {
    "duration": 23,
    "start_time": "2022-09-04T18:38:17.080Z"
   },
   {
    "duration": 4,
    "start_time": "2022-09-04T18:38:17.104Z"
   },
   {
    "duration": 522,
    "start_time": "2022-09-04T18:38:17.109Z"
   },
   {
    "duration": 0,
    "start_time": "2022-09-04T18:38:17.635Z"
   },
   {
    "duration": 0,
    "start_time": "2022-09-04T18:38:17.636Z"
   },
   {
    "duration": 0,
    "start_time": "2022-09-04T18:38:17.638Z"
   },
   {
    "duration": 0,
    "start_time": "2022-09-04T18:38:17.639Z"
   },
   {
    "duration": 1,
    "start_time": "2022-09-04T18:38:17.640Z"
   },
   {
    "duration": 0,
    "start_time": "2022-09-04T18:38:17.642Z"
   },
   {
    "duration": 0,
    "start_time": "2022-09-04T18:38:17.643Z"
   },
   {
    "duration": 0,
    "start_time": "2022-09-04T18:38:17.645Z"
   },
   {
    "duration": 0,
    "start_time": "2022-09-04T18:38:17.646Z"
   },
   {
    "duration": 0,
    "start_time": "2022-09-04T18:38:17.647Z"
   },
   {
    "duration": 0,
    "start_time": "2022-09-04T18:38:17.649Z"
   },
   {
    "duration": 0,
    "start_time": "2022-09-04T18:38:17.650Z"
   },
   {
    "duration": 0,
    "start_time": "2022-09-04T18:38:17.652Z"
   },
   {
    "duration": 0,
    "start_time": "2022-09-04T18:38:17.653Z"
   },
   {
    "duration": 0,
    "start_time": "2022-09-04T18:38:17.654Z"
   },
   {
    "duration": 0,
    "start_time": "2022-09-04T18:38:17.655Z"
   },
   {
    "duration": 0,
    "start_time": "2022-09-04T18:38:17.657Z"
   },
   {
    "duration": 0,
    "start_time": "2022-09-04T18:38:17.659Z"
   },
   {
    "duration": 0,
    "start_time": "2022-09-04T18:38:17.660Z"
   },
   {
    "duration": 0,
    "start_time": "2022-09-04T18:38:17.661Z"
   },
   {
    "duration": 0,
    "start_time": "2022-09-04T18:38:17.663Z"
   },
   {
    "duration": 0,
    "start_time": "2022-09-04T18:38:17.664Z"
   },
   {
    "duration": 0,
    "start_time": "2022-09-04T18:38:17.666Z"
   },
   {
    "duration": 0,
    "start_time": "2022-09-04T18:38:17.669Z"
   },
   {
    "duration": 1,
    "start_time": "2022-09-04T18:38:17.669Z"
   },
   {
    "duration": 0,
    "start_time": "2022-09-04T18:38:17.670Z"
   },
   {
    "duration": 0,
    "start_time": "2022-09-04T18:38:17.671Z"
   },
   {
    "duration": 0,
    "start_time": "2022-09-04T18:38:17.671Z"
   },
   {
    "duration": 0,
    "start_time": "2022-09-04T18:38:17.672Z"
   },
   {
    "duration": 1,
    "start_time": "2022-09-04T18:38:17.672Z"
   },
   {
    "duration": 0,
    "start_time": "2022-09-04T18:38:17.674Z"
   },
   {
    "duration": 0,
    "start_time": "2022-09-04T18:38:17.676Z"
   },
   {
    "duration": 0,
    "start_time": "2022-09-04T18:38:17.684Z"
   },
   {
    "duration": 0,
    "start_time": "2022-09-04T18:38:17.685Z"
   },
   {
    "duration": 0,
    "start_time": "2022-09-04T18:38:17.686Z"
   },
   {
    "duration": 0,
    "start_time": "2022-09-04T18:38:17.687Z"
   },
   {
    "duration": 0,
    "start_time": "2022-09-04T18:38:17.688Z"
   },
   {
    "duration": 0,
    "start_time": "2022-09-04T18:38:17.689Z"
   },
   {
    "duration": 0,
    "start_time": "2022-09-04T18:38:17.690Z"
   },
   {
    "duration": 0,
    "start_time": "2022-09-04T18:38:17.691Z"
   },
   {
    "duration": 0,
    "start_time": "2022-09-04T18:38:17.692Z"
   },
   {
    "duration": 0,
    "start_time": "2022-09-04T18:38:17.693Z"
   },
   {
    "duration": 0,
    "start_time": "2022-09-04T18:38:17.694Z"
   },
   {
    "duration": 0,
    "start_time": "2022-09-04T18:38:17.695Z"
   },
   {
    "duration": 0,
    "start_time": "2022-09-04T18:38:17.696Z"
   },
   {
    "duration": 0,
    "start_time": "2022-09-04T18:38:17.697Z"
   },
   {
    "duration": 0,
    "start_time": "2022-09-04T18:38:17.698Z"
   },
   {
    "duration": 0,
    "start_time": "2022-09-04T18:38:17.699Z"
   },
   {
    "duration": 0,
    "start_time": "2022-09-04T18:38:17.700Z"
   },
   {
    "duration": 0,
    "start_time": "2022-09-04T18:38:17.701Z"
   },
   {
    "duration": 0,
    "start_time": "2022-09-04T18:38:17.702Z"
   },
   {
    "duration": 0,
    "start_time": "2022-09-04T18:38:17.703Z"
   },
   {
    "duration": 0,
    "start_time": "2022-09-04T18:38:17.704Z"
   },
   {
    "duration": 0,
    "start_time": "2022-09-04T18:38:17.705Z"
   },
   {
    "duration": 0,
    "start_time": "2022-09-04T18:38:17.706Z"
   },
   {
    "duration": 0,
    "start_time": "2022-09-04T18:38:17.707Z"
   },
   {
    "duration": 11,
    "start_time": "2022-09-04T18:39:16.817Z"
   },
   {
    "duration": 69,
    "start_time": "2022-09-04T18:39:26.880Z"
   },
   {
    "duration": 4,
    "start_time": "2022-09-04T18:39:26.951Z"
   },
   {
    "duration": 23,
    "start_time": "2022-09-04T18:39:26.957Z"
   },
   {
    "duration": 13,
    "start_time": "2022-09-04T18:39:26.982Z"
   },
   {
    "duration": 19,
    "start_time": "2022-09-04T18:39:26.998Z"
   },
   {
    "duration": 6,
    "start_time": "2022-09-04T18:39:27.019Z"
   },
   {
    "duration": 11,
    "start_time": "2022-09-04T18:39:27.027Z"
   },
   {
    "duration": 32,
    "start_time": "2022-09-04T18:39:27.039Z"
   },
   {
    "duration": 9,
    "start_time": "2022-09-04T18:39:27.079Z"
   },
   {
    "duration": 11,
    "start_time": "2022-09-04T18:39:27.090Z"
   },
   {
    "duration": 2699,
    "start_time": "2022-09-04T18:39:27.103Z"
   },
   {
    "duration": 956,
    "start_time": "2022-09-04T18:39:29.804Z"
   },
   {
    "duration": 15,
    "start_time": "2022-09-04T18:39:30.761Z"
   },
   {
    "duration": 27,
    "start_time": "2022-09-04T18:39:30.779Z"
   },
   {
    "duration": 8,
    "start_time": "2022-09-04T18:39:30.808Z"
   },
   {
    "duration": 10,
    "start_time": "2022-09-04T18:39:30.818Z"
   },
   {
    "duration": 95,
    "start_time": "2022-09-04T18:39:30.830Z"
   },
   {
    "duration": 9,
    "start_time": "2022-09-04T18:39:30.927Z"
   },
   {
    "duration": 10,
    "start_time": "2022-09-04T18:39:30.938Z"
   },
   {
    "duration": 19,
    "start_time": "2022-09-04T18:39:30.950Z"
   },
   {
    "duration": 118,
    "start_time": "2022-09-04T18:39:30.970Z"
   },
   {
    "duration": 8,
    "start_time": "2022-09-04T18:39:31.089Z"
   },
   {
    "duration": 16,
    "start_time": "2022-09-04T18:39:31.098Z"
   },
   {
    "duration": 20,
    "start_time": "2022-09-04T18:39:31.116Z"
   },
   {
    "duration": 4,
    "start_time": "2022-09-04T18:39:31.138Z"
   },
   {
    "duration": 476,
    "start_time": "2022-09-04T18:39:31.143Z"
   },
   {
    "duration": 0,
    "start_time": "2022-09-04T18:39:31.621Z"
   },
   {
    "duration": 0,
    "start_time": "2022-09-04T18:39:31.622Z"
   },
   {
    "duration": 0,
    "start_time": "2022-09-04T18:39:31.623Z"
   },
   {
    "duration": 0,
    "start_time": "2022-09-04T18:39:31.624Z"
   },
   {
    "duration": 0,
    "start_time": "2022-09-04T18:39:31.625Z"
   },
   {
    "duration": 0,
    "start_time": "2022-09-04T18:39:31.626Z"
   },
   {
    "duration": 0,
    "start_time": "2022-09-04T18:39:31.627Z"
   },
   {
    "duration": 0,
    "start_time": "2022-09-04T18:39:31.627Z"
   },
   {
    "duration": 0,
    "start_time": "2022-09-04T18:39:31.628Z"
   },
   {
    "duration": 0,
    "start_time": "2022-09-04T18:39:31.629Z"
   },
   {
    "duration": 0,
    "start_time": "2022-09-04T18:39:31.630Z"
   },
   {
    "duration": 0,
    "start_time": "2022-09-04T18:39:31.630Z"
   },
   {
    "duration": 0,
    "start_time": "2022-09-04T18:39:31.631Z"
   },
   {
    "duration": 0,
    "start_time": "2022-09-04T18:39:31.632Z"
   },
   {
    "duration": 0,
    "start_time": "2022-09-04T18:39:31.633Z"
   },
   {
    "duration": 0,
    "start_time": "2022-09-04T18:39:31.634Z"
   },
   {
    "duration": 0,
    "start_time": "2022-09-04T18:39:31.635Z"
   },
   {
    "duration": 0,
    "start_time": "2022-09-04T18:39:31.636Z"
   },
   {
    "duration": 0,
    "start_time": "2022-09-04T18:39:31.637Z"
   },
   {
    "duration": 0,
    "start_time": "2022-09-04T18:39:31.638Z"
   },
   {
    "duration": 0,
    "start_time": "2022-09-04T18:39:31.639Z"
   },
   {
    "duration": 0,
    "start_time": "2022-09-04T18:39:31.640Z"
   },
   {
    "duration": 0,
    "start_time": "2022-09-04T18:39:31.641Z"
   },
   {
    "duration": 0,
    "start_time": "2022-09-04T18:39:31.642Z"
   },
   {
    "duration": 0,
    "start_time": "2022-09-04T18:39:31.643Z"
   },
   {
    "duration": 0,
    "start_time": "2022-09-04T18:39:31.644Z"
   },
   {
    "duration": 0,
    "start_time": "2022-09-04T18:39:31.645Z"
   },
   {
    "duration": 0,
    "start_time": "2022-09-04T18:39:31.646Z"
   },
   {
    "duration": 0,
    "start_time": "2022-09-04T18:39:31.647Z"
   },
   {
    "duration": 0,
    "start_time": "2022-09-04T18:39:31.649Z"
   },
   {
    "duration": 0,
    "start_time": "2022-09-04T18:39:31.649Z"
   },
   {
    "duration": 0,
    "start_time": "2022-09-04T18:39:31.651Z"
   },
   {
    "duration": 0,
    "start_time": "2022-09-04T18:39:31.651Z"
   },
   {
    "duration": 0,
    "start_time": "2022-09-04T18:39:31.653Z"
   },
   {
    "duration": 0,
    "start_time": "2022-09-04T18:39:31.657Z"
   },
   {
    "duration": 0,
    "start_time": "2022-09-04T18:39:31.657Z"
   },
   {
    "duration": 0,
    "start_time": "2022-09-04T18:39:31.658Z"
   },
   {
    "duration": 0,
    "start_time": "2022-09-04T18:39:31.659Z"
   },
   {
    "duration": 0,
    "start_time": "2022-09-04T18:39:31.660Z"
   },
   {
    "duration": 0,
    "start_time": "2022-09-04T18:39:31.661Z"
   },
   {
    "duration": 0,
    "start_time": "2022-09-04T18:39:31.662Z"
   },
   {
    "duration": 0,
    "start_time": "2022-09-04T18:39:31.676Z"
   },
   {
    "duration": 0,
    "start_time": "2022-09-04T18:39:31.677Z"
   },
   {
    "duration": 0,
    "start_time": "2022-09-04T18:39:31.677Z"
   },
   {
    "duration": 0,
    "start_time": "2022-09-04T18:39:31.681Z"
   },
   {
    "duration": 0,
    "start_time": "2022-09-04T18:39:31.682Z"
   },
   {
    "duration": 0,
    "start_time": "2022-09-04T18:39:31.683Z"
   },
   {
    "duration": 0,
    "start_time": "2022-09-04T18:39:31.684Z"
   },
   {
    "duration": 0,
    "start_time": "2022-09-04T18:39:31.685Z"
   },
   {
    "duration": 0,
    "start_time": "2022-09-04T18:39:31.687Z"
   },
   {
    "duration": 0,
    "start_time": "2022-09-04T18:39:31.687Z"
   },
   {
    "duration": 0,
    "start_time": "2022-09-04T18:39:31.688Z"
   },
   {
    "duration": 0,
    "start_time": "2022-09-04T18:39:31.690Z"
   },
   {
    "duration": 0,
    "start_time": "2022-09-04T18:39:31.691Z"
   },
   {
    "duration": 0,
    "start_time": "2022-09-04T18:39:31.692Z"
   },
   {
    "duration": 0,
    "start_time": "2022-09-04T18:39:31.693Z"
   },
   {
    "duration": 10,
    "start_time": "2022-09-04T18:40:08.101Z"
   },
   {
    "duration": 9,
    "start_time": "2022-09-04T18:44:36.182Z"
   },
   {
    "duration": 8,
    "start_time": "2022-09-04T18:44:48.005Z"
   },
   {
    "duration": 9,
    "start_time": "2022-09-04T18:46:44.402Z"
   },
   {
    "duration": 8,
    "start_time": "2022-09-04T18:47:04.289Z"
   },
   {
    "duration": 27,
    "start_time": "2022-09-04T18:51:06.698Z"
   },
   {
    "duration": 7,
    "start_time": "2022-09-04T18:52:57.382Z"
   },
   {
    "duration": 7,
    "start_time": "2022-09-04T18:54:06.928Z"
   },
   {
    "duration": 6,
    "start_time": "2022-09-04T18:57:03.428Z"
   },
   {
    "duration": 7,
    "start_time": "2022-09-04T18:57:55.628Z"
   },
   {
    "duration": 10,
    "start_time": "2022-09-04T18:58:09.238Z"
   },
   {
    "duration": 14,
    "start_time": "2022-09-04T18:58:34.759Z"
   },
   {
    "duration": 12,
    "start_time": "2022-09-04T18:58:58.423Z"
   },
   {
    "duration": 66,
    "start_time": "2022-09-04T19:00:34.388Z"
   },
   {
    "duration": 4,
    "start_time": "2022-09-04T19:00:34.456Z"
   },
   {
    "duration": 22,
    "start_time": "2022-09-04T19:00:34.462Z"
   },
   {
    "duration": 15,
    "start_time": "2022-09-04T19:00:34.486Z"
   },
   {
    "duration": 19,
    "start_time": "2022-09-04T19:00:34.503Z"
   },
   {
    "duration": 8,
    "start_time": "2022-09-04T19:00:34.525Z"
   },
   {
    "duration": 33,
    "start_time": "2022-09-04T19:00:34.535Z"
   },
   {
    "duration": 11,
    "start_time": "2022-09-04T19:00:34.570Z"
   },
   {
    "duration": 11,
    "start_time": "2022-09-04T19:00:34.583Z"
   },
   {
    "duration": 12,
    "start_time": "2022-09-04T19:00:34.597Z"
   },
   {
    "duration": 2787,
    "start_time": "2022-09-04T19:00:34.611Z"
   },
   {
    "duration": 1023,
    "start_time": "2022-09-04T19:00:37.400Z"
   },
   {
    "duration": 5,
    "start_time": "2022-09-04T19:00:38.425Z"
   },
   {
    "duration": 31,
    "start_time": "2022-09-04T19:00:38.431Z"
   },
   {
    "duration": 5,
    "start_time": "2022-09-04T19:00:38.467Z"
   },
   {
    "duration": 6,
    "start_time": "2022-09-04T19:00:38.474Z"
   },
   {
    "duration": 106,
    "start_time": "2022-09-04T19:00:38.482Z"
   },
   {
    "duration": 8,
    "start_time": "2022-09-04T19:00:38.589Z"
   },
   {
    "duration": 5,
    "start_time": "2022-09-04T19:00:38.599Z"
   },
   {
    "duration": 5,
    "start_time": "2022-09-04T19:00:38.605Z"
   },
   {
    "duration": 243,
    "start_time": "2022-09-04T19:00:38.612Z"
   },
   {
    "duration": 16,
    "start_time": "2022-09-04T19:00:38.857Z"
   },
   {
    "duration": 3,
    "start_time": "2022-09-04T19:00:38.875Z"
   },
   {
    "duration": 20,
    "start_time": "2022-09-04T19:00:38.881Z"
   },
   {
    "duration": 4,
    "start_time": "2022-09-04T19:00:38.903Z"
   },
   {
    "duration": 450,
    "start_time": "2022-09-04T19:00:38.908Z"
   },
   {
    "duration": 0,
    "start_time": "2022-09-04T19:00:39.360Z"
   },
   {
    "duration": 0,
    "start_time": "2022-09-04T19:00:39.361Z"
   },
   {
    "duration": 0,
    "start_time": "2022-09-04T19:00:39.363Z"
   },
   {
    "duration": 0,
    "start_time": "2022-09-04T19:00:39.363Z"
   },
   {
    "duration": 0,
    "start_time": "2022-09-04T19:00:39.364Z"
   },
   {
    "duration": 0,
    "start_time": "2022-09-04T19:00:39.366Z"
   },
   {
    "duration": 0,
    "start_time": "2022-09-04T19:00:39.367Z"
   },
   {
    "duration": 0,
    "start_time": "2022-09-04T19:00:39.368Z"
   },
   {
    "duration": 0,
    "start_time": "2022-09-04T19:00:39.369Z"
   },
   {
    "duration": 0,
    "start_time": "2022-09-04T19:00:39.369Z"
   },
   {
    "duration": 0,
    "start_time": "2022-09-04T19:00:39.370Z"
   },
   {
    "duration": 0,
    "start_time": "2022-09-04T19:00:39.371Z"
   },
   {
    "duration": 0,
    "start_time": "2022-09-04T19:00:39.372Z"
   },
   {
    "duration": 0,
    "start_time": "2022-09-04T19:00:39.373Z"
   },
   {
    "duration": 0,
    "start_time": "2022-09-04T19:00:39.374Z"
   },
   {
    "duration": 0,
    "start_time": "2022-09-04T19:00:39.375Z"
   },
   {
    "duration": 0,
    "start_time": "2022-09-04T19:00:39.376Z"
   },
   {
    "duration": 0,
    "start_time": "2022-09-04T19:00:39.377Z"
   },
   {
    "duration": 0,
    "start_time": "2022-09-04T19:00:39.378Z"
   },
   {
    "duration": 0,
    "start_time": "2022-09-04T19:00:39.378Z"
   },
   {
    "duration": 0,
    "start_time": "2022-09-04T19:00:39.380Z"
   },
   {
    "duration": 0,
    "start_time": "2022-09-04T19:00:39.381Z"
   },
   {
    "duration": 0,
    "start_time": "2022-09-04T19:00:39.382Z"
   },
   {
    "duration": 0,
    "start_time": "2022-09-04T19:00:39.383Z"
   },
   {
    "duration": 0,
    "start_time": "2022-09-04T19:00:39.383Z"
   },
   {
    "duration": 0,
    "start_time": "2022-09-04T19:00:39.384Z"
   },
   {
    "duration": 0,
    "start_time": "2022-09-04T19:00:39.385Z"
   },
   {
    "duration": 0,
    "start_time": "2022-09-04T19:00:39.385Z"
   },
   {
    "duration": 0,
    "start_time": "2022-09-04T19:00:39.386Z"
   },
   {
    "duration": 0,
    "start_time": "2022-09-04T19:00:39.387Z"
   },
   {
    "duration": 0,
    "start_time": "2022-09-04T19:00:39.388Z"
   },
   {
    "duration": 0,
    "start_time": "2022-09-04T19:00:39.389Z"
   },
   {
    "duration": 0,
    "start_time": "2022-09-04T19:00:39.390Z"
   },
   {
    "duration": 0,
    "start_time": "2022-09-04T19:00:39.392Z"
   },
   {
    "duration": 0,
    "start_time": "2022-09-04T19:00:39.393Z"
   },
   {
    "duration": 0,
    "start_time": "2022-09-04T19:00:39.394Z"
   },
   {
    "duration": 0,
    "start_time": "2022-09-04T19:00:39.395Z"
   },
   {
    "duration": 0,
    "start_time": "2022-09-04T19:00:39.395Z"
   },
   {
    "duration": 0,
    "start_time": "2022-09-04T19:00:39.397Z"
   },
   {
    "duration": 0,
    "start_time": "2022-09-04T19:00:39.397Z"
   },
   {
    "duration": 0,
    "start_time": "2022-09-04T19:00:39.399Z"
   },
   {
    "duration": 0,
    "start_time": "2022-09-04T19:00:39.399Z"
   },
   {
    "duration": 0,
    "start_time": "2022-09-04T19:00:39.400Z"
   },
   {
    "duration": 0,
    "start_time": "2022-09-04T19:00:39.402Z"
   },
   {
    "duration": 0,
    "start_time": "2022-09-04T19:00:39.403Z"
   },
   {
    "duration": 0,
    "start_time": "2022-09-04T19:00:39.404Z"
   },
   {
    "duration": 0,
    "start_time": "2022-09-04T19:00:39.405Z"
   },
   {
    "duration": 0,
    "start_time": "2022-09-04T19:00:39.406Z"
   },
   {
    "duration": 0,
    "start_time": "2022-09-04T19:00:39.467Z"
   },
   {
    "duration": 0,
    "start_time": "2022-09-04T19:00:39.469Z"
   },
   {
    "duration": 0,
    "start_time": "2022-09-04T19:00:39.470Z"
   },
   {
    "duration": 0,
    "start_time": "2022-09-04T19:00:39.471Z"
   },
   {
    "duration": 0,
    "start_time": "2022-09-04T19:00:39.472Z"
   },
   {
    "duration": 0,
    "start_time": "2022-09-04T19:00:39.473Z"
   },
   {
    "duration": 0,
    "start_time": "2022-09-04T19:00:39.474Z"
   },
   {
    "duration": 0,
    "start_time": "2022-09-04T19:00:39.475Z"
   },
   {
    "duration": 15,
    "start_time": "2022-09-04T19:01:16.415Z"
   },
   {
    "duration": 5,
    "start_time": "2022-09-04T19:01:16.432Z"
   },
   {
    "duration": 12,
    "start_time": "2022-09-04T19:01:16.438Z"
   },
   {
    "duration": 7,
    "start_time": "2022-09-04T19:01:16.451Z"
   },
   {
    "duration": 10,
    "start_time": "2022-09-04T19:01:16.461Z"
   },
   {
    "duration": 36,
    "start_time": "2022-09-04T19:01:16.473Z"
   },
   {
    "duration": 14,
    "start_time": "2022-09-04T19:01:16.512Z"
   },
   {
    "duration": 8,
    "start_time": "2022-09-04T19:01:16.529Z"
   },
   {
    "duration": 12,
    "start_time": "2022-09-04T19:01:16.539Z"
   },
   {
    "duration": 29,
    "start_time": "2022-09-04T19:01:16.553Z"
   },
   {
    "duration": 11,
    "start_time": "2022-09-04T19:01:16.585Z"
   },
   {
    "duration": 9,
    "start_time": "2022-09-04T19:01:16.597Z"
   },
   {
    "duration": 7,
    "start_time": "2022-09-04T19:01:16.608Z"
   },
   {
    "duration": 5,
    "start_time": "2022-09-04T19:01:16.617Z"
   },
   {
    "duration": 5,
    "start_time": "2022-09-04T19:01:16.625Z"
   },
   {
    "duration": 58,
    "start_time": "2022-09-04T19:01:16.632Z"
   },
   {
    "duration": 27,
    "start_time": "2022-09-04T19:01:16.692Z"
   },
   {
    "duration": 17,
    "start_time": "2022-09-04T19:01:16.722Z"
   },
   {
    "duration": 38,
    "start_time": "2022-09-04T19:01:16.741Z"
   },
   {
    "duration": 63,
    "start_time": "2022-09-04T19:01:16.782Z"
   },
   {
    "duration": 20,
    "start_time": "2022-09-04T19:01:16.848Z"
   },
   {
    "duration": 21,
    "start_time": "2022-09-04T19:01:16.871Z"
   },
   {
    "duration": 8,
    "start_time": "2022-09-04T19:01:16.895Z"
   },
   {
    "duration": 18,
    "start_time": "2022-09-04T19:01:16.905Z"
   },
   {
    "duration": 11,
    "start_time": "2022-09-04T19:01:16.925Z"
   },
   {
    "duration": 19,
    "start_time": "2022-09-04T19:01:16.938Z"
   },
   {
    "duration": 4,
    "start_time": "2022-09-04T19:01:16.968Z"
   },
   {
    "duration": 5,
    "start_time": "2022-09-04T19:01:16.974Z"
   },
   {
    "duration": 3,
    "start_time": "2022-09-04T19:01:16.984Z"
   },
   {
    "duration": 5,
    "start_time": "2022-09-04T19:01:16.988Z"
   },
   {
    "duration": 5,
    "start_time": "2022-09-04T19:01:16.995Z"
   },
   {
    "duration": 5,
    "start_time": "2022-09-04T19:01:17.001Z"
   },
   {
    "duration": 5,
    "start_time": "2022-09-04T19:01:17.008Z"
   },
   {
    "duration": 4,
    "start_time": "2022-09-04T19:01:17.015Z"
   },
   {
    "duration": 5,
    "start_time": "2022-09-04T19:01:17.021Z"
   },
   {
    "duration": 5,
    "start_time": "2022-09-04T19:01:17.028Z"
   },
   {
    "duration": 34,
    "start_time": "2022-09-04T19:01:17.034Z"
   },
   {
    "duration": 9,
    "start_time": "2022-09-04T19:01:17.070Z"
   },
   {
    "duration": 10,
    "start_time": "2022-09-04T19:01:17.080Z"
   },
   {
    "duration": 7,
    "start_time": "2022-09-04T19:01:17.092Z"
   },
   {
    "duration": 4,
    "start_time": "2022-09-04T19:01:17.101Z"
   },
   {
    "duration": 4,
    "start_time": "2022-09-04T19:01:17.107Z"
   },
   {
    "duration": 6,
    "start_time": "2022-09-04T19:01:17.113Z"
   },
   {
    "duration": 6,
    "start_time": "2022-09-04T19:01:17.120Z"
   },
   {
    "duration": 5,
    "start_time": "2022-09-04T19:01:17.128Z"
   },
   {
    "duration": 6,
    "start_time": "2022-09-04T19:01:17.135Z"
   },
   {
    "duration": 24,
    "start_time": "2022-09-04T19:01:17.143Z"
   },
   {
    "duration": 3,
    "start_time": "2022-09-04T19:01:17.169Z"
   },
   {
    "duration": 5,
    "start_time": "2022-09-04T19:01:17.174Z"
   },
   {
    "duration": 7,
    "start_time": "2022-09-04T19:01:17.180Z"
   },
   {
    "duration": 5,
    "start_time": "2022-09-04T19:01:17.188Z"
   },
   {
    "duration": 7,
    "start_time": "2022-09-04T19:01:17.195Z"
   },
   {
    "duration": 5,
    "start_time": "2022-09-04T19:01:17.203Z"
   },
   {
    "duration": 6,
    "start_time": "2022-09-04T19:01:17.209Z"
   },
   {
    "duration": 9,
    "start_time": "2022-09-04T19:01:17.217Z"
   },
   {
    "duration": 4,
    "start_time": "2022-09-04T19:01:17.228Z"
   },
   {
    "duration": 3,
    "start_time": "2022-09-04T19:03:48.416Z"
   },
   {
    "duration": 3,
    "start_time": "2022-09-04T19:03:54.499Z"
   },
   {
    "duration": 17,
    "start_time": "2022-09-04T19:03:54.505Z"
   },
   {
    "duration": 6,
    "start_time": "2022-09-04T19:03:54.524Z"
   },
   {
    "duration": 10,
    "start_time": "2022-09-04T19:03:54.532Z"
   },
   {
    "duration": 5,
    "start_time": "2022-09-04T19:03:54.544Z"
   },
   {
    "duration": 14,
    "start_time": "2022-09-04T19:03:54.551Z"
   },
   {
    "duration": 21,
    "start_time": "2022-09-04T19:03:54.569Z"
   },
   {
    "duration": 9,
    "start_time": "2022-09-04T19:03:54.591Z"
   },
   {
    "duration": 4,
    "start_time": "2022-09-04T19:03:54.603Z"
   },
   {
    "duration": 9,
    "start_time": "2022-09-04T19:03:54.609Z"
   },
   {
    "duration": 10,
    "start_time": "2022-09-04T19:03:54.621Z"
   },
   {
    "duration": 7,
    "start_time": "2022-09-04T19:03:54.633Z"
   },
   {
    "duration": 7,
    "start_time": "2022-09-04T19:03:54.642Z"
   },
   {
    "duration": 7,
    "start_time": "2022-09-04T19:03:54.651Z"
   },
   {
    "duration": 12,
    "start_time": "2022-09-04T19:03:54.659Z"
   },
   {
    "duration": 7,
    "start_time": "2022-09-04T19:03:54.685Z"
   },
   {
    "duration": 32,
    "start_time": "2022-09-04T19:03:54.694Z"
   },
   {
    "duration": 20,
    "start_time": "2022-09-04T19:03:54.728Z"
   },
   {
    "duration": 35,
    "start_time": "2022-09-04T19:03:54.750Z"
   },
   {
    "duration": 31,
    "start_time": "2022-09-04T19:03:54.786Z"
   },
   {
    "duration": 11,
    "start_time": "2022-09-04T19:03:54.818Z"
   },
   {
    "duration": 19,
    "start_time": "2022-09-04T19:03:54.830Z"
   },
   {
    "duration": 5,
    "start_time": "2022-09-04T19:03:54.868Z"
   },
   {
    "duration": 18,
    "start_time": "2022-09-04T19:03:54.877Z"
   },
   {
    "duration": 11,
    "start_time": "2022-09-04T19:03:54.897Z"
   },
   {
    "duration": 11,
    "start_time": "2022-09-04T19:03:54.910Z"
   },
   {
    "duration": 17,
    "start_time": "2022-09-04T19:03:54.923Z"
   },
   {
    "duration": 3,
    "start_time": "2022-09-04T19:03:54.942Z"
   },
   {
    "duration": 20,
    "start_time": "2022-09-04T19:03:54.947Z"
   },
   {
    "duration": 20,
    "start_time": "2022-09-04T19:03:54.969Z"
   },
   {
    "duration": 5,
    "start_time": "2022-09-04T19:03:54.991Z"
   },
   {
    "duration": 5,
    "start_time": "2022-09-04T19:03:54.998Z"
   },
   {
    "duration": 5,
    "start_time": "2022-09-04T19:03:55.005Z"
   },
   {
    "duration": 6,
    "start_time": "2022-09-04T19:03:55.011Z"
   },
   {
    "duration": 5,
    "start_time": "2022-09-04T19:03:55.019Z"
   },
   {
    "duration": 9,
    "start_time": "2022-09-04T19:03:55.025Z"
   },
   {
    "duration": 5,
    "start_time": "2022-09-04T19:03:55.036Z"
   },
   {
    "duration": 6,
    "start_time": "2022-09-04T19:03:55.043Z"
   },
   {
    "duration": 6,
    "start_time": "2022-09-04T19:03:55.050Z"
   },
   {
    "duration": 7,
    "start_time": "2022-09-04T19:03:55.058Z"
   },
   {
    "duration": 23,
    "start_time": "2022-09-04T19:03:55.067Z"
   },
   {
    "duration": 5,
    "start_time": "2022-09-04T19:03:55.092Z"
   },
   {
    "duration": 4,
    "start_time": "2022-09-04T19:03:55.099Z"
   },
   {
    "duration": 6,
    "start_time": "2022-09-04T19:03:55.104Z"
   },
   {
    "duration": 5,
    "start_time": "2022-09-04T19:03:55.111Z"
   },
   {
    "duration": 5,
    "start_time": "2022-09-04T19:03:55.117Z"
   },
   {
    "duration": 7,
    "start_time": "2022-09-04T19:03:55.124Z"
   },
   {
    "duration": 4,
    "start_time": "2022-09-04T19:03:55.133Z"
   },
   {
    "duration": 6,
    "start_time": "2022-09-04T19:03:55.139Z"
   },
   {
    "duration": 9,
    "start_time": "2022-09-04T19:03:55.146Z"
   },
   {
    "duration": 5,
    "start_time": "2022-09-04T19:03:55.157Z"
   },
   {
    "duration": 19,
    "start_time": "2022-09-04T19:03:55.164Z"
   },
   {
    "duration": 4,
    "start_time": "2022-09-04T19:03:55.185Z"
   },
   {
    "duration": 5,
    "start_time": "2022-09-04T19:03:55.191Z"
   },
   {
    "duration": 4,
    "start_time": "2022-09-04T19:03:55.198Z"
   },
   {
    "duration": 5,
    "start_time": "2022-09-04T19:03:55.204Z"
   },
   {
    "duration": 4,
    "start_time": "2022-09-04T19:03:55.211Z"
   },
   {
    "duration": 25,
    "start_time": "2022-09-04T19:06:09.674Z"
   },
   {
    "duration": 35,
    "start_time": "2022-09-04T19:07:15.001Z"
   },
   {
    "duration": 7,
    "start_time": "2022-09-04T19:08:21.508Z"
   },
   {
    "duration": 20,
    "start_time": "2022-09-04T19:08:25.475Z"
   },
   {
    "duration": 31,
    "start_time": "2022-09-04T19:08:32.012Z"
   },
   {
    "duration": 4,
    "start_time": "2022-09-04T19:08:58.782Z"
   },
   {
    "duration": 6,
    "start_time": "2022-09-04T19:09:04.990Z"
   },
   {
    "duration": 14,
    "start_time": "2022-09-04T19:11:07.185Z"
   },
   {
    "duration": 27,
    "start_time": "2022-09-04T19:11:14.010Z"
   },
   {
    "duration": 4,
    "start_time": "2022-09-04T19:16:46.144Z"
   },
   {
    "duration": 7,
    "start_time": "2022-09-04T19:16:51.489Z"
   },
   {
    "duration": 1391,
    "start_time": "2022-09-04T19:16:55.767Z"
   },
   {
    "duration": 4,
    "start_time": "2022-09-04T19:17:04.825Z"
   },
   {
    "duration": 4,
    "start_time": "2022-09-04T19:17:10.638Z"
   },
   {
    "duration": 10,
    "start_time": "2022-09-04T19:17:25.409Z"
   },
   {
    "duration": 18,
    "start_time": "2022-09-04T19:18:29.189Z"
   },
   {
    "duration": 5,
    "start_time": "2022-09-04T19:20:16.989Z"
   },
   {
    "duration": 4,
    "start_time": "2022-09-04T19:20:29.525Z"
   },
   {
    "duration": 5,
    "start_time": "2022-09-04T19:21:12.481Z"
   },
   {
    "duration": 5,
    "start_time": "2022-09-04T19:21:14.717Z"
   },
   {
    "duration": 4,
    "start_time": "2022-09-04T19:21:21.537Z"
   },
   {
    "duration": 9,
    "start_time": "2022-09-04T19:21:23.780Z"
   },
   {
    "duration": 14,
    "start_time": "2022-09-04T19:24:29.319Z"
   },
   {
    "duration": 13,
    "start_time": "2022-09-04T19:24:38.923Z"
   },
   {
    "duration": 26,
    "start_time": "2022-09-04T19:24:47.784Z"
   },
   {
    "duration": 6,
    "start_time": "2022-09-04T19:24:56.504Z"
   },
   {
    "duration": 16,
    "start_time": "2022-09-04T19:24:58.533Z"
   },
   {
    "duration": 23,
    "start_time": "2022-09-04T19:25:06.346Z"
   },
   {
    "duration": 15,
    "start_time": "2022-09-04T19:25:08.725Z"
   },
   {
    "duration": 9,
    "start_time": "2022-09-04T19:28:43.591Z"
   },
   {
    "duration": 1475,
    "start_time": "2022-09-05T05:07:32.357Z"
   },
   {
    "duration": 4,
    "start_time": "2022-09-05T05:09:01.365Z"
   },
   {
    "duration": 13,
    "start_time": "2022-09-05T05:09:04.395Z"
   },
   {
    "duration": 23,
    "start_time": "2022-09-05T05:09:07.386Z"
   },
   {
    "duration": 20,
    "start_time": "2022-09-05T05:09:20.582Z"
   },
   {
    "duration": 9,
    "start_time": "2022-09-05T05:09:28.514Z"
   },
   {
    "duration": 14,
    "start_time": "2022-09-05T05:10:26.379Z"
   },
   {
    "duration": 11,
    "start_time": "2022-09-05T05:10:29.631Z"
   },
   {
    "duration": 12,
    "start_time": "2022-09-05T05:28:42.591Z"
   },
   {
    "duration": 12,
    "start_time": "2022-09-05T05:28:47.572Z"
   },
   {
    "duration": 13,
    "start_time": "2022-09-05T05:28:50.999Z"
   },
   {
    "duration": 2783,
    "start_time": "2022-09-05T05:28:56.934Z"
   },
   {
    "duration": 1019,
    "start_time": "2022-09-05T05:29:02.802Z"
   },
   {
    "duration": 6,
    "start_time": "2022-09-05T05:29:09.166Z"
   },
   {
    "duration": 17,
    "start_time": "2022-09-05T05:29:11.256Z"
   },
   {
    "duration": 6,
    "start_time": "2022-09-05T05:29:14.435Z"
   },
   {
    "duration": 5,
    "start_time": "2022-09-05T05:29:16.644Z"
   },
   {
    "duration": 98,
    "start_time": "2022-09-05T05:29:25.241Z"
   },
   {
    "duration": 10,
    "start_time": "2022-09-05T05:29:39.962Z"
   },
   {
    "duration": 6,
    "start_time": "2022-09-05T05:29:42.748Z"
   },
   {
    "duration": 5,
    "start_time": "2022-09-05T05:29:46.681Z"
   },
   {
    "duration": 115,
    "start_time": "2022-09-05T05:29:54.983Z"
   },
   {
    "duration": 9,
    "start_time": "2022-09-05T05:30:03.021Z"
   },
   {
    "duration": 5,
    "start_time": "2022-09-05T05:30:05.874Z"
   },
   {
    "duration": 20,
    "start_time": "2022-09-05T05:30:08.363Z"
   },
   {
    "duration": 16,
    "start_time": "2022-09-05T05:31:23.212Z"
   },
   {
    "duration": 5,
    "start_time": "2022-09-05T05:31:42.034Z"
   },
   {
    "duration": 9,
    "start_time": "2022-09-05T05:31:44.761Z"
   },
   {
    "duration": 6,
    "start_time": "2022-09-05T05:31:47.762Z"
   },
   {
    "duration": 5,
    "start_time": "2022-09-05T05:31:50.395Z"
   },
   {
    "duration": 7,
    "start_time": "2022-09-05T05:31:52.989Z"
   },
   {
    "duration": 7,
    "start_time": "2022-09-05T05:31:56.027Z"
   },
   {
    "duration": 3,
    "start_time": "2022-09-05T05:32:01.356Z"
   },
   {
    "duration": 3,
    "start_time": "2022-09-05T05:32:02.827Z"
   },
   {
    "duration": 10,
    "start_time": "2022-09-05T05:32:04.627Z"
   },
   {
    "duration": 5,
    "start_time": "2022-09-05T05:32:07.397Z"
   },
   {
    "duration": 7,
    "start_time": "2022-09-05T05:32:09.397Z"
   },
   {
    "duration": 6,
    "start_time": "2022-09-05T05:32:11.569Z"
   },
   {
    "duration": 3,
    "start_time": "2022-09-05T05:32:14.882Z"
   },
   {
    "duration": 3,
    "start_time": "2022-09-05T05:32:16.433Z"
   },
   {
    "duration": 17,
    "start_time": "2022-09-05T05:32:18.727Z"
   },
   {
    "duration": 18,
    "start_time": "2022-09-05T05:32:22.594Z"
   },
   {
    "duration": 24,
    "start_time": "2022-09-05T05:32:24.756Z"
   },
   {
    "duration": 20,
    "start_time": "2022-09-05T05:32:26.956Z"
   },
   {
    "duration": 10,
    "start_time": "2022-09-05T05:32:33.954Z"
   },
   {
    "duration": 6,
    "start_time": "2022-09-05T05:32:39.616Z"
   },
   {
    "duration": 4,
    "start_time": "2022-09-05T05:32:41.927Z"
   },
   {
    "duration": 4,
    "start_time": "2022-09-05T05:32:44.770Z"
   },
   {
    "duration": 11,
    "start_time": "2022-09-05T05:32:47.032Z"
   },
   {
    "duration": 5,
    "start_time": "2022-09-05T05:32:56.962Z"
   },
   {
    "duration": 4,
    "start_time": "2022-09-05T05:33:00.656Z"
   },
   {
    "duration": 8,
    "start_time": "2022-09-05T05:33:02.991Z"
   },
   {
    "duration": 7,
    "start_time": "2022-09-05T05:39:02.272Z"
   },
   {
    "duration": 12,
    "start_time": "2022-09-05T05:39:05.579Z"
   },
   {
    "duration": 11,
    "start_time": "2022-09-05T05:39:12.859Z"
   },
   {
    "duration": 25,
    "start_time": "2022-09-05T05:39:16.122Z"
   },
   {
    "duration": 5,
    "start_time": "2022-09-05T05:39:20.630Z"
   },
   {
    "duration": 6,
    "start_time": "2022-09-05T05:39:23.045Z"
   },
   {
    "duration": 3,
    "start_time": "2022-09-05T05:39:48.036Z"
   },
   {
    "duration": 12,
    "start_time": "2022-09-05T05:39:51.876Z"
   },
   {
    "duration": 121,
    "start_time": "2022-09-05T05:40:02.802Z"
   },
   {
    "duration": 16,
    "start_time": "2022-09-05T05:40:13.644Z"
   },
   {
    "duration": 1479,
    "start_time": "2022-09-06T13:05:45.033Z"
   },
   {
    "duration": 3,
    "start_time": "2022-09-06T13:05:51.839Z"
   },
   {
    "duration": 11,
    "start_time": "2022-09-06T13:05:54.244Z"
   },
   {
    "duration": 19,
    "start_time": "2022-09-06T13:05:57.395Z"
   },
   {
    "duration": 21,
    "start_time": "2022-09-06T13:05:59.993Z"
   },
   {
    "duration": 8,
    "start_time": "2022-09-06T13:06:03.224Z"
   },
   {
    "duration": 11,
    "start_time": "2022-09-06T13:06:06.515Z"
   },
   {
    "duration": 11,
    "start_time": "2022-09-06T13:06:10.816Z"
   },
   {
    "duration": 12,
    "start_time": "2022-09-06T13:06:25.673Z"
   },
   {
    "duration": 2875,
    "start_time": "2022-09-06T13:06:34.745Z"
   },
   {
    "duration": 915,
    "start_time": "2022-09-06T13:06:42.594Z"
   },
   {
    "duration": 5,
    "start_time": "2022-09-06T13:06:57.113Z"
   },
   {
    "duration": 16,
    "start_time": "2022-09-06T13:06:59.114Z"
   },
   {
    "duration": 6,
    "start_time": "2022-09-06T13:07:04.553Z"
   },
   {
    "duration": 6,
    "start_time": "2022-09-06T13:07:07.187Z"
   },
   {
    "duration": 95,
    "start_time": "2022-09-06T13:07:10.135Z"
   },
   {
    "duration": 8,
    "start_time": "2022-09-06T13:07:13.451Z"
   },
   {
    "duration": 5,
    "start_time": "2022-09-06T13:07:16.191Z"
   },
   {
    "duration": 5,
    "start_time": "2022-09-06T13:07:43.084Z"
   },
   {
    "duration": 112,
    "start_time": "2022-09-06T13:07:44.911Z"
   },
   {
    "duration": 8,
    "start_time": "2022-09-06T13:08:06.394Z"
   },
   {
    "duration": 3,
    "start_time": "2022-09-06T13:08:08.865Z"
   },
   {
    "duration": 17,
    "start_time": "2022-09-06T13:08:11.049Z"
   },
   {
    "duration": 13,
    "start_time": "2022-09-06T13:08:13.611Z"
   },
   {
    "duration": 5,
    "start_time": "2022-09-06T13:08:17.145Z"
   },
   {
    "duration": 9,
    "start_time": "2022-09-06T13:08:19.425Z"
   },
   {
    "duration": 6,
    "start_time": "2022-09-06T13:08:22.109Z"
   },
   {
    "duration": 5,
    "start_time": "2022-09-06T13:08:23.653Z"
   },
   {
    "duration": 7,
    "start_time": "2022-09-06T13:08:25.963Z"
   },
   {
    "duration": 5,
    "start_time": "2022-09-06T13:08:28.635Z"
   },
   {
    "duration": 2,
    "start_time": "2022-09-06T13:08:31.063Z"
   },
   {
    "duration": 2,
    "start_time": "2022-09-06T13:08:32.259Z"
   },
   {
    "duration": 6,
    "start_time": "2022-09-06T13:08:34.346Z"
   },
   {
    "duration": 5,
    "start_time": "2022-09-06T13:08:36.648Z"
   },
   {
    "duration": 5,
    "start_time": "2022-09-06T13:08:39.448Z"
   },
   {
    "duration": 5,
    "start_time": "2022-09-06T13:08:41.794Z"
   },
   {
    "duration": 2,
    "start_time": "2022-09-06T13:08:43.729Z"
   },
   {
    "duration": 2,
    "start_time": "2022-09-06T13:08:45.351Z"
   },
   {
    "duration": 15,
    "start_time": "2022-09-06T13:08:49.554Z"
   },
   {
    "duration": 15,
    "start_time": "2022-09-06T13:08:51.659Z"
   },
   {
    "duration": 16,
    "start_time": "2022-09-06T13:08:53.534Z"
   },
   {
    "duration": 20,
    "start_time": "2022-09-06T13:08:56.393Z"
   },
   {
    "duration": 10,
    "start_time": "2022-09-06T13:09:00.093Z"
   },
   {
    "duration": 7,
    "start_time": "2022-09-06T13:09:06.715Z"
   },
   {
    "duration": 4,
    "start_time": "2022-09-06T13:09:10.996Z"
   },
   {
    "duration": 4,
    "start_time": "2022-09-06T13:09:13.611Z"
   },
   {
    "duration": 9,
    "start_time": "2022-09-06T13:09:15.447Z"
   },
   {
    "duration": 7,
    "start_time": "2022-09-06T13:09:17.047Z"
   },
   {
    "duration": 11,
    "start_time": "2022-09-06T13:09:20.016Z"
   },
   {
    "duration": 8,
    "start_time": "2022-09-06T13:09:24.009Z"
   },
   {
    "duration": 19,
    "start_time": "2022-09-06T13:09:26.527Z"
   },
   {
    "duration": 4,
    "start_time": "2022-09-06T13:09:29.255Z"
   },
   {
    "duration": 5,
    "start_time": "2022-09-06T13:09:32.292Z"
   },
   {
    "duration": 4,
    "start_time": "2022-09-06T13:09:34.811Z"
   },
   {
    "duration": 11,
    "start_time": "2022-09-06T13:09:37.890Z"
   },
   {
    "duration": 13,
    "start_time": "2022-09-06T13:09:44.523Z"
   },
   {
    "duration": 5,
    "start_time": "2022-09-06T13:33:35.042Z"
   },
   {
    "duration": 103,
    "start_time": "2022-09-06T13:38:20.621Z"
   },
   {
    "duration": 21,
    "start_time": "2022-09-06T13:38:25.712Z"
   },
   {
    "duration": 4,
    "start_time": "2022-09-06T13:42:22.483Z"
   },
   {
    "duration": 4,
    "start_time": "2022-09-06T13:42:28.782Z"
   },
   {
    "duration": 4,
    "start_time": "2022-09-06T13:43:08.854Z"
   },
   {
    "duration": 63,
    "start_time": "2022-09-06T13:43:15.715Z"
   },
   {
    "duration": 133,
    "start_time": "2022-09-06T13:43:23.242Z"
   },
   {
    "duration": 6,
    "start_time": "2022-09-06T13:52:01.721Z"
   },
   {
    "duration": 4,
    "start_time": "2022-09-06T14:00:06.483Z"
   },
   {
    "duration": 18,
    "start_time": "2022-09-06T14:05:21.329Z"
   },
   {
    "duration": 6,
    "start_time": "2022-09-06T14:13:58.832Z"
   },
   {
    "duration": 1661,
    "start_time": "2022-09-06T14:15:17.174Z"
   },
   {
    "duration": 11,
    "start_time": "2022-09-06T14:30:21.811Z"
   },
   {
    "duration": 10,
    "start_time": "2022-09-06T14:30:31.071Z"
   },
   {
    "duration": 16,
    "start_time": "2022-09-06T14:30:50.307Z"
   },
   {
    "duration": 13,
    "start_time": "2022-09-06T14:31:03.421Z"
   },
   {
    "duration": 9,
    "start_time": "2022-09-06T14:31:19.211Z"
   },
   {
    "duration": 10,
    "start_time": "2022-09-06T14:32:14.651Z"
   },
   {
    "duration": 11,
    "start_time": "2022-09-06T14:32:43.006Z"
   },
   {
    "duration": 117,
    "start_time": "2022-09-07T05:50:35.280Z"
   },
   {
    "duration": 121,
    "start_time": "2022-09-07T05:50:43.022Z"
   },
   {
    "duration": 608,
    "start_time": "2022-09-07T05:50:50.332Z"
   },
   {
    "duration": 4,
    "start_time": "2022-09-07T05:51:44.209Z"
   },
   {
    "duration": 14,
    "start_time": "2022-09-07T05:51:46.791Z"
   },
   {
    "duration": 14,
    "start_time": "2022-09-07T05:51:50.846Z"
   },
   {
    "duration": 21,
    "start_time": "2022-09-07T05:53:37.706Z"
   },
   {
    "duration": 23,
    "start_time": "2022-09-07T05:55:12.545Z"
   },
   {
    "duration": 5,
    "start_time": "2022-09-07T05:57:24.399Z"
   },
   {
    "duration": 23,
    "start_time": "2022-09-07T05:57:57.914Z"
   },
   {
    "duration": 11,
    "start_time": "2022-09-07T06:04:07.400Z"
   },
   {
    "duration": 5,
    "start_time": "2022-09-07T06:11:16.251Z"
   },
   {
    "duration": 51,
    "start_time": "2022-09-07T06:11:42.969Z"
   },
   {
    "duration": 45,
    "start_time": "2022-09-07T06:12:01.056Z"
   },
   {
    "duration": 6,
    "start_time": "2022-09-07T06:12:07.097Z"
   },
   {
    "duration": 10,
    "start_time": "2022-09-07T06:12:22.727Z"
   },
   {
    "duration": 14,
    "start_time": "2022-09-07T06:12:43.818Z"
   },
   {
    "duration": 17,
    "start_time": "2022-09-07T06:13:20.751Z"
   },
   {
    "duration": 15,
    "start_time": "2022-09-07T06:13:25.389Z"
   },
   {
    "duration": 66,
    "start_time": "2022-09-07T06:14:16.744Z"
   },
   {
    "duration": 8,
    "start_time": "2022-09-07T06:14:32.855Z"
   },
   {
    "duration": 7,
    "start_time": "2022-09-07T06:14:45.229Z"
   },
   {
    "duration": 9,
    "start_time": "2022-09-07T06:14:55.744Z"
   },
   {
    "duration": 10,
    "start_time": "2022-09-07T06:15:15.116Z"
   },
   {
    "duration": 6,
    "start_time": "2022-09-07T06:15:19.755Z"
   },
   {
    "duration": 1675,
    "start_time": "2022-09-07T06:15:59.192Z"
   },
   {
    "duration": 6,
    "start_time": "2022-09-07T06:16:12.400Z"
   },
   {
    "duration": 7,
    "start_time": "2022-09-07T06:16:24.090Z"
   },
   {
    "duration": 7,
    "start_time": "2022-09-07T06:16:34.000Z"
   },
   {
    "duration": 659,
    "start_time": "2022-09-07T11:00:06.967Z"
   },
   {
    "duration": 4,
    "start_time": "2022-09-07T11:00:14.991Z"
   },
   {
    "duration": 13,
    "start_time": "2022-09-07T11:00:17.294Z"
   },
   {
    "duration": 22,
    "start_time": "2022-09-07T11:00:21.396Z"
   },
   {
    "duration": 38,
    "start_time": "2022-09-07T11:00:24.996Z"
   },
   {
    "duration": 24,
    "start_time": "2022-09-07T11:00:31.801Z"
   },
   {
    "duration": 16,
    "start_time": "2022-09-07T11:00:43.152Z"
   },
   {
    "duration": 7,
    "start_time": "2022-09-07T11:00:47.098Z"
   },
   {
    "duration": 12,
    "start_time": "2022-09-07T11:03:33.961Z"
   },
   {
    "duration": 498,
    "start_time": "2022-09-07T11:10:21.194Z"
   },
   {
    "duration": 92,
    "start_time": "2022-09-07T11:10:46.025Z"
   },
   {
    "duration": 558,
    "start_time": "2022-09-07T11:11:17.334Z"
   },
   {
    "duration": 2768,
    "start_time": "2022-09-07T11:11:24.250Z"
   },
   {
    "duration": 5,
    "start_time": "2022-09-07T11:12:24.025Z"
   },
   {
    "duration": 8,
    "start_time": "2022-09-07T11:12:30.507Z"
   },
   {
    "duration": 96,
    "start_time": "2022-09-07T11:13:03.295Z"
   },
   {
    "duration": 324,
    "start_time": "2022-09-07T11:13:09.200Z"
   },
   {
    "duration": 5,
    "start_time": "2022-09-07T11:13:24.357Z"
   },
   {
    "duration": 7,
    "start_time": "2022-09-07T11:14:58.867Z"
   },
   {
    "duration": 50,
    "start_time": "2022-09-07T11:16:09.753Z"
   },
   {
    "duration": 19,
    "start_time": "2022-09-07T11:16:46.808Z"
   },
   {
    "duration": 15,
    "start_time": "2022-09-07T11:17:02.844Z"
   },
   {
    "duration": 12,
    "start_time": "2022-09-07T11:17:38.763Z"
   },
   {
    "duration": 10,
    "start_time": "2022-09-07T11:18:07.034Z"
   },
   {
    "duration": 2839,
    "start_time": "2022-09-07T11:19:49.358Z"
   },
   {
    "duration": 5,
    "start_time": "2022-09-07T11:24:56.891Z"
   },
   {
    "duration": 12,
    "start_time": "2022-09-07T11:25:13.891Z"
   },
   {
    "duration": 10,
    "start_time": "2022-09-07T11:25:38.243Z"
   },
   {
    "duration": 38,
    "start_time": "2022-09-07T11:26:04.494Z"
   },
   {
    "duration": 11,
    "start_time": "2022-09-07T11:26:28.046Z"
   },
   {
    "duration": 13,
    "start_time": "2022-09-07T11:26:33.560Z"
   },
   {
    "duration": 5,
    "start_time": "2022-09-07T11:26:40.634Z"
   },
   {
    "duration": 10,
    "start_time": "2022-09-07T11:26:52.734Z"
   },
   {
    "duration": 10,
    "start_time": "2022-09-07T11:26:55.302Z"
   },
   {
    "duration": 11,
    "start_time": "2022-09-07T11:27:04.906Z"
   },
   {
    "duration": 1627,
    "start_time": "2022-09-08T12:28:31.349Z"
   },
   {
    "duration": 3,
    "start_time": "2022-09-08T12:28:37.613Z"
   },
   {
    "duration": 14,
    "start_time": "2022-09-08T12:28:40.213Z"
   },
   {
    "duration": 17,
    "start_time": "2022-09-08T12:28:43.558Z"
   },
   {
    "duration": 20,
    "start_time": "2022-09-08T12:28:47.623Z"
   },
   {
    "duration": 21,
    "start_time": "2022-09-08T12:28:52.803Z"
   },
   {
    "duration": 13,
    "start_time": "2022-09-08T12:28:58.409Z"
   },
   {
    "duration": 7,
    "start_time": "2022-09-08T12:29:00.936Z"
   },
   {
    "duration": 10,
    "start_time": "2022-09-08T12:29:06.612Z"
   },
   {
    "duration": 5,
    "start_time": "2022-09-08T12:29:14.774Z"
   },
   {
    "duration": 12,
    "start_time": "2022-09-08T12:29:18.300Z"
   },
   {
    "duration": 3104,
    "start_time": "2022-09-08T12:29:21.818Z"
   },
   {
    "duration": 6,
    "start_time": "2022-09-08T12:29:26.320Z"
   },
   {
    "duration": 9,
    "start_time": "2022-09-08T12:29:30.605Z"
   },
   {
    "duration": 6,
    "start_time": "2022-09-08T12:29:33.205Z"
   },
   {
    "duration": 6,
    "start_time": "2022-09-08T12:29:37.791Z"
   },
   {
    "duration": 121,
    "start_time": "2022-09-08T13:25:53.308Z"
   },
   {
    "duration": 11,
    "start_time": "2022-09-08T13:26:15.356Z"
   },
   {
    "duration": 4,
    "start_time": "2022-09-08T13:26:49.191Z"
   },
   {
    "duration": 10,
    "start_time": "2022-09-08T13:26:56.318Z"
   },
   {
    "duration": 10,
    "start_time": "2022-09-08T13:27:04.488Z"
   },
   {
    "duration": 30,
    "start_time": "2022-09-08T13:27:12.555Z"
   },
   {
    "duration": 8,
    "start_time": "2022-09-08T13:27:20.657Z"
   },
   {
    "duration": 9,
    "start_time": "2022-09-08T13:28:00.662Z"
   },
   {
    "duration": 8,
    "start_time": "2022-09-08T13:28:07.764Z"
   },
   {
    "duration": 9,
    "start_time": "2022-09-08T13:28:12.585Z"
   },
   {
    "duration": 9,
    "start_time": "2022-09-08T13:28:30.989Z"
   },
   {
    "duration": 10,
    "start_time": "2022-09-08T13:28:39.379Z"
   },
   {
    "duration": 7,
    "start_time": "2022-09-08T13:29:12.493Z"
   },
   {
    "duration": 6,
    "start_time": "2022-09-08T13:29:19.982Z"
   },
   {
    "duration": 6,
    "start_time": "2022-09-08T13:29:28.997Z"
   },
   {
    "duration": 112,
    "start_time": "2022-09-08T13:30:30.282Z"
   },
   {
    "duration": 100,
    "start_time": "2022-09-08T13:31:13.494Z"
   },
   {
    "duration": 9,
    "start_time": "2022-09-08T13:33:24.793Z"
   },
   {
    "duration": 5,
    "start_time": "2022-09-08T13:35:59.610Z"
   },
   {
    "duration": 9,
    "start_time": "2022-09-08T13:37:43.996Z"
   },
   {
    "duration": 5,
    "start_time": "2022-09-08T13:37:56.431Z"
   },
   {
    "duration": 4,
    "start_time": "2022-09-08T13:38:27.902Z"
   },
   {
    "duration": 5,
    "start_time": "2022-09-08T13:38:40.332Z"
   },
   {
    "duration": 4,
    "start_time": "2022-09-08T13:38:51.555Z"
   },
   {
    "duration": 4,
    "start_time": "2022-09-08T13:38:56.619Z"
   },
   {
    "duration": 5,
    "start_time": "2022-09-08T13:39:07.480Z"
   },
   {
    "duration": 5,
    "start_time": "2022-09-08T13:40:29.651Z"
   },
   {
    "duration": 25,
    "start_time": "2022-09-08T13:40:36.509Z"
   },
   {
    "duration": 5,
    "start_time": "2022-09-08T13:42:39.315Z"
   },
   {
    "duration": 4,
    "start_time": "2022-09-08T13:43:55.257Z"
   },
   {
    "duration": 8,
    "start_time": "2022-09-08T13:44:05.048Z"
   },
   {
    "duration": 88,
    "start_time": "2022-09-08T13:45:43.842Z"
   },
   {
    "duration": 20,
    "start_time": "2022-09-08T13:46:21.212Z"
   },
   {
    "duration": 12,
    "start_time": "2022-09-08T13:46:53.536Z"
   },
   {
    "duration": 8,
    "start_time": "2022-09-08T13:47:40.034Z"
   },
   {
    "duration": 114,
    "start_time": "2022-09-08T13:48:55.689Z"
   },
   {
    "duration": 102,
    "start_time": "2022-09-08T13:49:14.323Z"
   },
   {
    "duration": 7,
    "start_time": "2022-09-08T13:49:32.146Z"
   },
   {
    "duration": 8,
    "start_time": "2022-09-08T13:49:39.282Z"
   },
   {
    "duration": 103,
    "start_time": "2022-09-08T13:50:12.621Z"
   },
   {
    "duration": 7,
    "start_time": "2022-09-08T13:50:30.643Z"
   },
   {
    "duration": 7,
    "start_time": "2022-09-08T13:51:07.262Z"
   },
   {
    "duration": 111,
    "start_time": "2022-09-08T13:51:20.762Z"
   },
   {
    "duration": 9,
    "start_time": "2022-09-08T13:51:29.886Z"
   },
   {
    "duration": 9,
    "start_time": "2022-09-08T13:55:42.088Z"
   },
   {
    "duration": 17,
    "start_time": "2022-09-08T13:55:47.536Z"
   },
   {
    "duration": 33,
    "start_time": "2022-09-08T13:56:08.343Z"
   },
   {
    "duration": 14,
    "start_time": "2022-09-08T13:58:11.478Z"
   },
   {
    "duration": 4,
    "start_time": "2022-09-08T13:59:09.252Z"
   },
   {
    "duration": 5,
    "start_time": "2022-09-08T13:59:15.501Z"
   },
   {
    "duration": 6,
    "start_time": "2022-09-08T13:59:28.711Z"
   },
   {
    "duration": 7,
    "start_time": "2022-09-08T14:03:53.621Z"
   },
   {
    "duration": 80,
    "start_time": "2022-09-08T15:53:57.996Z"
   },
   {
    "duration": 5,
    "start_time": "2022-09-08T15:54:02.695Z"
   },
   {
    "duration": 16,
    "start_time": "2022-09-08T15:54:05.190Z"
   },
   {
    "duration": 16,
    "start_time": "2022-09-08T15:54:08.230Z"
   },
   {
    "duration": 22,
    "start_time": "2022-09-08T15:54:11.462Z"
   },
   {
    "duration": 26,
    "start_time": "2022-09-08T15:54:19.413Z"
   },
   {
    "duration": 12,
    "start_time": "2022-09-08T15:54:24.987Z"
   },
   {
    "duration": 6,
    "start_time": "2022-09-08T15:54:27.551Z"
   },
   {
    "duration": 11,
    "start_time": "2022-09-08T15:54:31.714Z"
   },
   {
    "duration": 7,
    "start_time": "2022-09-08T15:54:52.251Z"
   },
   {
    "duration": 15,
    "start_time": "2022-09-08T15:55:01.690Z"
   },
   {
    "duration": 6,
    "start_time": "2022-09-08T15:55:06.737Z"
   },
   {
    "duration": 5,
    "start_time": "2022-09-08T15:55:24.260Z"
   },
   {
    "duration": 6,
    "start_time": "2022-09-08T15:55:34.378Z"
   },
   {
    "duration": 6,
    "start_time": "2022-09-08T15:55:51.264Z"
   },
   {
    "duration": 15,
    "start_time": "2022-09-08T15:56:15.129Z"
   },
   {
    "duration": 3301,
    "start_time": "2022-09-08T15:56:18.781Z"
   },
   {
    "duration": 7,
    "start_time": "2022-09-08T15:56:33.708Z"
   },
   {
    "duration": 8,
    "start_time": "2022-09-08T15:56:36.573Z"
   },
   {
    "duration": 6,
    "start_time": "2022-09-08T15:56:39.483Z"
   },
   {
    "duration": 5,
    "start_time": "2022-09-08T15:56:42.547Z"
   },
   {
    "duration": 6,
    "start_time": "2022-09-08T15:56:47.435Z"
   },
   {
    "duration": 114,
    "start_time": "2022-09-08T15:56:52.749Z"
   },
   {
    "duration": 9,
    "start_time": "2022-09-08T15:56:56.503Z"
   },
   {
    "duration": 5,
    "start_time": "2022-09-08T15:56:59.831Z"
   },
   {
    "duration": 4,
    "start_time": "2022-09-08T15:57:03.627Z"
   },
   {
    "duration": 5,
    "start_time": "2022-09-08T15:57:05.817Z"
   },
   {
    "duration": 7,
    "start_time": "2022-09-08T15:57:10.199Z"
   },
   {
    "duration": 121,
    "start_time": "2022-09-08T15:57:17.940Z"
   },
   {
    "duration": 10,
    "start_time": "2022-09-08T15:57:23.192Z"
   },
   {
    "duration": 4,
    "start_time": "2022-09-08T15:59:15.294Z"
   },
   {
    "duration": 5,
    "start_time": "2022-09-08T15:59:19.748Z"
   },
   {
    "duration": 6,
    "start_time": "2022-09-08T15:59:22.827Z"
   },
   {
    "duration": 5,
    "start_time": "2022-09-08T16:00:22.985Z"
   },
   {
    "duration": 20,
    "start_time": "2022-09-08T16:00:28.013Z"
   },
   {
    "duration": 19,
    "start_time": "2022-09-08T16:01:12.237Z"
   },
   {
    "duration": 7,
    "start_time": "2022-09-08T16:02:25.839Z"
   },
   {
    "duration": 10,
    "start_time": "2022-09-08T16:02:50.335Z"
   },
   {
    "duration": 5,
    "start_time": "2022-09-08T16:02:57.165Z"
   },
   {
    "duration": 8,
    "start_time": "2022-09-08T16:04:27.034Z"
   },
   {
    "duration": 12,
    "start_time": "2022-09-08T16:04:32.194Z"
   },
   {
    "duration": 7,
    "start_time": "2022-09-08T16:04:49.977Z"
   },
   {
    "duration": 5,
    "start_time": "2022-09-08T16:05:23.529Z"
   },
   {
    "duration": 9,
    "start_time": "2022-09-08T16:05:56.368Z"
   },
   {
    "duration": 5,
    "start_time": "2022-09-08T16:05:58.664Z"
   },
   {
    "duration": 11,
    "start_time": "2022-09-08T16:06:07.650Z"
   },
   {
    "duration": 7,
    "start_time": "2022-09-08T16:06:09.556Z"
   },
   {
    "duration": 17,
    "start_time": "2022-09-08T16:06:24.800Z"
   },
   {
    "duration": 10,
    "start_time": "2022-09-08T16:06:35.019Z"
   },
   {
    "duration": 18,
    "start_time": "2022-09-08T16:06:39.395Z"
   },
   {
    "duration": 16,
    "start_time": "2022-09-08T16:06:44.844Z"
   },
   {
    "duration": 18,
    "start_time": "2022-09-08T16:07:01.190Z"
   },
   {
    "duration": 17,
    "start_time": "2022-09-08T16:07:03.165Z"
   },
   {
    "duration": 7,
    "start_time": "2022-09-08T16:07:13.015Z"
   },
   {
    "duration": 7,
    "start_time": "2022-09-08T16:07:35.943Z"
   },
   {
    "duration": 21,
    "start_time": "2022-09-08T16:07:47.734Z"
   },
   {
    "duration": 17,
    "start_time": "2022-09-08T16:07:52.019Z"
   },
   {
    "duration": 11,
    "start_time": "2022-09-08T16:07:55.505Z"
   },
   {
    "duration": 132,
    "start_time": "2022-09-08T16:08:22.962Z"
   },
   {
    "duration": 5,
    "start_time": "2022-09-08T16:09:21.702Z"
   },
   {
    "duration": 6,
    "start_time": "2022-09-08T16:11:50.245Z"
   },
   {
    "duration": 10,
    "start_time": "2022-09-08T16:12:05.187Z"
   },
   {
    "duration": 5,
    "start_time": "2022-09-08T16:12:44.278Z"
   },
   {
    "duration": 6,
    "start_time": "2022-09-08T16:12:46.515Z"
   },
   {
    "duration": 5,
    "start_time": "2022-09-08T16:13:01.124Z"
   },
   {
    "duration": 8,
    "start_time": "2022-09-08T16:13:14.229Z"
   },
   {
    "duration": 6,
    "start_time": "2022-09-08T16:14:18.719Z"
   },
   {
    "duration": 7,
    "start_time": "2022-09-08T16:14:23.610Z"
   },
   {
    "duration": 5,
    "start_time": "2022-09-08T16:14:50.060Z"
   },
   {
    "duration": 6,
    "start_time": "2022-09-08T16:14:59.310Z"
   },
   {
    "duration": 18,
    "start_time": "2022-09-08T16:16:19.977Z"
   },
   {
    "duration": 12,
    "start_time": "2022-09-08T16:17:05.442Z"
   },
   {
    "duration": 5,
    "start_time": "2022-09-08T16:17:07.120Z"
   },
   {
    "duration": 394,
    "start_time": "2022-09-08T16:17:17.260Z"
   },
   {
    "duration": 5,
    "start_time": "2022-09-08T16:17:27.849Z"
   },
   {
    "duration": 6,
    "start_time": "2022-09-08T16:20:33.382Z"
   },
   {
    "duration": 3,
    "start_time": "2022-09-08T16:20:56.925Z"
   },
   {
    "duration": 5,
    "start_time": "2022-09-08T16:21:02.867Z"
   },
   {
    "duration": 11,
    "start_time": "2022-09-08T16:21:10.971Z"
   },
   {
    "duration": 6,
    "start_time": "2022-09-08T16:21:34.851Z"
   },
   {
    "duration": 5,
    "start_time": "2022-09-08T16:21:57.332Z"
   },
   {
    "duration": 7,
    "start_time": "2022-09-08T16:21:59.606Z"
   },
   {
    "duration": 14,
    "start_time": "2022-09-08T16:22:59.607Z"
   },
   {
    "duration": 12,
    "start_time": "2022-09-08T16:24:13.297Z"
   },
   {
    "duration": 12,
    "start_time": "2022-09-08T16:24:17.648Z"
   },
   {
    "duration": 12,
    "start_time": "2022-09-08T16:24:22.938Z"
   },
   {
    "duration": 7,
    "start_time": "2022-09-08T16:24:26.892Z"
   },
   {
    "duration": 6,
    "start_time": "2022-09-08T16:25:19.741Z"
   },
   {
    "duration": 5,
    "start_time": "2022-09-08T16:25:28.541Z"
   },
   {
    "duration": 7,
    "start_time": "2022-09-08T16:25:30.696Z"
   },
   {
    "duration": 4,
    "start_time": "2022-09-08T16:25:43.974Z"
   },
   {
    "duration": 2,
    "start_time": "2022-09-08T16:25:48.647Z"
   },
   {
    "duration": 5,
    "start_time": "2022-09-08T16:25:52.476Z"
   },
   {
    "duration": 17,
    "start_time": "2022-09-08T16:25:56.774Z"
   },
   {
    "duration": 358,
    "start_time": "2022-09-08T16:51:15.303Z"
   },
   {
    "duration": 468,
    "start_time": "2022-09-08T16:52:17.202Z"
   },
   {
    "duration": 1103,
    "start_time": "2022-09-08T16:52:21.684Z"
   },
   {
    "duration": 502,
    "start_time": "2022-09-08T16:53:14.393Z"
   },
   {
    "duration": 81,
    "start_time": "2022-09-08T16:53:26.594Z"
   },
   {
    "duration": 4,
    "start_time": "2022-09-08T16:53:31.243Z"
   },
   {
    "duration": 14,
    "start_time": "2022-09-08T16:53:33.991Z"
   },
   {
    "duration": 15,
    "start_time": "2022-09-08T16:53:36.542Z"
   },
   {
    "duration": 32,
    "start_time": "2022-09-08T16:53:39.121Z"
   },
   {
    "duration": 21,
    "start_time": "2022-09-08T16:53:42.342Z"
   },
   {
    "duration": 12,
    "start_time": "2022-09-08T16:53:51.588Z"
   },
   {
    "duration": 7,
    "start_time": "2022-09-08T16:53:54.310Z"
   },
   {
    "duration": 11,
    "start_time": "2022-09-08T16:53:57.711Z"
   },
   {
    "duration": 8,
    "start_time": "2022-09-08T16:54:02.949Z"
   },
   {
    "duration": 14,
    "start_time": "2022-09-08T16:54:05.495Z"
   },
   {
    "duration": 2936,
    "start_time": "2022-09-08T16:54:09.082Z"
   },
   {
    "duration": 5,
    "start_time": "2022-09-08T16:54:15.790Z"
   },
   {
    "duration": 9,
    "start_time": "2022-09-08T16:54:18.507Z"
   },
   {
    "duration": 6,
    "start_time": "2022-09-08T16:54:20.188Z"
   },
   {
    "duration": 5,
    "start_time": "2022-09-08T16:54:26.690Z"
   },
   {
    "duration": 15,
    "start_time": "2022-09-08T16:54:29.331Z"
   },
   {
    "duration": 6,
    "start_time": "2022-09-08T16:54:31.463Z"
   },
   {
    "duration": 5,
    "start_time": "2022-09-08T16:54:34.048Z"
   },
   {
    "duration": 7,
    "start_time": "2022-09-08T16:54:38.092Z"
   },
   {
    "duration": 97,
    "start_time": "2022-09-08T16:54:40.685Z"
   },
   {
    "duration": 9,
    "start_time": "2022-09-08T16:54:43.620Z"
   },
   {
    "duration": 7,
    "start_time": "2022-09-08T16:54:56.804Z"
   },
   {
    "duration": 5,
    "start_time": "2022-09-08T16:54:59.869Z"
   },
   {
    "duration": 5,
    "start_time": "2022-09-08T16:55:05.811Z"
   },
   {
    "duration": 5,
    "start_time": "2022-09-08T16:56:08.325Z"
   },
   {
    "duration": 182,
    "start_time": "2022-09-08T16:56:10.672Z"
   },
   {
    "duration": 8,
    "start_time": "2022-09-08T16:56:14.615Z"
   },
   {
    "duration": 3,
    "start_time": "2022-09-08T16:56:18.040Z"
   },
   {
    "duration": 4,
    "start_time": "2022-09-08T16:56:20.590Z"
   },
   {
    "duration": 20,
    "start_time": "2022-09-08T16:56:36.740Z"
   },
   {
    "duration": 14,
    "start_time": "2022-09-08T16:56:40.873Z"
   },
   {
    "duration": 349,
    "start_time": "2022-09-08T16:56:49.366Z"
   },
   {
    "duration": 347,
    "start_time": "2022-09-08T16:56:54.686Z"
   },
   {
    "duration": 9,
    "start_time": "2022-09-08T16:57:31.450Z"
   },
   {
    "duration": 12,
    "start_time": "2022-09-08T16:57:57.508Z"
   },
   {
    "duration": 10,
    "start_time": "2022-09-08T16:58:00.185Z"
   },
   {
    "duration": 383,
    "start_time": "2022-09-08T16:58:06.751Z"
   },
   {
    "duration": 440,
    "start_time": "2022-09-08T16:58:16.326Z"
   },
   {
    "duration": 16,
    "start_time": "2022-09-08T16:58:26.518Z"
   },
   {
    "duration": 318,
    "start_time": "2022-09-08T16:58:26.839Z"
   },
   {
    "duration": 377,
    "start_time": "2022-09-08T16:58:30.956Z"
   },
   {
    "duration": 12,
    "start_time": "2022-09-08T16:59:11.067Z"
   },
   {
    "duration": 340,
    "start_time": "2022-09-08T16:59:14.384Z"
   },
   {
    "duration": 13,
    "start_time": "2022-09-08T17:00:19.369Z"
   },
   {
    "duration": 14,
    "start_time": "2022-09-08T17:00:40.332Z"
   },
   {
    "duration": 490,
    "start_time": "2022-09-08T17:00:43.813Z"
   },
   {
    "duration": 11,
    "start_time": "2022-09-08T17:01:49.768Z"
   },
   {
    "duration": 14,
    "start_time": "2022-09-08T17:02:15.349Z"
   },
   {
    "duration": 361,
    "start_time": "2022-09-08T17:02:17.585Z"
   },
   {
    "duration": 14,
    "start_time": "2022-09-08T17:05:48.427Z"
   },
   {
    "duration": 10,
    "start_time": "2022-09-08T17:08:18.575Z"
   },
   {
    "duration": 10,
    "start_time": "2022-09-08T17:08:44.464Z"
   },
   {
    "duration": 6,
    "start_time": "2022-09-08T17:08:53.659Z"
   },
   {
    "duration": 331,
    "start_time": "2022-09-08T17:08:56.379Z"
   },
   {
    "duration": 81,
    "start_time": "2022-09-08T17:09:02.436Z"
   },
   {
    "duration": 76,
    "start_time": "2022-09-08T17:09:09.388Z"
   },
   {
    "duration": 4,
    "start_time": "2022-09-08T17:09:14.417Z"
   },
   {
    "duration": 12,
    "start_time": "2022-09-08T17:09:16.661Z"
   },
   {
    "duration": 15,
    "start_time": "2022-09-08T17:09:21.177Z"
   },
   {
    "duration": 22,
    "start_time": "2022-09-08T17:09:23.348Z"
   },
   {
    "duration": 22,
    "start_time": "2022-09-08T17:09:27.869Z"
   },
   {
    "duration": 13,
    "start_time": "2022-09-08T17:09:39.948Z"
   },
   {
    "duration": 8,
    "start_time": "2022-09-08T17:09:42.606Z"
   },
   {
    "duration": 10,
    "start_time": "2022-09-08T17:09:55.646Z"
   },
   {
    "duration": 6,
    "start_time": "2022-09-08T17:10:00.043Z"
   },
   {
    "duration": 13,
    "start_time": "2022-09-08T17:10:02.652Z"
   },
   {
    "duration": 3109,
    "start_time": "2022-09-08T17:10:05.947Z"
   },
   {
    "duration": 6,
    "start_time": "2022-09-08T17:10:14.132Z"
   },
   {
    "duration": 8,
    "start_time": "2022-09-08T17:10:17.285Z"
   },
   {
    "duration": 6,
    "start_time": "2022-09-08T17:10:19.292Z"
   },
   {
    "duration": 4,
    "start_time": "2022-09-08T17:10:22.278Z"
   },
   {
    "duration": 7,
    "start_time": "2022-09-08T17:10:25.528Z"
   },
   {
    "duration": 104,
    "start_time": "2022-09-08T17:10:27.693Z"
   },
   {
    "duration": 8,
    "start_time": "2022-09-08T17:10:31.129Z"
   },
   {
    "duration": 6,
    "start_time": "2022-09-08T17:10:54.392Z"
   },
   {
    "duration": 13,
    "start_time": "2022-09-08T17:11:37.809Z"
   },
   {
    "duration": 7,
    "start_time": "2022-09-08T17:11:48.558Z"
   },
   {
    "duration": 3,
    "start_time": "2022-09-08T17:12:13.682Z"
   },
   {
    "duration": 4,
    "start_time": "2022-09-08T17:12:16.063Z"
   },
   {
    "duration": 6,
    "start_time": "2022-09-08T17:12:36.277Z"
   },
   {
    "duration": 104,
    "start_time": "2022-09-08T17:12:38.676Z"
   },
   {
    "duration": 8,
    "start_time": "2022-09-08T17:12:42.786Z"
   },
   {
    "duration": 4,
    "start_time": "2022-09-08T17:12:48.100Z"
   },
   {
    "duration": 23,
    "start_time": "2022-09-08T17:13:09.536Z"
   },
   {
    "duration": 5,
    "start_time": "2022-09-08T17:14:15.105Z"
   },
   {
    "duration": 4,
    "start_time": "2022-09-08T17:14:47.563Z"
   },
   {
    "duration": 18,
    "start_time": "2022-09-08T17:14:51.294Z"
   },
   {
    "duration": 76,
    "start_time": "2022-09-08T17:15:22.190Z"
   },
   {
    "duration": 4,
    "start_time": "2022-09-08T17:15:25.986Z"
   },
   {
    "duration": 12,
    "start_time": "2022-09-08T17:15:28.302Z"
   },
   {
    "duration": 18,
    "start_time": "2022-09-08T17:15:31.443Z"
   },
   {
    "duration": 22,
    "start_time": "2022-09-08T17:15:35.799Z"
   },
   {
    "duration": 28,
    "start_time": "2022-09-08T17:15:42.049Z"
   },
   {
    "duration": 12,
    "start_time": "2022-09-08T17:15:46.257Z"
   },
   {
    "duration": 7,
    "start_time": "2022-09-08T17:15:48.666Z"
   },
   {
    "duration": 11,
    "start_time": "2022-09-08T17:15:51.607Z"
   },
   {
    "duration": 7,
    "start_time": "2022-09-08T17:15:58.889Z"
   },
   {
    "duration": 21,
    "start_time": "2022-09-08T17:16:01.345Z"
   },
   {
    "duration": 3032,
    "start_time": "2022-09-08T17:16:03.577Z"
   },
   {
    "duration": 5,
    "start_time": "2022-09-08T17:16:07.256Z"
   },
   {
    "duration": 9,
    "start_time": "2022-09-08T17:16:12.072Z"
   },
   {
    "duration": 6,
    "start_time": "2022-09-08T17:16:14.619Z"
   },
   {
    "duration": 5,
    "start_time": "2022-09-08T17:16:17.344Z"
   },
   {
    "duration": 6,
    "start_time": "2022-09-08T17:16:20.561Z"
   },
   {
    "duration": 95,
    "start_time": "2022-09-08T17:16:23.060Z"
   },
   {
    "duration": 9,
    "start_time": "2022-09-08T17:16:26.026Z"
   },
   {
    "duration": 9,
    "start_time": "2022-09-08T17:16:30.588Z"
   },
   {
    "duration": 4,
    "start_time": "2022-09-08T17:16:32.722Z"
   },
   {
    "duration": 5,
    "start_time": "2022-09-08T17:16:34.660Z"
   },
   {
    "duration": 5,
    "start_time": "2022-09-08T17:16:37.516Z"
   },
   {
    "duration": 114,
    "start_time": "2022-09-08T17:16:40.700Z"
   },
   {
    "duration": 8,
    "start_time": "2022-09-08T17:16:43.540Z"
   },
   {
    "duration": 4,
    "start_time": "2022-09-08T17:16:48.366Z"
   },
   {
    "duration": 5,
    "start_time": "2022-09-08T17:16:57.047Z"
   },
   {
    "duration": 18,
    "start_time": "2022-09-08T17:17:00.312Z"
   },
   {
    "duration": 6,
    "start_time": "2022-09-08T17:17:16.572Z"
   },
   {
    "duration": 4,
    "start_time": "2022-09-08T17:17:27.770Z"
   },
   {
    "duration": 5,
    "start_time": "2022-09-08T17:17:34.982Z"
   },
   {
    "duration": 76,
    "start_time": "2022-09-08T17:17:40.683Z"
   },
   {
    "duration": 4,
    "start_time": "2022-09-08T17:17:43.870Z"
   },
   {
    "duration": 18,
    "start_time": "2022-09-08T17:17:45.948Z"
   },
   {
    "duration": 16,
    "start_time": "2022-09-08T17:17:48.163Z"
   },
   {
    "duration": 20,
    "start_time": "2022-09-08T17:17:50.262Z"
   },
   {
    "duration": 22,
    "start_time": "2022-09-08T17:17:53.047Z"
   },
   {
    "duration": 13,
    "start_time": "2022-09-08T17:17:59.061Z"
   },
   {
    "duration": 7,
    "start_time": "2022-09-08T17:18:01.757Z"
   },
   {
    "duration": 11,
    "start_time": "2022-09-08T17:18:05.153Z"
   },
   {
    "duration": 6,
    "start_time": "2022-09-08T17:18:09.030Z"
   },
   {
    "duration": 16,
    "start_time": "2022-09-08T17:18:11.585Z"
   },
   {
    "duration": 2923,
    "start_time": "2022-09-08T17:18:14.156Z"
   },
   {
    "duration": 6,
    "start_time": "2022-09-08T17:18:25.057Z"
   },
   {
    "duration": 9,
    "start_time": "2022-09-08T17:18:29.170Z"
   },
   {
    "duration": 6,
    "start_time": "2022-09-08T17:18:30.864Z"
   },
   {
    "duration": 4,
    "start_time": "2022-09-08T17:18:33.780Z"
   },
   {
    "duration": 6,
    "start_time": "2022-09-08T17:18:36.819Z"
   },
   {
    "duration": 92,
    "start_time": "2022-09-08T17:18:39.560Z"
   },
   {
    "duration": 9,
    "start_time": "2022-09-08T17:18:42.505Z"
   },
   {
    "duration": 7,
    "start_time": "2022-09-08T17:18:45.492Z"
   },
   {
    "duration": 4,
    "start_time": "2022-09-08T17:18:47.471Z"
   },
   {
    "duration": 5,
    "start_time": "2022-09-08T17:18:49.542Z"
   },
   {
    "duration": 7,
    "start_time": "2022-09-08T17:18:52.900Z"
   },
   {
    "duration": 111,
    "start_time": "2022-09-08T17:18:55.964Z"
   },
   {
    "duration": 7,
    "start_time": "2022-09-08T17:19:00.560Z"
   },
   {
    "duration": 5,
    "start_time": "2022-09-08T17:19:06.865Z"
   },
   {
    "duration": 4,
    "start_time": "2022-09-08T17:19:10.143Z"
   },
   {
    "duration": 5,
    "start_time": "2022-09-08T17:19:13.207Z"
   },
   {
    "duration": 77,
    "start_time": "2022-09-08T17:19:50.644Z"
   },
   {
    "duration": 3,
    "start_time": "2022-09-08T17:19:56.781Z"
   },
   {
    "duration": 13,
    "start_time": "2022-09-08T17:19:58.744Z"
   },
   {
    "duration": 18,
    "start_time": "2022-09-08T17:20:01.756Z"
   },
   {
    "duration": 21,
    "start_time": "2022-09-08T17:20:04.365Z"
   },
   {
    "duration": 27,
    "start_time": "2022-09-08T17:20:06.864Z"
   },
   {
    "duration": 12,
    "start_time": "2022-09-08T17:20:10.723Z"
   },
   {
    "duration": 7,
    "start_time": "2022-09-08T17:20:13.471Z"
   },
   {
    "duration": 11,
    "start_time": "2022-09-08T17:20:17.004Z"
   },
   {
    "duration": 11,
    "start_time": "2022-09-08T17:20:20.745Z"
   },
   {
    "duration": 14,
    "start_time": "2022-09-08T17:20:23.506Z"
   },
   {
    "duration": 2875,
    "start_time": "2022-09-08T17:20:26.273Z"
   },
   {
    "duration": 5,
    "start_time": "2022-09-08T17:20:34.572Z"
   },
   {
    "duration": 8,
    "start_time": "2022-09-08T17:20:38.058Z"
   },
   {
    "duration": 7,
    "start_time": "2022-09-08T17:20:40.913Z"
   },
   {
    "duration": 5,
    "start_time": "2022-09-08T17:20:44.424Z"
   },
   {
    "duration": 6,
    "start_time": "2022-09-08T17:20:49.382Z"
   },
   {
    "duration": 118,
    "start_time": "2022-09-08T17:20:51.817Z"
   },
   {
    "duration": 8,
    "start_time": "2022-09-08T17:20:55.536Z"
   },
   {
    "duration": 8,
    "start_time": "2022-09-08T17:20:58.754Z"
   },
   {
    "duration": 3,
    "start_time": "2022-09-08T17:21:00.832Z"
   },
   {
    "duration": 5,
    "start_time": "2022-09-08T17:21:03.925Z"
   },
   {
    "duration": 7,
    "start_time": "2022-09-08T17:21:06.197Z"
   },
   {
    "duration": 116,
    "start_time": "2022-09-08T17:21:08.563Z"
   },
   {
    "duration": 7,
    "start_time": "2022-09-08T17:21:15.574Z"
   },
   {
    "duration": 4,
    "start_time": "2022-09-08T17:21:19.835Z"
   },
   {
    "duration": 5,
    "start_time": "2022-09-08T17:21:25.874Z"
   },
   {
    "duration": 89,
    "start_time": "2022-09-08T17:22:23.929Z"
   },
   {
    "duration": 4,
    "start_time": "2022-09-08T17:22:30.229Z"
   },
   {
    "duration": 6,
    "start_time": "2022-09-08T17:22:33.890Z"
   },
   {
    "duration": 18,
    "start_time": "2022-09-08T17:22:46.507Z"
   },
   {
    "duration": 4,
    "start_time": "2022-09-08T17:24:09.836Z"
   },
   {
    "duration": 24,
    "start_time": "2022-09-08T17:24:11.844Z"
   },
   {
    "duration": 3,
    "start_time": "2022-09-08T17:24:17.021Z"
   },
   {
    "duration": 20,
    "start_time": "2022-09-08T17:24:19.852Z"
   },
   {
    "duration": 4,
    "start_time": "2022-09-08T17:24:25.805Z"
   },
   {
    "duration": 19,
    "start_time": "2022-09-08T17:24:27.762Z"
   },
   {
    "duration": 6,
    "start_time": "2022-09-08T17:24:38.880Z"
   },
   {
    "duration": 6,
    "start_time": "2022-09-08T17:24:53.430Z"
   },
   {
    "duration": 17,
    "start_time": "2022-09-08T17:25:00.741Z"
   },
   {
    "duration": 6,
    "start_time": "2022-09-08T17:25:07.721Z"
   },
   {
    "duration": 113,
    "start_time": "2022-09-08T17:25:12.572Z"
   },
   {
    "duration": 7,
    "start_time": "2022-09-08T17:26:12.014Z"
   },
   {
    "duration": 9,
    "start_time": "2022-09-08T17:26:15.702Z"
   },
   {
    "duration": 7,
    "start_time": "2022-09-08T17:27:04.913Z"
   },
   {
    "duration": 5,
    "start_time": "2022-09-08T17:27:09.873Z"
   },
   {
    "duration": 5,
    "start_time": "2022-09-08T17:27:34.762Z"
   },
   {
    "duration": 2,
    "start_time": "2022-09-08T17:27:37.709Z"
   },
   {
    "duration": 5,
    "start_time": "2022-09-08T17:27:40.245Z"
   },
   {
    "duration": 6,
    "start_time": "2022-09-08T17:27:43.145Z"
   },
   {
    "duration": 6,
    "start_time": "2022-09-08T17:27:45.602Z"
   },
   {
    "duration": 4,
    "start_time": "2022-09-08T17:27:48.743Z"
   },
   {
    "duration": 5,
    "start_time": "2022-09-08T17:27:50.714Z"
   },
   {
    "duration": 5,
    "start_time": "2022-09-08T17:27:59.504Z"
   },
   {
    "duration": 3,
    "start_time": "2022-09-08T17:28:02.889Z"
   },
   {
    "duration": 6,
    "start_time": "2022-09-08T17:28:08.610Z"
   },
   {
    "duration": 17,
    "start_time": "2022-09-08T17:28:13.599Z"
   },
   {
    "duration": 20,
    "start_time": "2022-09-08T17:28:30.039Z"
   },
   {
    "duration": 23,
    "start_time": "2022-09-08T17:28:31.896Z"
   },
   {
    "duration": 22,
    "start_time": "2022-09-08T17:28:34.246Z"
   },
   {
    "duration": 6,
    "start_time": "2022-09-08T17:29:14.408Z"
   },
   {
    "duration": 10,
    "start_time": "2022-09-08T17:30:14.393Z"
   },
   {
    "duration": 4,
    "start_time": "2022-09-08T17:30:25.030Z"
   },
   {
    "duration": 15,
    "start_time": "2022-09-08T17:30:30.328Z"
   },
   {
    "duration": 4,
    "start_time": "2022-09-08T17:32:46.207Z"
   },
   {
    "duration": 4,
    "start_time": "2022-09-08T17:32:53.390Z"
   },
   {
    "duration": 6,
    "start_time": "2022-09-08T17:39:16.652Z"
   },
   {
    "duration": 4,
    "start_time": "2022-09-08T17:40:00.937Z"
   },
   {
    "duration": 19,
    "start_time": "2022-09-08T17:40:29.860Z"
   },
   {
    "duration": 8,
    "start_time": "2022-09-08T17:42:21.642Z"
   },
   {
    "duration": 10,
    "start_time": "2022-09-08T17:46:07.845Z"
   },
   {
    "duration": 23,
    "start_time": "2022-09-08T17:47:42.336Z"
   },
   {
    "duration": 12,
    "start_time": "2022-09-08T17:48:02.652Z"
   },
   {
    "duration": 26,
    "start_time": "2022-09-08T17:48:25.511Z"
   },
   {
    "duration": 26,
    "start_time": "2022-09-08T17:49:05.193Z"
   },
   {
    "duration": 25,
    "start_time": "2022-09-08T17:49:10.970Z"
   },
   {
    "duration": 8,
    "start_time": "2022-09-08T17:49:21.321Z"
   },
   {
    "duration": 23,
    "start_time": "2022-09-08T17:49:32.816Z"
   },
   {
    "duration": 23,
    "start_time": "2022-09-08T17:50:26.906Z"
   },
   {
    "duration": 5,
    "start_time": "2022-09-08T17:51:14.811Z"
   },
   {
    "duration": 6,
    "start_time": "2022-09-08T17:51:25.191Z"
   },
   {
    "duration": 34,
    "start_time": "2022-09-08T17:51:45.472Z"
   },
   {
    "duration": 23,
    "start_time": "2022-09-08T17:54:17.349Z"
   },
   {
    "duration": 24,
    "start_time": "2022-09-08T17:54:33.212Z"
   },
   {
    "duration": 25,
    "start_time": "2022-09-08T17:54:58.866Z"
   },
   {
    "duration": 5,
    "start_time": "2022-09-08T17:55:01.736Z"
   },
   {
    "duration": 6,
    "start_time": "2022-09-08T17:55:04.266Z"
   },
   {
    "duration": 5,
    "start_time": "2022-09-08T17:55:14.229Z"
   },
   {
    "duration": 5,
    "start_time": "2022-09-08T17:55:21.003Z"
   },
   {
    "duration": 6,
    "start_time": "2022-09-08T17:55:30.372Z"
   },
   {
    "duration": 5,
    "start_time": "2022-09-08T17:55:32.203Z"
   },
   {
    "duration": 6,
    "start_time": "2022-09-08T17:57:46.685Z"
   },
   {
    "duration": 11,
    "start_time": "2022-09-08T17:58:30.940Z"
   },
   {
    "duration": 20,
    "start_time": "2022-09-08T17:58:45.257Z"
   },
   {
    "duration": 5,
    "start_time": "2022-09-08T17:59:12.298Z"
   },
   {
    "duration": 3,
    "start_time": "2022-09-08T18:03:40.148Z"
   },
   {
    "duration": 8,
    "start_time": "2022-09-08T18:07:25.924Z"
   },
   {
    "duration": 3,
    "start_time": "2022-09-08T18:09:56.392Z"
   },
   {
    "duration": 8,
    "start_time": "2022-09-08T18:10:32.529Z"
   },
   {
    "duration": 6,
    "start_time": "2022-09-08T18:11:32.757Z"
   },
   {
    "duration": 4,
    "start_time": "2022-09-08T18:11:38.969Z"
   },
   {
    "duration": 5,
    "start_time": "2022-09-08T18:12:38.001Z"
   },
   {
    "duration": 5,
    "start_time": "2022-09-08T18:12:44.608Z"
   },
   {
    "duration": 75,
    "start_time": "2022-09-08T18:13:52.440Z"
   },
   {
    "duration": 5,
    "start_time": "2022-09-08T18:15:15.742Z"
   },
   {
    "duration": 9,
    "start_time": "2022-09-08T18:15:52.156Z"
   },
   {
    "duration": 5,
    "start_time": "2022-09-08T18:16:10.160Z"
   },
   {
    "duration": 4,
    "start_time": "2022-09-08T18:16:39.842Z"
   },
   {
    "duration": 3,
    "start_time": "2022-09-08T18:17:03.116Z"
   },
   {
    "duration": 5,
    "start_time": "2022-09-08T18:17:06.589Z"
   },
   {
    "duration": 4,
    "start_time": "2022-09-08T18:17:15.978Z"
   },
   {
    "duration": 3,
    "start_time": "2022-09-08T18:18:04.979Z"
   },
   {
    "duration": 952,
    "start_time": "2022-09-08T18:18:13.891Z"
   },
   {
    "duration": 6,
    "start_time": "2022-09-08T18:19:57.426Z"
   },
   {
    "duration": 4,
    "start_time": "2022-09-08T18:20:08.219Z"
   },
   {
    "duration": 13,
    "start_time": "2022-09-08T18:21:26.958Z"
   },
   {
    "duration": 25,
    "start_time": "2022-09-08T18:21:43.962Z"
   },
   {
    "duration": 6,
    "start_time": "2022-09-08T18:23:35.052Z"
   },
   {
    "duration": 5,
    "start_time": "2022-09-08T18:23:37.353Z"
   },
   {
    "duration": 5,
    "start_time": "2022-09-08T18:23:41.078Z"
   },
   {
    "duration": 3,
    "start_time": "2022-09-08T18:24:35.320Z"
   },
   {
    "duration": 5,
    "start_time": "2022-09-08T18:24:36.870Z"
   },
   {
    "duration": 5,
    "start_time": "2022-09-08T18:24:38.820Z"
   },
   {
    "duration": 3,
    "start_time": "2022-09-08T18:24:59.931Z"
   },
   {
    "duration": 3,
    "start_time": "2022-09-08T18:25:06.249Z"
   },
   {
    "duration": 4,
    "start_time": "2022-09-08T18:29:09.003Z"
   },
   {
    "duration": 11,
    "start_time": "2022-09-08T18:30:52.014Z"
   },
   {
    "duration": 3,
    "start_time": "2022-09-08T18:31:59.370Z"
   },
   {
    "duration": 15,
    "start_time": "2022-09-08T18:32:04.292Z"
   },
   {
    "duration": 14,
    "start_time": "2022-09-08T18:33:39.438Z"
   },
   {
    "duration": 13,
    "start_time": "2022-09-08T18:38:46.409Z"
   },
   {
    "duration": 96,
    "start_time": "2022-09-08T18:41:38.722Z"
   },
   {
    "duration": 79,
    "start_time": "2022-09-08T18:42:00.105Z"
   },
   {
    "duration": 3,
    "start_time": "2022-09-08T18:42:04.513Z"
   },
   {
    "duration": 10,
    "start_time": "2022-09-08T18:42:29.243Z"
   },
   {
    "duration": 8,
    "start_time": "2022-09-08T18:42:36.233Z"
   },
   {
    "duration": 3,
    "start_time": "2022-09-08T18:43:07.195Z"
   },
   {
    "duration": 9,
    "start_time": "2022-09-08T18:43:09.094Z"
   },
   {
    "duration": 9,
    "start_time": "2022-09-08T18:43:20.400Z"
   },
   {
    "duration": 5,
    "start_time": "2022-09-08T18:43:43.517Z"
   },
   {
    "duration": 5,
    "start_time": "2022-09-08T18:47:56.618Z"
   },
   {
    "duration": 15,
    "start_time": "2022-09-08T18:48:26.401Z"
   },
   {
    "duration": 11,
    "start_time": "2022-09-08T18:49:02.388Z"
   },
   {
    "duration": 3,
    "start_time": "2022-09-08T18:49:07.820Z"
   },
   {
    "duration": 6,
    "start_time": "2022-09-08T18:49:09.721Z"
   },
   {
    "duration": 6,
    "start_time": "2022-09-08T18:49:11.736Z"
   },
   {
    "duration": 6,
    "start_time": "2022-09-08T18:49:13.847Z"
   },
   {
    "duration": 5,
    "start_time": "2022-09-08T18:49:16.239Z"
   },
   {
    "duration": 4,
    "start_time": "2022-09-08T18:49:23.784Z"
   },
   {
    "duration": 10,
    "start_time": "2022-09-08T18:50:08.257Z"
   },
   {
    "duration": 4,
    "start_time": "2022-09-08T18:50:11.137Z"
   },
   {
    "duration": 5,
    "start_time": "2022-09-08T18:50:12.659Z"
   },
   {
    "duration": 136,
    "start_time": "2022-09-08T18:50:42.851Z"
   },
   {
    "duration": 5,
    "start_time": "2022-09-08T18:51:37.340Z"
   },
   {
    "duration": 5,
    "start_time": "2022-09-08T18:51:53.017Z"
   },
   {
    "duration": 4,
    "start_time": "2022-09-08T18:52:55.096Z"
   },
   {
    "duration": 16,
    "start_time": "2022-09-08T18:53:08.140Z"
   }
  ],
  "kernelspec": {
   "display_name": "Python 3 (ipykernel)",
   "language": "python",
   "name": "python3"
  },
  "language_info": {
   "codemirror_mode": {
    "name": "ipython",
    "version": 3
   },
   "file_extension": ".py",
   "mimetype": "text/x-python",
   "name": "python",
   "nbconvert_exporter": "python",
   "pygments_lexer": "ipython3",
   "version": "3.10.11"
  },
  "toc": {
   "base_numbering": 1,
   "nav_menu": {},
   "number_sections": true,
   "sideBar": true,
   "skip_h1_title": true,
   "title_cell": "Table of Contents",
   "title_sidebar": "Contents",
   "toc_cell": false,
   "toc_position": {},
   "toc_section_display": true,
   "toc_window_display": false
  }
 },
 "nbformat": 4,
 "nbformat_minor": 2
}
